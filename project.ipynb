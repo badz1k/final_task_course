{
 "cells": [
  {
   "cell_type": "code",
   "execution_count": 1,
   "metadata": {},
   "outputs": [],
   "source": [
    "# import main library"
   ]
  },
  {
   "cell_type": "code",
   "execution_count": 2,
   "metadata": {},
   "outputs": [],
   "source": [
    "import pandas as pd\n",
    "import numpy as np\n",
    "import seaborn as sns\n",
    "import matplotlib.pyplot as plt\n",
    "import scipy.stats\n",
    "from scipy.stats import chi2_contingency\n",
    "from scipy.stats import levene\n",
    "from scipy.stats import ttest_ind\n",
    "from scipy.stats import mannwhitneyu\n",
    "from scipy.stats import shapiro"
   ]
  },
  {
   "cell_type": "code",
   "execution_count": 3,
   "metadata": {},
   "outputs": [],
   "source": [
    "df_test=pd.read_csv('/mnt/HC_Volume_18315164/home-jupyter/jupyter-dmitrij-badzjun-gr-69da5/my_final_project/Проект_3_users_test.csv', sep=';')"
   ]
  },
  {
   "cell_type": "code",
   "execution_count": 4,
   "metadata": {},
   "outputs": [],
   "source": [
    "df_control1=pd.read_csv('/mnt/HC_Volume_18315164/home-jupyter/jupyter-dmitrij-badzjun-gr-69da5/my_final_project/Проект_3_users_control_1.csv', sep=';')"
   ]
  },
  {
   "cell_type": "code",
   "execution_count": 5,
   "metadata": {},
   "outputs": [],
   "source": [
    "df_control2=pd.read_csv('/mnt/HC_Volume_18315164/home-jupyter/jupyter-dmitrij-badzjun-gr-69da5/my_final_project/Проект_3_users_control_2.csv', sep=';')"
   ]
  },
  {
   "cell_type": "code",
   "execution_count": 6,
   "metadata": {},
   "outputs": [],
   "source": [
    "df_transactions_control1=pd.read_csv('/mnt/HC_Volume_18315164/home-jupyter/jupyter-dmitrij-badzjun-gr-69da5/my_final_project/Проект_3_transactions_control_1.csv', sep=';')"
   ]
  },
  {
   "cell_type": "code",
   "execution_count": 7,
   "metadata": {},
   "outputs": [],
   "source": [
    "df_transactions_control2=pd.read_csv('/mnt/HC_Volume_18315164/home-jupyter/jupyter-dmitrij-badzjun-gr-69da5/my_final_project/Проект_3_transactions_control_2.csv', sep=';')"
   ]
  },
  {
   "cell_type": "code",
   "execution_count": 8,
   "metadata": {},
   "outputs": [],
   "source": [
    "df_transactions_test=pd.read_csv('/mnt/HC_Volume_18315164/home-jupyter/jupyter-dmitrij-badzjun-gr-69da5/my_final_project/Проект_3_transactions_test.csv', sep=';')"
   ]
  },
  {
   "cell_type": "code",
   "execution_count": 9,
   "metadata": {},
   "outputs": [],
   "source": [
    "#Начнем с создания одной единий таблицы\n",
    "#Для этого в каждом фрейме пропишем к группе пользователи данного фрейма относятся"
   ]
  },
  {
   "cell_type": "code",
   "execution_count": 10,
   "metadata": {},
   "outputs": [],
   "source": [
    "df_test['group']= 'test'\n",
    "df_control1['group']= 'control1'\n",
    "df_control2['group']= 'control2'\n",
    "df_transactions_control1['group']= 'control1'\n",
    "df_transactions_control2['group']= 'control2'\n",
    "df_transactions_test['group']= 'test'"
   ]
  },
  {
   "cell_type": "code",
   "execution_count": 11,
   "metadata": {},
   "outputs": [],
   "source": [
    "df_users=pd.concat([df_test,df_control1,df_control2], ignore_index=True)"
   ]
  },
  {
   "cell_type": "code",
   "execution_count": 12,
   "metadata": {},
   "outputs": [],
   "source": [
    "df_payments=pd.concat([df_transactions_test,df_transactions_control1,df_transactions_control2], ignore_index=True)"
   ]
  },
  {
   "cell_type": "code",
   "execution_count": 13,
   "metadata": {},
   "outputs": [
    {
     "data": {
      "text/html": [
       "<div>\n",
       "<style scoped>\n",
       "    .dataframe tbody tr th:only-of-type {\n",
       "        vertical-align: middle;\n",
       "    }\n",
       "\n",
       "    .dataframe tbody tr th {\n",
       "        vertical-align: top;\n",
       "    }\n",
       "\n",
       "    .dataframe thead th {\n",
       "        text-align: right;\n",
       "    }\n",
       "</style>\n",
       "<table border=\"1\" class=\"dataframe\">\n",
       "  <thead>\n",
       "    <tr style=\"text-align: right;\">\n",
       "      <th></th>\n",
       "      <th>uid</th>\n",
       "      <th>age</th>\n",
       "      <th>attraction_coeff</th>\n",
       "      <th>coins</th>\n",
       "      <th>country_x</th>\n",
       "      <th>visit_days</th>\n",
       "      <th>gender</th>\n",
       "      <th>age_filter_start</th>\n",
       "      <th>age_filter_end</th>\n",
       "      <th>views_count</th>\n",
       "      <th>...</th>\n",
       "      <th>total_revenue</th>\n",
       "      <th>group_x</th>\n",
       "      <th>country_y</th>\n",
       "      <th>joined_at</th>\n",
       "      <th>paid_at</th>\n",
       "      <th>revenue</th>\n",
       "      <th>payment_id</th>\n",
       "      <th>from_page</th>\n",
       "      <th>product_type</th>\n",
       "      <th>group_y</th>\n",
       "    </tr>\n",
       "  </thead>\n",
       "  <tbody>\n",
       "    <tr>\n",
       "      <th>0</th>\n",
       "      <td>892309896</td>\n",
       "      <td>27</td>\n",
       "      <td>685</td>\n",
       "      <td>NaN</td>\n",
       "      <td>United States of America</td>\n",
       "      <td>1,2,3,4,5,6,7,8,9,10,11,12,16,17</td>\n",
       "      <td>1</td>\n",
       "      <td>24</td>\n",
       "      <td>30</td>\n",
       "      <td>89</td>\n",
       "      <td>...</td>\n",
       "      <td>0</td>\n",
       "      <td>test</td>\n",
       "      <td>NaN</td>\n",
       "      <td>NaN</td>\n",
       "      <td>NaN</td>\n",
       "      <td>NaN</td>\n",
       "      <td>NaN</td>\n",
       "      <td>NaN</td>\n",
       "      <td>NaN</td>\n",
       "      <td>NaN</td>\n",
       "    </tr>\n",
       "    <tr>\n",
       "      <th>1</th>\n",
       "      <td>892044516</td>\n",
       "      <td>27</td>\n",
       "      <td>0</td>\n",
       "      <td>NaN</td>\n",
       "      <td>Germany</td>\n",
       "      <td>NaN</td>\n",
       "      <td>1</td>\n",
       "      <td>24</td>\n",
       "      <td>30</td>\n",
       "      <td>0</td>\n",
       "      <td>...</td>\n",
       "      <td>0</td>\n",
       "      <td>test</td>\n",
       "      <td>NaN</td>\n",
       "      <td>NaN</td>\n",
       "      <td>NaN</td>\n",
       "      <td>NaN</td>\n",
       "      <td>NaN</td>\n",
       "      <td>NaN</td>\n",
       "      <td>NaN</td>\n",
       "      <td>NaN</td>\n",
       "    </tr>\n",
       "    <tr>\n",
       "      <th>2</th>\n",
       "      <td>892185708</td>\n",
       "      <td>45</td>\n",
       "      <td>44</td>\n",
       "      <td>NaN</td>\n",
       "      <td>Israel</td>\n",
       "      <td>1,3,4,6,7,8,10,11,12,13,14,15,16,17,18,19,20,2...</td>\n",
       "      <td>1</td>\n",
       "      <td>42</td>\n",
       "      <td>48</td>\n",
       "      <td>68</td>\n",
       "      <td>...</td>\n",
       "      <td>0</td>\n",
       "      <td>test</td>\n",
       "      <td>NaN</td>\n",
       "      <td>NaN</td>\n",
       "      <td>NaN</td>\n",
       "      <td>NaN</td>\n",
       "      <td>NaN</td>\n",
       "      <td>NaN</td>\n",
       "      <td>NaN</td>\n",
       "      <td>NaN</td>\n",
       "    </tr>\n",
       "    <tr>\n",
       "      <th>3</th>\n",
       "      <td>892130292</td>\n",
       "      <td>32</td>\n",
       "      <td>0</td>\n",
       "      <td>NaN</td>\n",
       "      <td>United States of America</td>\n",
       "      <td>1,2,3,4,5,6,7,8,9,10,11,12</td>\n",
       "      <td>1</td>\n",
       "      <td>29</td>\n",
       "      <td>35</td>\n",
       "      <td>0</td>\n",
       "      <td>...</td>\n",
       "      <td>0</td>\n",
       "      <td>test</td>\n",
       "      <td>NaN</td>\n",
       "      <td>NaN</td>\n",
       "      <td>NaN</td>\n",
       "      <td>NaN</td>\n",
       "      <td>NaN</td>\n",
       "      <td>NaN</td>\n",
       "      <td>NaN</td>\n",
       "      <td>NaN</td>\n",
       "    </tr>\n",
       "    <tr>\n",
       "      <th>4</th>\n",
       "      <td>891406035</td>\n",
       "      <td>27</td>\n",
       "      <td>1000</td>\n",
       "      <td>NaN</td>\n",
       "      <td>France</td>\n",
       "      <td>NaN</td>\n",
       "      <td>1</td>\n",
       "      <td>24</td>\n",
       "      <td>30</td>\n",
       "      <td>1</td>\n",
       "      <td>...</td>\n",
       "      <td>0</td>\n",
       "      <td>test</td>\n",
       "      <td>NaN</td>\n",
       "      <td>NaN</td>\n",
       "      <td>NaN</td>\n",
       "      <td>NaN</td>\n",
       "      <td>NaN</td>\n",
       "      <td>NaN</td>\n",
       "      <td>NaN</td>\n",
       "      <td>NaN</td>\n",
       "    </tr>\n",
       "    <tr>\n",
       "      <th>...</th>\n",
       "      <td>...</td>\n",
       "      <td>...</td>\n",
       "      <td>...</td>\n",
       "      <td>...</td>\n",
       "      <td>...</td>\n",
       "      <td>...</td>\n",
       "      <td>...</td>\n",
       "      <td>...</td>\n",
       "      <td>...</td>\n",
       "      <td>...</td>\n",
       "      <td>...</td>\n",
       "      <td>...</td>\n",
       "      <td>...</td>\n",
       "      <td>...</td>\n",
       "      <td>...</td>\n",
       "      <td>...</td>\n",
       "      <td>...</td>\n",
       "      <td>...</td>\n",
       "      <td>...</td>\n",
       "      <td>...</td>\n",
       "      <td>...</td>\n",
       "    </tr>\n",
       "    <tr>\n",
       "      <th>13359</th>\n",
       "      <td>891937401</td>\n",
       "      <td>63</td>\n",
       "      <td>242</td>\n",
       "      <td>NaN</td>\n",
       "      <td>Italy</td>\n",
       "      <td>1,2</td>\n",
       "      <td>1</td>\n",
       "      <td>50</td>\n",
       "      <td>66</td>\n",
       "      <td>33</td>\n",
       "      <td>...</td>\n",
       "      <td>0</td>\n",
       "      <td>control2</td>\n",
       "      <td>NaN</td>\n",
       "      <td>NaN</td>\n",
       "      <td>NaN</td>\n",
       "      <td>NaN</td>\n",
       "      <td>NaN</td>\n",
       "      <td>NaN</td>\n",
       "      <td>NaN</td>\n",
       "      <td>NaN</td>\n",
       "    </tr>\n",
       "    <tr>\n",
       "      <th>13360</th>\n",
       "      <td>891692844</td>\n",
       "      <td>35</td>\n",
       "      <td>500</td>\n",
       "      <td>NaN</td>\n",
       "      <td>France</td>\n",
       "      <td>1,2,3,4,5,6,8,9,10,11,12,14,16</td>\n",
       "      <td>1</td>\n",
       "      <td>24</td>\n",
       "      <td>45</td>\n",
       "      <td>2</td>\n",
       "      <td>...</td>\n",
       "      <td>0</td>\n",
       "      <td>control2</td>\n",
       "      <td>NaN</td>\n",
       "      <td>NaN</td>\n",
       "      <td>NaN</td>\n",
       "      <td>NaN</td>\n",
       "      <td>NaN</td>\n",
       "      <td>NaN</td>\n",
       "      <td>NaN</td>\n",
       "      <td>NaN</td>\n",
       "    </tr>\n",
       "    <tr>\n",
       "      <th>13361</th>\n",
       "      <td>891096429</td>\n",
       "      <td>41</td>\n",
       "      <td>333</td>\n",
       "      <td>NaN</td>\n",
       "      <td>United States of America</td>\n",
       "      <td>NaN</td>\n",
       "      <td>1</td>\n",
       "      <td>38</td>\n",
       "      <td>44</td>\n",
       "      <td>6</td>\n",
       "      <td>...</td>\n",
       "      <td>0</td>\n",
       "      <td>control2</td>\n",
       "      <td>NaN</td>\n",
       "      <td>NaN</td>\n",
       "      <td>NaN</td>\n",
       "      <td>NaN</td>\n",
       "      <td>NaN</td>\n",
       "      <td>NaN</td>\n",
       "      <td>NaN</td>\n",
       "      <td>NaN</td>\n",
       "    </tr>\n",
       "    <tr>\n",
       "      <th>13362</th>\n",
       "      <td>891697584</td>\n",
       "      <td>48</td>\n",
       "      <td>210</td>\n",
       "      <td>NaN</td>\n",
       "      <td>United Kingdom (Great Britain)</td>\n",
       "      <td>2,3,5,7,9,10,12,14,15</td>\n",
       "      <td>1</td>\n",
       "      <td>45</td>\n",
       "      <td>51</td>\n",
       "      <td>19</td>\n",
       "      <td>...</td>\n",
       "      <td>0</td>\n",
       "      <td>control2</td>\n",
       "      <td>NaN</td>\n",
       "      <td>NaN</td>\n",
       "      <td>NaN</td>\n",
       "      <td>NaN</td>\n",
       "      <td>NaN</td>\n",
       "      <td>NaN</td>\n",
       "      <td>NaN</td>\n",
       "      <td>NaN</td>\n",
       "    </tr>\n",
       "    <tr>\n",
       "      <th>13363</th>\n",
       "      <td>891095634</td>\n",
       "      <td>22</td>\n",
       "      <td>0</td>\n",
       "      <td>NaN</td>\n",
       "      <td>Italy</td>\n",
       "      <td>NaN</td>\n",
       "      <td>1</td>\n",
       "      <td>19</td>\n",
       "      <td>25</td>\n",
       "      <td>0</td>\n",
       "      <td>...</td>\n",
       "      <td>0</td>\n",
       "      <td>control2</td>\n",
       "      <td>NaN</td>\n",
       "      <td>NaN</td>\n",
       "      <td>NaN</td>\n",
       "      <td>NaN</td>\n",
       "      <td>NaN</td>\n",
       "      <td>NaN</td>\n",
       "      <td>NaN</td>\n",
       "      <td>NaN</td>\n",
       "    </tr>\n",
       "  </tbody>\n",
       "</table>\n",
       "<p>13364 rows × 22 columns</p>\n",
       "</div>"
      ],
      "text/plain": [
       "             uid  age  attraction_coeff  coins  \\\n",
       "0      892309896   27               685    NaN   \n",
       "1      892044516   27                 0    NaN   \n",
       "2      892185708   45                44    NaN   \n",
       "3      892130292   32                 0    NaN   \n",
       "4      891406035   27              1000    NaN   \n",
       "...          ...  ...               ...    ...   \n",
       "13359  891937401   63               242    NaN   \n",
       "13360  891692844   35               500    NaN   \n",
       "13361  891096429   41               333    NaN   \n",
       "13362  891697584   48               210    NaN   \n",
       "13363  891095634   22                 0    NaN   \n",
       "\n",
       "                            country_x  \\\n",
       "0            United States of America   \n",
       "1                             Germany   \n",
       "2                              Israel   \n",
       "3            United States of America   \n",
       "4                              France   \n",
       "...                               ...   \n",
       "13359                           Italy   \n",
       "13360                          France   \n",
       "13361        United States of America   \n",
       "13362  United Kingdom (Great Britain)   \n",
       "13363                           Italy   \n",
       "\n",
       "                                              visit_days  gender  \\\n",
       "0                       1,2,3,4,5,6,7,8,9,10,11,12,16,17       1   \n",
       "1                                                    NaN       1   \n",
       "2      1,3,4,6,7,8,10,11,12,13,14,15,16,17,18,19,20,2...       1   \n",
       "3                             1,2,3,4,5,6,7,8,9,10,11,12       1   \n",
       "4                                                    NaN       1   \n",
       "...                                                  ...     ...   \n",
       "13359                                                1,2       1   \n",
       "13360                     1,2,3,4,5,6,8,9,10,11,12,14,16       1   \n",
       "13361                                                NaN       1   \n",
       "13362                              2,3,5,7,9,10,12,14,15       1   \n",
       "13363                                                NaN       1   \n",
       "\n",
       "       age_filter_start  age_filter_end  views_count  ...  total_revenue  \\\n",
       "0                    24              30           89  ...              0   \n",
       "1                    24              30            0  ...              0   \n",
       "2                    42              48           68  ...              0   \n",
       "3                    29              35            0  ...              0   \n",
       "4                    24              30            1  ...              0   \n",
       "...                 ...             ...          ...  ...            ...   \n",
       "13359                50              66           33  ...              0   \n",
       "13360                24              45            2  ...              0   \n",
       "13361                38              44            6  ...              0   \n",
       "13362                45              51           19  ...              0   \n",
       "13363                19              25            0  ...              0   \n",
       "\n",
       "        group_x  country_y joined_at paid_at revenue payment_id  from_page  \\\n",
       "0          test        NaN       NaN     NaN     NaN        NaN        NaN   \n",
       "1          test        NaN       NaN     NaN     NaN        NaN        NaN   \n",
       "2          test        NaN       NaN     NaN     NaN        NaN        NaN   \n",
       "3          test        NaN       NaN     NaN     NaN        NaN        NaN   \n",
       "4          test        NaN       NaN     NaN     NaN        NaN        NaN   \n",
       "...         ...        ...       ...     ...     ...        ...        ...   \n",
       "13359  control2        NaN       NaN     NaN     NaN        NaN        NaN   \n",
       "13360  control2        NaN       NaN     NaN     NaN        NaN        NaN   \n",
       "13361  control2        NaN       NaN     NaN     NaN        NaN        NaN   \n",
       "13362  control2        NaN       NaN     NaN     NaN        NaN        NaN   \n",
       "13363  control2        NaN       NaN     NaN     NaN        NaN        NaN   \n",
       "\n",
       "       product_type group_y  \n",
       "0               NaN     NaN  \n",
       "1               NaN     NaN  \n",
       "2               NaN     NaN  \n",
       "3               NaN     NaN  \n",
       "4               NaN     NaN  \n",
       "...             ...     ...  \n",
       "13359           NaN     NaN  \n",
       "13360           NaN     NaN  \n",
       "13361           NaN     NaN  \n",
       "13362           NaN     NaN  \n",
       "13363           NaN     NaN  \n",
       "\n",
       "[13364 rows x 22 columns]"
      ]
     },
     "execution_count": 13,
     "metadata": {},
     "output_type": "execute_result"
    }
   ],
   "source": [
    "df_final=df_users.merge(df_payments,how='left',on='uid')\n",
    "df_final"
   ]
  },
  {
   "cell_type": "code",
   "execution_count": 14,
   "metadata": {},
   "outputs": [],
   "source": [
    "df_final=df_final[['uid','age','attraction_coeff','coins','country_x','visit_days','gender','age_filter_start','age_filter_end','views_count','was_premium','is_premium','total_revenue','joined_at','paid_at','revenue','payment_id','from_page','product_type','group_x']]"
   ]
  },
  {
   "cell_type": "code",
   "execution_count": 15,
   "metadata": {},
   "outputs": [
    {
     "data": {
      "text/plain": [
       "uid                     0\n",
       "age                     0\n",
       "attraction_coeff        0\n",
       "coins               12830\n",
       "country_x               0\n",
       "visit_days           4020\n",
       "gender                  0\n",
       "age_filter_start        0\n",
       "age_filter_end          0\n",
       "views_count             0\n",
       "was_premium         11678\n",
       "is_premium          12440\n",
       "total_revenue           0\n",
       "joined_at           12386\n",
       "paid_at             12386\n",
       "revenue             12386\n",
       "payment_id          12386\n",
       "from_page           12386\n",
       "product_type        12386\n",
       "group_x                 0\n",
       "dtype: int64"
      ]
     },
     "execution_count": 15,
     "metadata": {},
     "output_type": "execute_result"
    }
   ],
   "source": [
    "df_final.isna().sum()"
   ]
  },
  {
   "cell_type": "code",
   "execution_count": 16,
   "metadata": {},
   "outputs": [
    {
     "name": "stderr",
     "output_type": "stream",
     "text": [
      "/opt/tljh/user/lib/python3.7/site-packages/pandas/core/generic.py:5165: SettingWithCopyWarning: \n",
      "A value is trying to be set on a copy of a slice from a DataFrame.\n",
      "Try using .loc[row_indexer,col_indexer] = value instead\n",
      "\n",
      "See the caveats in the documentation: https://pandas.pydata.org/pandas-docs/stable/user_guide/indexing.html#returning-a-view-versus-a-copy\n",
      "  self[name] = value\n"
     ]
    }
   ],
   "source": [
    "df_final.coins=df_final.coins.fillna(0)"
   ]
  },
  {
   "cell_type": "code",
   "execution_count": 17,
   "metadata": {},
   "outputs": [],
   "source": [
    "df_final.visit_days=df_final.visit_days.fillna(0)"
   ]
  },
  {
   "cell_type": "code",
   "execution_count": 18,
   "metadata": {},
   "outputs": [],
   "source": [
    "df_final.was_premium=df_final.was_premium.fillna(0)\n"
   ]
  },
  {
   "cell_type": "code",
   "execution_count": 19,
   "metadata": {},
   "outputs": [],
   "source": [
    "df_final.is_premium=df_final.is_premium.fillna(0)"
   ]
  },
  {
   "cell_type": "code",
   "execution_count": 20,
   "metadata": {},
   "outputs": [
    {
     "data": {
      "text/plain": [
       "<seaborn.axisgrid.FacetGrid at 0x7f44db42e4e0>"
      ]
     },
     "execution_count": 20,
     "metadata": {},
     "output_type": "execute_result"
    },
    {
     "data": {
      "image/png": "[encoded data removed]",
      "text/plain": [
       "<Figure size 360x360 with 1 Axes>"
      ]
     },
     "metadata": {
      "needs_background": "light"
     },
     "output_type": "display_data"
    }
   ],
   "source": [
    "sns.displot(df_final[df_final['group_x']=='test'].age)"
   ]
  },
  {
   "cell_type": "code",
   "execution_count": 21,
   "metadata": {},
   "outputs": [
    {
     "data": {
      "text/plain": [
       "<seaborn.axisgrid.FacetGrid at 0x7f44d939af60>"
      ]
     },
     "execution_count": 21,
     "metadata": {},
     "output_type": "execute_result"
    },
    {
     "data": {
      "image/png": "[encoded data removed]",
      "text/plain": [
       "<Figure size 360x360 with 1 Axes>"
      ]
     },
     "metadata": {
      "needs_background": "light"
     },
     "output_type": "display_data"
    }
   ],
   "source": [
    "sns.displot(df_final[df_final['group_x']=='control1'].age)"
   ]
  },
  {
   "cell_type": "code",
   "execution_count": 22,
   "metadata": {},
   "outputs": [
    {
     "data": {
      "text/plain": [
       "<seaborn.axisgrid.FacetGrid at 0x7f44d8dccb00>"
      ]
     },
     "execution_count": 22,
     "metadata": {},
     "output_type": "execute_result"
    },
    {
     "data": {
      "image/png": "[encoded data removed]",
      "text/plain": [
       "<Figure size 360x360 with 1 Axes>"
      ]
     },
     "metadata": {
      "needs_background": "light"
     },
     "output_type": "display_data"
    }
   ],
   "source": [
    "sns.displot(df_final[df_final['group_x']=='control2'].age)"
   ]
  },
  {
   "cell_type": "code",
   "execution_count": 23,
   "metadata": {},
   "outputs": [],
   "source": [
    "#Проверка распределения категориальных данных (gender) при помощи хи-квадрат"
   ]
  },
  {
   "cell_type": "code",
   "execution_count": 24,
   "metadata": {},
   "outputs": [
    {
     "data": {
      "text/html": [
       "<div>\n",
       "<style scoped>\n",
       "    .dataframe tbody tr th:only-of-type {\n",
       "        vertical-align: middle;\n",
       "    }\n",
       "\n",
       "    .dataframe tbody tr th {\n",
       "        vertical-align: top;\n",
       "    }\n",
       "\n",
       "    .dataframe thead th {\n",
       "        text-align: right;\n",
       "    }\n",
       "</style>\n",
       "<table border=\"1\" class=\"dataframe\">\n",
       "  <thead>\n",
       "    <tr style=\"text-align: right;\">\n",
       "      <th>gender</th>\n",
       "      <th>0</th>\n",
       "      <th>1</th>\n",
       "    </tr>\n",
       "    <tr>\n",
       "      <th>group_x</th>\n",
       "      <th></th>\n",
       "      <th></th>\n",
       "    </tr>\n",
       "  </thead>\n",
       "  <tbody>\n",
       "    <tr>\n",
       "      <th>control1</th>\n",
       "      <td>182</td>\n",
       "      <td>4342</td>\n",
       "    </tr>\n",
       "    <tr>\n",
       "      <th>test</th>\n",
       "      <td>202</td>\n",
       "      <td>4233</td>\n",
       "    </tr>\n",
       "  </tbody>\n",
       "</table>\n",
       "</div>"
      ],
      "text/plain": [
       "gender      0     1\n",
       "group_x            \n",
       "control1  182  4342\n",
       "test      202  4233"
      ]
     },
     "execution_count": 24,
     "metadata": {},
     "output_type": "execute_result"
    }
   ],
   "source": [
    "count_gender_test_control1=df_final[(df_final['group_x']=='test')|(df_final['group_x']=='control1')].groupby(['group_x','gender'])['uid'].count().unstack()\n",
    "count_gender_test_control1"
   ]
  },
  {
   "cell_type": "code",
   "execution_count": 25,
   "metadata": {},
   "outputs": [
    {
     "data": {
      "text/plain": [
       "(1.4163383225350283,\n",
       " 0.23400703868243483,\n",
       " 1,\n",
       " array([[ 193.90735573, 4330.09264427],\n",
       "        [ 190.09264427, 4244.90735573]]))"
      ]
     },
     "execution_count": 25,
     "metadata": {},
     "output_type": "execute_result"
    }
   ],
   "source": [
    "scipy.stats.chi2_contingency(count_gender_test_control1)"
   ]
  },
  {
   "cell_type": "code",
   "execution_count": 26,
   "metadata": {},
   "outputs": [
    {
     "data": {
      "text/html": [
       "<div>\n",
       "<style scoped>\n",
       "    .dataframe tbody tr th:only-of-type {\n",
       "        vertical-align: middle;\n",
       "    }\n",
       "\n",
       "    .dataframe tbody tr th {\n",
       "        vertical-align: top;\n",
       "    }\n",
       "\n",
       "    .dataframe thead th {\n",
       "        text-align: right;\n",
       "    }\n",
       "</style>\n",
       "<table border=\"1\" class=\"dataframe\">\n",
       "  <thead>\n",
       "    <tr style=\"text-align: right;\">\n",
       "      <th>gender</th>\n",
       "      <th>0</th>\n",
       "      <th>1</th>\n",
       "    </tr>\n",
       "    <tr>\n",
       "      <th>group_x</th>\n",
       "      <th></th>\n",
       "      <th></th>\n",
       "    </tr>\n",
       "  </thead>\n",
       "  <tbody>\n",
       "    <tr>\n",
       "      <th>control2</th>\n",
       "      <td>195</td>\n",
       "      <td>4210</td>\n",
       "    </tr>\n",
       "    <tr>\n",
       "      <th>test</th>\n",
       "      <td>202</td>\n",
       "      <td>4233</td>\n",
       "    </tr>\n",
       "  </tbody>\n",
       "</table>\n",
       "</div>"
      ],
      "text/plain": [
       "gender      0     1\n",
       "group_x            \n",
       "control2  195  4210\n",
       "test      202  4233"
      ]
     },
     "execution_count": 26,
     "metadata": {},
     "output_type": "execute_result"
    }
   ],
   "source": [
    "count_gender_test_control2=df_final[(df_final['group_x']=='test')|(df_final['group_x']=='control2')].groupby(['group_x','gender'])['uid'].count().unstack()\n",
    "count_gender_test_control2"
   ]
  },
  {
   "cell_type": "code",
   "execution_count": 27,
   "metadata": {},
   "outputs": [
    {
     "data": {
      "text/plain": [
       "(0.057092999444440254,\n",
       " 0.811151011556867,\n",
       " 1,\n",
       " array([[ 197.82635747, 4207.17364253],\n",
       "        [ 199.17364253, 4235.82635747]]))"
      ]
     },
     "execution_count": 27,
     "metadata": {},
     "output_type": "execute_result"
    }
   ],
   "source": [
    "scipy.stats.chi2_contingency(count_gender_test_control2)"
   ]
  },
  {
   "cell_type": "code",
   "execution_count": 28,
   "metadata": {},
   "outputs": [],
   "source": [
    "#Проверим, что выборки по распределению age не различаются\n",
    "#Для проведения t-test и выбора его вида, проверим дисперсии на полигамность при помощи теста Левена"
   ]
  },
  {
   "cell_type": "code",
   "execution_count": 29,
   "metadata": {},
   "outputs": [
    {
     "data": {
      "text/plain": [
       "LeveneResult(statistic=0.0070621916004628285, pvalue=0.9330290139916695)"
      ]
     },
     "execution_count": 29,
     "metadata": {},
     "output_type": "execute_result"
    }
   ],
   "source": [
    "scipy.stats.levene(df_final[df_final['group_x']=='test']['age'],df_final[df_final['group_x']=='control1']['age'])"
   ]
  },
  {
   "cell_type": "code",
   "execution_count": 30,
   "metadata": {},
   "outputs": [
    {
     "data": {
      "text/plain": [
       "LeveneResult(statistic=0.017596431670191707, pvalue=0.8944719875862395)"
      ]
     },
     "execution_count": 30,
     "metadata": {},
     "output_type": "execute_result"
    }
   ],
   "source": [
    "scipy.stats.levene(df_final[df_final['group_x']=='test']['age'],df_final[df_final['group_x']=='control2']['age'])"
   ]
  },
  {
   "cell_type": "code",
   "execution_count": 31,
   "metadata": {},
   "outputs": [],
   "source": [
    "#Проверили полигамность дисперсий, исходя из графиков распределения графиков по группам,\n",
    "#данные скучены в левой части из-за выбросов, чтобы избавиться от этого можем прологарифмировать данные age"
   ]
  },
  {
   "cell_type": "code",
   "execution_count": 32,
   "metadata": {},
   "outputs": [],
   "source": [
    "df_age_test_control2=df_final[(df_final['group_x']=='test')|(df_final['group_x']=='control2')][['uid','age','group_x']]"
   ]
  },
  {
   "cell_type": "code",
   "execution_count": 33,
   "metadata": {},
   "outputs": [],
   "source": [
    "df_age_test_control1=df_final[(df_final['group_x']=='test')|(df_final['group_x']=='control1')][['uid','age','group_x']]"
   ]
  },
  {
   "cell_type": "code",
   "execution_count": 34,
   "metadata": {},
   "outputs": [],
   "source": [
    "#Хоть и распределение ненормальное, используем ттест, ненормальность компенсируется размером выборки"
   ]
  },
  {
   "cell_type": "code",
   "execution_count": 35,
   "metadata": {},
   "outputs": [
    {
     "data": {
      "text/plain": [
       "Ttest_indResult(statistic=0.04504788454765446, pvalue=0.9640701455323597)"
      ]
     },
     "execution_count": 35,
     "metadata": {},
     "output_type": "execute_result"
    }
   ],
   "source": [
    "scipy.stats.ttest_ind(df_age_test_control1[df_age_test_control1['group_x']=='test'].age,df_age_test_control1[df_age_test_control1['group_x']=='control1'].age)"
   ]
  },
  {
   "cell_type": "code",
   "execution_count": 36,
   "metadata": {},
   "outputs": [
    {
     "data": {
      "text/plain": [
       "Ttest_indResult(statistic=-0.621940339775622, pvalue=0.5339971414687767)"
      ]
     },
     "execution_count": 36,
     "metadata": {},
     "output_type": "execute_result"
    }
   ],
   "source": [
    "scipy.stats.ttest_ind(df_age_test_control2[df_age_test_control2['group_x']=='test'].age,df_age_test_control2[df_age_test_control2['group_x']=='control2'].age)"
   ]
  },
  {
   "cell_type": "code",
   "execution_count": 37,
   "metadata": {},
   "outputs": [],
   "source": [
    "#Наличие стат. значимых различий в данных о возрасте не доказано"
   ]
  },
  {
   "cell_type": "code",
   "execution_count": 38,
   "metadata": {},
   "outputs": [],
   "source": [
    "#Разберем распределение переменной coins в test и control1,control2\n",
    "#Также предположим, что пользователя имеющешо NaN одновременно в колонке coins и visit_days, считается \"нулевым\" и нам при тесте\n",
    "#не интересен, так как с нашим продуктом никак не взаимодействовал"
   ]
  },
  {
   "cell_type": "code",
   "execution_count": 39,
   "metadata": {},
   "outputs": [],
   "source": [
    "df_coins_test_control2=df_final[(df_final['group_x']=='test')|(df_final['group_x']=='control2')]\n",
    "df_coins_test_control2=df_coins_test_control2[~((df_coins_test_control2['coins'] == 0) & (df_coins_test_control2['visit_days'] == 0))][['uid','coins','group_x']]\n",
    "df_coins_test_control2=df_coins_test_control2.drop_duplicates(subset='uid')"
   ]
  },
  {
   "cell_type": "code",
   "execution_count": 40,
   "metadata": {},
   "outputs": [],
   "source": [
    "df_coins_test_control1=df_final[(df_final['group_x']=='test')|(df_final['group_x']=='control1')]\n",
    "df_coins_test_control1=df_coins_test_control1[~((df_coins_test_control1['coins'] == 0) & (df_coins_test_control1['visit_days'] == 0))][['uid','coins','group_x']]\n",
    "df_coins_test_control1=df_coins_test_control1.drop_duplicates(subset='uid')"
   ]
  },
  {
   "cell_type": "code",
   "execution_count": 41,
   "metadata": {},
   "outputs": [
    {
     "data": {
      "text/plain": [
       "<seaborn.axisgrid.FacetGrid at 0x7f44d8d0f908>"
      ]
     },
     "execution_count": 41,
     "metadata": {},
     "output_type": "execute_result"
    },
    {
     "data": {
      "image/png": "[encoded data removed]",
      "text/plain": [
       "<Figure size 360x360 with 1 Axes>"
      ]
     },
     "metadata": {
      "needs_background": "light"
     },
     "output_type": "display_data"
    }
   ],
   "source": [
    "sns.displot(df_final[df_final['group_x']=='test'].coins)"
   ]
  },
  {
   "cell_type": "code",
   "execution_count": 42,
   "metadata": {},
   "outputs": [
    {
     "data": {
      "text/plain": [
       "<seaborn.axisgrid.FacetGrid at 0x7f44d8be42b0>"
      ]
     },
     "execution_count": 42,
     "metadata": {},
     "output_type": "execute_result"
    },
    {
     "data": {
      "image/png": "[encoded data removed]",
      "text/plain": [
       "<Figure size 360x360 with 1 Axes>"
      ]
     },
     "metadata": {
      "needs_background": "light"
     },
     "output_type": "display_data"
    }
   ],
   "source": [
    "sns.displot(df_final[df_final['group_x']=='control1'].coins)"
   ]
  },
  {
   "cell_type": "code",
   "execution_count": 43,
   "metadata": {},
   "outputs": [
    {
     "data": {
      "text/plain": [
       "<seaborn.axisgrid.FacetGrid at 0x7f44d8b665f8>"
      ]
     },
     "execution_count": 43,
     "metadata": {},
     "output_type": "execute_result"
    },
    {
     "data": {
      "image/png": "[encoded data removed]",
      "text/plain": [
       "<Figure size 360x360 with 1 Axes>"
      ]
     },
     "metadata": {
      "needs_background": "light"
     },
     "output_type": "display_data"
    }
   ],
   "source": [
    "sns.displot(df_final[df_final['group_x']=='control2'].coins)"
   ]
  },
  {
   "cell_type": "code",
   "execution_count": 44,
   "metadata": {},
   "outputs": [],
   "source": [
    "#Так как мы видем, что распределение ненормальное, так как в группах в переменных преобладает ноль, поэтому для подтверждения \n",
    "#корректности работы системы сплитования можем снова использовать хи-квадрат, разделив данные флагом на coins<0 и coins>0"
   ]
  },
  {
   "cell_type": "code",
   "execution_count": 45,
   "metadata": {},
   "outputs": [
    {
     "data": {
      "text/plain": [
       "109"
      ]
     },
     "execution_count": 45,
     "metadata": {},
     "output_type": "execute_result"
    }
   ],
   "source": [
    "df_coins_test_control1['not_is_null']=df_coins_test_control1['coins']>0\n",
    "df_coins_test_control1['not_is_null']=df_coins_test_control1.not_is_null.apply(lambda x: 1 if x==True else 0)\n",
    "df_coins_test_control1.not_is_null.sum()"
   ]
  },
  {
   "cell_type": "code",
   "execution_count": 46,
   "metadata": {},
   "outputs": [],
   "source": [
    "df_coins_test_control2['not_is_null']=df_coins_test_control2['coins']>0\n",
    "df_coins_test_control2['not_is_null']=df_coins_test_control2.not_is_null.apply(lambda x: 1 if x==True else 0)"
   ]
  },
  {
   "cell_type": "code",
   "execution_count": 47,
   "metadata": {},
   "outputs": [],
   "source": [
    "coins_null_test_control1=df_coins_test_control1.groupby(['group_x','not_is_null']).size().unstack(fill_value=0)"
   ]
  },
  {
   "cell_type": "code",
   "execution_count": 48,
   "metadata": {},
   "outputs": [
    {
     "data": {
      "text/html": [
       "<div>\n",
       "<style scoped>\n",
       "    .dataframe tbody tr th:only-of-type {\n",
       "        vertical-align: middle;\n",
       "    }\n",
       "\n",
       "    .dataframe tbody tr th {\n",
       "        vertical-align: top;\n",
       "    }\n",
       "\n",
       "    .dataframe thead th {\n",
       "        text-align: right;\n",
       "    }\n",
       "</style>\n",
       "<table border=\"1\" class=\"dataframe\">\n",
       "  <thead>\n",
       "    <tr style=\"text-align: right;\">\n",
       "      <th>not_is_null</th>\n",
       "      <th>0</th>\n",
       "      <th>1</th>\n",
       "    </tr>\n",
       "    <tr>\n",
       "      <th>group_x</th>\n",
       "      <th></th>\n",
       "      <th></th>\n",
       "    </tr>\n",
       "  </thead>\n",
       "  <tbody>\n",
       "    <tr>\n",
       "      <th>control1</th>\n",
       "      <td>2959</td>\n",
       "      <td>60</td>\n",
       "    </tr>\n",
       "    <tr>\n",
       "      <th>test</th>\n",
       "      <td>2930</td>\n",
       "      <td>49</td>\n",
       "    </tr>\n",
       "  </tbody>\n",
       "</table>\n",
       "</div>"
      ],
      "text/plain": [
       "not_is_null     0   1\n",
       "group_x              \n",
       "control1     2959  60\n",
       "test         2930  49"
      ]
     },
     "execution_count": 48,
     "metadata": {},
     "output_type": "execute_result"
    }
   ],
   "source": [
    "coins_null_test_control1"
   ]
  },
  {
   "cell_type": "code",
   "execution_count": 49,
   "metadata": {},
   "outputs": [],
   "source": [
    "coins_null_test_control2=df_coins_test_control2.groupby(['group_x','not_is_null']).size().unstack(fill_value=0)"
   ]
  },
  {
   "cell_type": "code",
   "execution_count": 50,
   "metadata": {},
   "outputs": [
    {
     "data": {
      "text/html": [
       "<div>\n",
       "<style scoped>\n",
       "    .dataframe tbody tr th:only-of-type {\n",
       "        vertical-align: middle;\n",
       "    }\n",
       "\n",
       "    .dataframe tbody tr th {\n",
       "        vertical-align: top;\n",
       "    }\n",
       "\n",
       "    .dataframe thead th {\n",
       "        text-align: right;\n",
       "    }\n",
       "</style>\n",
       "<table border=\"1\" class=\"dataframe\">\n",
       "  <thead>\n",
       "    <tr style=\"text-align: right;\">\n",
       "      <th>not_is_null</th>\n",
       "      <th>0</th>\n",
       "      <th>1</th>\n",
       "    </tr>\n",
       "    <tr>\n",
       "      <th>group_x</th>\n",
       "      <th></th>\n",
       "      <th></th>\n",
       "    </tr>\n",
       "  </thead>\n",
       "  <tbody>\n",
       "    <tr>\n",
       "      <th>control2</th>\n",
       "      <td>2840</td>\n",
       "      <td>61</td>\n",
       "    </tr>\n",
       "    <tr>\n",
       "      <th>test</th>\n",
       "      <td>2930</td>\n",
       "      <td>49</td>\n",
       "    </tr>\n",
       "  </tbody>\n",
       "</table>\n",
       "</div>"
      ],
      "text/plain": [
       "not_is_null     0   1\n",
       "group_x              \n",
       "control2     2840  61\n",
       "test         2930  49"
      ]
     },
     "execution_count": 50,
     "metadata": {},
     "output_type": "execute_result"
    }
   ],
   "source": [
    "coins_null_test_control2"
   ]
  },
  {
   "cell_type": "code",
   "execution_count": 51,
   "metadata": {},
   "outputs": [
    {
     "data": {
      "text/plain": [
       "(0.8035386492599902,\n",
       " 0.3700374730669552,\n",
       " 1,\n",
       " array([[2964.13654552,   54.86345448],\n",
       "        [2924.86345448,   54.13654552]]))"
      ]
     },
     "execution_count": 51,
     "metadata": {},
     "output_type": "execute_result"
    }
   ],
   "source": [
    "scipy.stats.chi2_contingency(coins_null_test_control1)"
   ]
  },
  {
   "cell_type": "code",
   "execution_count": 52,
   "metadata": {},
   "outputs": [
    {
     "data": {
      "text/plain": [
       "(1.4383495210633024,\n",
       " 0.23040661062203105,\n",
       " 1,\n",
       " array([[2846.72959184,   54.27040816],\n",
       "        [2923.27040816,   55.72959184]]))"
      ]
     },
     "execution_count": 52,
     "metadata": {},
     "output_type": "execute_result"
    }
   ],
   "source": [
    "scipy.stats.chi2_contingency(coins_null_test_control2)"
   ]
  },
  {
   "cell_type": "code",
   "execution_count": 53,
   "metadata": {},
   "outputs": [],
   "source": [
    "#Проверим систему сплитования относительно переменной attraction_coeff по группам"
   ]
  },
  {
   "cell_type": "code",
   "execution_count": 54,
   "metadata": {},
   "outputs": [],
   "source": [
    "df_atcf_test_control1=df_final[(df_final['group_x']=='test')|(df_final['group_x']=='control1')][['uid','attraction_coeff','group_x']]\n",
    "df_atcf_test_control1=df_atcf_test_control1.drop_duplicates(subset='uid')"
   ]
  },
  {
   "cell_type": "code",
   "execution_count": 55,
   "metadata": {},
   "outputs": [],
   "source": [
    "df_atcf_test_control2=df_final[(df_final['group_x']=='test')|(df_final['group_x']=='control2')][['uid','attraction_coeff','group_x']]\n",
    "df_atcf_test_control2=df_atcf_test_control2.drop_duplicates(subset='uid')"
   ]
  },
  {
   "cell_type": "code",
   "execution_count": 56,
   "metadata": {},
   "outputs": [
    {
     "name": "stderr",
     "output_type": "stream",
     "text": [
      "/opt/tljh/user/lib/python3.7/site-packages/seaborn/distributions.py:2557: FutureWarning: `distplot` is a deprecated function and will be removed in a future version. Please adapt your code to use either `displot` (a figure-level function with similar flexibility) or `histplot` (an axes-level function for histograms).\n",
      "  warnings.warn(msg, FutureWarning)\n"
     ]
    },
    {
     "data": {
      "text/plain": [
       "<matplotlib.axes._subplots.AxesSubplot at 0x7f44d8aa37f0>"
      ]
     },
     "execution_count": 56,
     "metadata": {},
     "output_type": "execute_result"
    },
    {
     "data": {
      "image/png": "[encoded data removed]",
      "text/plain": [
       "<Figure size 432x288 with 1 Axes>"
      ]
     },
     "metadata": {
      "needs_background": "light"
     },
     "output_type": "display_data"
    }
   ],
   "source": [
    "sns.distplot(df_atcf_test_control2[df_atcf_test_control2['group_x']=='test'].attraction_coeff)"
   ]
  },
  {
   "cell_type": "code",
   "execution_count": 57,
   "metadata": {},
   "outputs": [
    {
     "name": "stderr",
     "output_type": "stream",
     "text": [
      "/opt/tljh/user/lib/python3.7/site-packages/seaborn/distributions.py:2557: FutureWarning: `distplot` is a deprecated function and will be removed in a future version. Please adapt your code to use either `displot` (a figure-level function with similar flexibility) or `histplot` (an axes-level function for histograms).\n",
      "  warnings.warn(msg, FutureWarning)\n"
     ]
    },
    {
     "data": {
      "text/plain": [
       "<matplotlib.axes._subplots.AxesSubplot at 0x7f44d8a697b8>"
      ]
     },
     "execution_count": 57,
     "metadata": {},
     "output_type": "execute_result"
    },
    {
     "data": {
      "image/png": "[encoded data removed]",
      "text/plain": [
       "<Figure size 432x288 with 1 Axes>"
      ]
     },
     "metadata": {
      "needs_background": "light"
     },
     "output_type": "display_data"
    }
   ],
   "source": [
    "sns.distplot(df_atcf_test_control2[df_atcf_test_control2['group_x']=='control2'].attraction_coeff)"
   ]
  },
  {
   "cell_type": "code",
   "execution_count": 58,
   "metadata": {},
   "outputs": [
    {
     "name": "stderr",
     "output_type": "stream",
     "text": [
      "/opt/tljh/user/lib/python3.7/site-packages/seaborn/distributions.py:2557: FutureWarning: `distplot` is a deprecated function and will be removed in a future version. Please adapt your code to use either `displot` (a figure-level function with similar flexibility) or `histplot` (an axes-level function for histograms).\n",
      "  warnings.warn(msg, FutureWarning)\n"
     ]
    },
    {
     "data": {
      "text/plain": [
       "<matplotlib.axes._subplots.AxesSubplot at 0x7f44d8d1f1d0>"
      ]
     },
     "execution_count": 58,
     "metadata": {},
     "output_type": "execute_result"
    },
    {
     "data": {
      "image/png": "[encoded data removed]",
      "text/plain": [
       "<Figure size 432x288 with 1 Axes>"
      ]
     },
     "metadata": {
      "needs_background": "light"
     },
     "output_type": "display_data"
    }
   ],
   "source": [
    "sns.distplot(df_atcf_test_control1[df_atcf_test_control1['group_x']=='control1'].attraction_coeff)"
   ]
  },
  {
   "cell_type": "code",
   "execution_count": 59,
   "metadata": {},
   "outputs": [],
   "source": [
    "#Исходя из графика, видим что присутствуют отрицательные значения и значения больше 1000, что некорректно, так как колл-во лайков или просмотров \n",
    "#не может принимать отрицательные значения,а также не может быть больше 1000, также предлагаю избавиться от нулевых значений, которые создают огромный \"хвост\"\n",
    "#в распредление переменной, и провести проверку распределения переменной по группам исходя только из attraction_coeff>0 & attraction_coeff<=1000"
   ]
  },
  {
   "cell_type": "code",
   "execution_count": 60,
   "metadata": {},
   "outputs": [],
   "source": [
    "df_atcf_test_control2=df_atcf_test_control2[(df_atcf_test_control2.attraction_coeff>0)&(df_atcf_test_control2.attraction_coeff<=1000)]"
   ]
  },
  {
   "cell_type": "code",
   "execution_count": 61,
   "metadata": {},
   "outputs": [],
   "source": [
    "df_atcf_test_control1=df_atcf_test_control1[(df_atcf_test_control1.attraction_coeff>0)&df_atcf_test_control1.attraction_coeff<=1000]"
   ]
  },
  {
   "cell_type": "code",
   "execution_count": 62,
   "metadata": {},
   "outputs": [
    {
     "name": "stderr",
     "output_type": "stream",
     "text": [
      "/opt/tljh/user/lib/python3.7/site-packages/seaborn/distributions.py:2557: FutureWarning: `distplot` is a deprecated function and will be removed in a future version. Please adapt your code to use either `displot` (a figure-level function with similar flexibility) or `histplot` (an axes-level function for histograms).\n",
      "  warnings.warn(msg, FutureWarning)\n"
     ]
    },
    {
     "data": {
      "text/plain": [
       "<matplotlib.axes._subplots.AxesSubplot at 0x7f44d693e5f8>"
      ]
     },
     "execution_count": 62,
     "metadata": {},
     "output_type": "execute_result"
    },
    {
     "data": {
      "image/png": "[encoded data removed]",
      "text/plain": [
       "<Figure size 432x288 with 1 Axes>"
      ]
     },
     "metadata": {
      "needs_background": "light"
     },
     "output_type": "display_data"
    }
   ],
   "source": [
    "sns.distplot(df_atcf_test_control1[df_atcf_test_control1['group_x']=='control1'].attraction_coeff)"
   ]
  },
  {
   "cell_type": "code",
   "execution_count": 63,
   "metadata": {},
   "outputs": [
    {
     "name": "stderr",
     "output_type": "stream",
     "text": [
      "/opt/tljh/user/lib/python3.7/site-packages/seaborn/distributions.py:2557: FutureWarning: `distplot` is a deprecated function and will be removed in a future version. Please adapt your code to use either `displot` (a figure-level function with similar flexibility) or `histplot` (an axes-level function for histograms).\n",
      "  warnings.warn(msg, FutureWarning)\n"
     ]
    },
    {
     "data": {
      "text/plain": [
       "<matplotlib.axes._subplots.AxesSubplot at 0x7f44d6850d68>"
      ]
     },
     "execution_count": 63,
     "metadata": {},
     "output_type": "execute_result"
    },
    {
     "data": {
      "image/png": "[encoded data removed]",
      "text/plain": [
       "<Figure size 432x288 with 1 Axes>"
      ]
     },
     "metadata": {
      "needs_background": "light"
     },
     "output_type": "display_data"
    }
   ],
   "source": [
    "sns.distplot(df_atcf_test_control1[df_atcf_test_control1['group_x']=='test'].attraction_coeff)"
   ]
  },
  {
   "cell_type": "code",
   "execution_count": 64,
   "metadata": {},
   "outputs": [
    {
     "name": "stderr",
     "output_type": "stream",
     "text": [
      "/opt/tljh/user/lib/python3.7/site-packages/seaborn/distributions.py:2557: FutureWarning: `distplot` is a deprecated function and will be removed in a future version. Please adapt your code to use either `displot` (a figure-level function with similar flexibility) or `histplot` (an axes-level function for histograms).\n",
      "  warnings.warn(msg, FutureWarning)\n"
     ]
    },
    {
     "data": {
      "text/plain": [
       "<matplotlib.axes._subplots.AxesSubplot at 0x7f44d68397b8>"
      ]
     },
     "execution_count": 64,
     "metadata": {},
     "output_type": "execute_result"
    },
    {
     "data": {
      "image/png": "[encoded data removed]",
      "text/plain": [
       "<Figure size 432x288 with 1 Axes>"
      ]
     },
     "metadata": {
      "needs_background": "light"
     },
     "output_type": "display_data"
    }
   ],
   "source": [
    "sns.distplot(df_atcf_test_control2[df_atcf_test_control2['group_x']=='control2'].attraction_coeff)"
   ]
  },
  {
   "cell_type": "code",
   "execution_count": 65,
   "metadata": {},
   "outputs": [],
   "source": [
    "#Проведем два теста для проверки стат. значимых различий, U-тест, которые работает, не смотря на ненормальность данных, и T-тест\n"
   ]
  },
  {
   "cell_type": "code",
   "execution_count": 66,
   "metadata": {},
   "outputs": [
    {
     "data": {
      "text/plain": [
       "MannwhitneyuResult(statistic=9294479.5, pvalue=0.6352175892456173)"
      ]
     },
     "execution_count": 66,
     "metadata": {},
     "output_type": "execute_result"
    }
   ],
   "source": [
    "scipy.stats.mannwhitneyu(df_atcf_test_control1[df_atcf_test_control1['group_x']=='control1'].attraction_coeff,df_atcf_test_control1[df_atcf_test_control1['group_x']=='test'].attraction_coeff)"
   ]
  },
  {
   "cell_type": "code",
   "execution_count": 67,
   "metadata": {},
   "outputs": [
    {
     "data": {
      "text/plain": [
       "MannwhitneyuResult(statistic=3922671.5, pvalue=0.25932719233557466)"
      ]
     },
     "execution_count": 67,
     "metadata": {},
     "output_type": "execute_result"
    }
   ],
   "source": [
    "scipy.stats.mannwhitneyu(df_atcf_test_control2[df_atcf_test_control2['group_x']=='control2'].attraction_coeff,df_atcf_test_control2[df_atcf_test_control2['group_x']=='test'].attraction_coeff)"
   ]
  },
  {
   "cell_type": "code",
   "execution_count": 68,
   "metadata": {},
   "outputs": [
    {
     "data": {
      "text/plain": [
       "Ttest_indResult(statistic=-0.6296108950870088, pvalue=0.5289658300229096)"
      ]
     },
     "execution_count": 68,
     "metadata": {},
     "output_type": "execute_result"
    }
   ],
   "source": [
    "scipy.stats.ttest_ind(df_atcf_test_control1[df_atcf_test_control1['group_x']=='control1'].attraction_coeff,df_atcf_test_control1[df_atcf_test_control1['group_x']=='test'].attraction_coeff)"
   ]
  },
  {
   "cell_type": "code",
   "execution_count": 69,
   "metadata": {},
   "outputs": [
    {
     "data": {
      "text/plain": [
       "Ttest_indResult(statistic=1.1502339414786271, pvalue=0.25009707040587253)"
      ]
     },
     "execution_count": 69,
     "metadata": {},
     "output_type": "execute_result"
    }
   ],
   "source": [
    "scipy.stats.ttest_ind(df_atcf_test_control2[df_atcf_test_control2['group_x']=='control2'].attraction_coeff,df_atcf_test_control2[df_atcf_test_control2['group_x']=='test'].attraction_coeff)"
   ]
  },
  {
   "cell_type": "code",
   "execution_count": 70,
   "metadata": {},
   "outputs": [],
   "source": [
    "#Исходя из проведенных тестов, стат. значимых различий не выявлено, следовательно переменная по группам была правильно распределена"
   ]
  },
  {
   "cell_type": "code",
   "execution_count": 71,
   "metadata": {},
   "outputs": [],
   "source": [
    "#С проверкой системы сплитования закончим и перейдем к результатам AB теста, проверим изменение метрик и значимы ли эти изменения\n",
    "#Для начала отчистим исходный датафрейм от ненужных данных, избавимся от uid, у которвых coins=0 & visit_days=0,\n",
    "#так как данные пользователи не взаимодействовали с нашим продуктом, избавимся от аномалий в attraction_coeff, чтобы его значения,\n",
    "# были в отрезке (0;1000) и будем работать только с уникальными uid"
   ]
  },
  {
   "cell_type": "code",
   "execution_count": 72,
   "metadata": {},
   "outputs": [],
   "source": [
    "df_final = df_final[\n",
    "    ~((df_final['coins'] == 0) & (df_final['visit_days'] == 0)) &\n",
    "    (df_final['attraction_coeff'] >= 0) &\n",
    "    (df_final['attraction_coeff'] <= 1000)\n",
    "]"
   ]
  },
  {
   "cell_type": "code",
   "execution_count": 73,
   "metadata": {},
   "outputs": [],
   "source": [
    "#Переведем переменные joined_at и paid_at к типу datetime"
   ]
  },
  {
   "cell_type": "code",
   "execution_count": 74,
   "metadata": {},
   "outputs": [],
   "source": [
    "df_final.joined_at=pd.to_datetime(df_final.joined_at)\n",
    "df_final.paid_at=pd.to_datetime(df_final.paid_at)"
   ]
  },
  {
   "cell_type": "code",
   "execution_count": 75,
   "metadata": {},
   "outputs": [
    {
     "data": {
      "text/plain": [
       "uid                          int64\n",
       "age                          int64\n",
       "attraction_coeff             int64\n",
       "coins                      float64\n",
       "country_x                   object\n",
       "visit_days                  object\n",
       "gender                       int64\n",
       "age_filter_start             int64\n",
       "age_filter_end               int64\n",
       "views_count                  int64\n",
       "was_premium                float64\n",
       "is_premium                 float64\n",
       "total_revenue                int64\n",
       "joined_at           datetime64[ns]\n",
       "paid_at             datetime64[ns]\n",
       "revenue                    float64\n",
       "payment_id                 float64\n",
       "from_page                   object\n",
       "product_type                object\n",
       "group_x                     object\n",
       "dtype: object"
      ]
     },
     "execution_count": 75,
     "metadata": {},
     "output_type": "execute_result"
    }
   ],
   "source": [
    "df_final.dtypes"
   ]
  },
  {
   "cell_type": "code",
   "execution_count": 76,
   "metadata": {},
   "outputs": [
    {
     "data": {
      "text/plain": [
       "uid                    0\n",
       "age                    0\n",
       "attraction_coeff       0\n",
       "coins                  0\n",
       "country_x              0\n",
       "visit_days             0\n",
       "gender                 0\n",
       "age_filter_start       0\n",
       "age_filter_end         0\n",
       "views_count            0\n",
       "was_premium            0\n",
       "is_premium             0\n",
       "total_revenue          0\n",
       "joined_at           8422\n",
       "paid_at             8422\n",
       "revenue             8422\n",
       "payment_id          8422\n",
       "from_page           8422\n",
       "product_type        8422\n",
       "group_x                0\n",
       "dtype: int64"
      ]
     },
     "execution_count": 76,
     "metadata": {},
     "output_type": "execute_result"
    }
   ],
   "source": [
    "df_final.isna().sum()"
   ]
  },
  {
   "cell_type": "code",
   "execution_count": 77,
   "metadata": {},
   "outputs": [],
   "source": [
    "#Избавимся от аномалий, в которых время оплаты происходило раньше, чем время регистрации"
   ]
  },
  {
   "cell_type": "code",
   "execution_count": 78,
   "metadata": {},
   "outputs": [],
   "source": [
    "df_final = df_final[(df_final['paid_at'].isna()) | (df_final['paid_at'] >= df_final['joined_at'])]"
   ]
  },
  {
   "cell_type": "code",
   "execution_count": 79,
   "metadata": {},
   "outputs": [
    {
     "data": {
      "text/html": [
       "<div>\n",
       "<style scoped>\n",
       "    .dataframe tbody tr th:only-of-type {\n",
       "        vertical-align: middle;\n",
       "    }\n",
       "\n",
       "    .dataframe tbody tr th {\n",
       "        vertical-align: top;\n",
       "    }\n",
       "\n",
       "    .dataframe thead th {\n",
       "        text-align: right;\n",
       "    }\n",
       "</style>\n",
       "<table border=\"1\" class=\"dataframe\">\n",
       "  <thead>\n",
       "    <tr style=\"text-align: right;\">\n",
       "      <th></th>\n",
       "      <th>uid</th>\n",
       "      <th>age</th>\n",
       "      <th>attraction_coeff</th>\n",
       "      <th>coins</th>\n",
       "      <th>country_x</th>\n",
       "      <th>visit_days</th>\n",
       "      <th>gender</th>\n",
       "      <th>age_filter_start</th>\n",
       "      <th>age_filter_end</th>\n",
       "      <th>views_count</th>\n",
       "      <th>was_premium</th>\n",
       "      <th>is_premium</th>\n",
       "      <th>total_revenue</th>\n",
       "      <th>joined_at</th>\n",
       "      <th>paid_at</th>\n",
       "      <th>revenue</th>\n",
       "      <th>payment_id</th>\n",
       "      <th>from_page</th>\n",
       "      <th>product_type</th>\n",
       "      <th>group_x</th>\n",
       "    </tr>\n",
       "  </thead>\n",
       "  <tbody>\n",
       "    <tr>\n",
       "      <th>0</th>\n",
       "      <td>892309896</td>\n",
       "      <td>27</td>\n",
       "      <td>685</td>\n",
       "      <td>0.0</td>\n",
       "      <td>United States of America</td>\n",
       "      <td>1,2,3,4,5,6,7,8,9,10,11,12,16,17</td>\n",
       "      <td>1</td>\n",
       "      <td>24</td>\n",
       "      <td>30</td>\n",
       "      <td>89</td>\n",
       "      <td>0.0</td>\n",
       "      <td>0.0</td>\n",
       "      <td>0</td>\n",
       "      <td>NaT</td>\n",
       "      <td>NaT</td>\n",
       "      <td>NaN</td>\n",
       "      <td>NaN</td>\n",
       "      <td>NaN</td>\n",
       "      <td>NaN</td>\n",
       "      <td>test</td>\n",
       "    </tr>\n",
       "    <tr>\n",
       "      <th>2</th>\n",
       "      <td>892185708</td>\n",
       "      <td>45</td>\n",
       "      <td>44</td>\n",
       "      <td>0.0</td>\n",
       "      <td>Israel</td>\n",
       "      <td>1,3,4,6,7,8,10,11,12,13,14,15,16,17,18,19,20,2...</td>\n",
       "      <td>1</td>\n",
       "      <td>42</td>\n",
       "      <td>48</td>\n",
       "      <td>68</td>\n",
       "      <td>0.0</td>\n",
       "      <td>0.0</td>\n",
       "      <td>0</td>\n",
       "      <td>NaT</td>\n",
       "      <td>NaT</td>\n",
       "      <td>NaN</td>\n",
       "      <td>NaN</td>\n",
       "      <td>NaN</td>\n",
       "      <td>NaN</td>\n",
       "      <td>test</td>\n",
       "    </tr>\n",
       "    <tr>\n",
       "      <th>3</th>\n",
       "      <td>892130292</td>\n",
       "      <td>32</td>\n",
       "      <td>0</td>\n",
       "      <td>0.0</td>\n",
       "      <td>United States of America</td>\n",
       "      <td>1,2,3,4,5,6,7,8,9,10,11,12</td>\n",
       "      <td>1</td>\n",
       "      <td>29</td>\n",
       "      <td>35</td>\n",
       "      <td>0</td>\n",
       "      <td>0.0</td>\n",
       "      <td>0.0</td>\n",
       "      <td>0</td>\n",
       "      <td>NaT</td>\n",
       "      <td>NaT</td>\n",
       "      <td>NaN</td>\n",
       "      <td>NaN</td>\n",
       "      <td>NaN</td>\n",
       "      <td>NaN</td>\n",
       "      <td>test</td>\n",
       "    </tr>\n",
       "    <tr>\n",
       "      <th>5</th>\n",
       "      <td>891083133</td>\n",
       "      <td>24</td>\n",
       "      <td>0</td>\n",
       "      <td>0.0</td>\n",
       "      <td>Spain</td>\n",
       "      <td>1</td>\n",
       "      <td>1</td>\n",
       "      <td>16</td>\n",
       "      <td>27</td>\n",
       "      <td>0</td>\n",
       "      <td>0.0</td>\n",
       "      <td>0.0</td>\n",
       "      <td>0</td>\n",
       "      <td>NaT</td>\n",
       "      <td>NaT</td>\n",
       "      <td>NaN</td>\n",
       "      <td>NaN</td>\n",
       "      <td>NaN</td>\n",
       "      <td>NaN</td>\n",
       "      <td>test</td>\n",
       "    </tr>\n",
       "    <tr>\n",
       "      <th>8</th>\n",
       "      <td>891085770</td>\n",
       "      <td>28</td>\n",
       "      <td>0</td>\n",
       "      <td>0.0</td>\n",
       "      <td>Italy</td>\n",
       "      <td>1,2,3,4</td>\n",
       "      <td>1</td>\n",
       "      <td>25</td>\n",
       "      <td>31</td>\n",
       "      <td>1</td>\n",
       "      <td>0.0</td>\n",
       "      <td>0.0</td>\n",
       "      <td>0</td>\n",
       "      <td>NaT</td>\n",
       "      <td>NaT</td>\n",
       "      <td>NaN</td>\n",
       "      <td>NaN</td>\n",
       "      <td>NaN</td>\n",
       "      <td>NaN</td>\n",
       "      <td>test</td>\n",
       "    </tr>\n",
       "    <tr>\n",
       "      <th>...</th>\n",
       "      <td>...</td>\n",
       "      <td>...</td>\n",
       "      <td>...</td>\n",
       "      <td>...</td>\n",
       "      <td>...</td>\n",
       "      <td>...</td>\n",
       "      <td>...</td>\n",
       "      <td>...</td>\n",
       "      <td>...</td>\n",
       "      <td>...</td>\n",
       "      <td>...</td>\n",
       "      <td>...</td>\n",
       "      <td>...</td>\n",
       "      <td>...</td>\n",
       "      <td>...</td>\n",
       "      <td>...</td>\n",
       "      <td>...</td>\n",
       "      <td>...</td>\n",
       "      <td>...</td>\n",
       "      <td>...</td>\n",
       "    </tr>\n",
       "    <tr>\n",
       "      <th>13357</th>\n",
       "      <td>891094593</td>\n",
       "      <td>55</td>\n",
       "      <td>222</td>\n",
       "      <td>0.0</td>\n",
       "      <td>United States of America</td>\n",
       "      <td>1,2,3,4,5,6</td>\n",
       "      <td>1</td>\n",
       "      <td>28</td>\n",
       "      <td>38</td>\n",
       "      <td>117</td>\n",
       "      <td>0.0</td>\n",
       "      <td>0.0</td>\n",
       "      <td>0</td>\n",
       "      <td>NaT</td>\n",
       "      <td>NaT</td>\n",
       "      <td>NaN</td>\n",
       "      <td>NaN</td>\n",
       "      <td>NaN</td>\n",
       "      <td>NaN</td>\n",
       "      <td>control2</td>\n",
       "    </tr>\n",
       "    <tr>\n",
       "      <th>13358</th>\n",
       "      <td>891095106</td>\n",
       "      <td>22</td>\n",
       "      <td>625</td>\n",
       "      <td>0.0</td>\n",
       "      <td>United Arab Emirates</td>\n",
       "      <td>1,2,3,4,5</td>\n",
       "      <td>1</td>\n",
       "      <td>19</td>\n",
       "      <td>25</td>\n",
       "      <td>8</td>\n",
       "      <td>0.0</td>\n",
       "      <td>0.0</td>\n",
       "      <td>0</td>\n",
       "      <td>NaT</td>\n",
       "      <td>NaT</td>\n",
       "      <td>NaN</td>\n",
       "      <td>NaN</td>\n",
       "      <td>NaN</td>\n",
       "      <td>NaN</td>\n",
       "      <td>control2</td>\n",
       "    </tr>\n",
       "    <tr>\n",
       "      <th>13359</th>\n",
       "      <td>891937401</td>\n",
       "      <td>63</td>\n",
       "      <td>242</td>\n",
       "      <td>0.0</td>\n",
       "      <td>Italy</td>\n",
       "      <td>1,2</td>\n",
       "      <td>1</td>\n",
       "      <td>50</td>\n",
       "      <td>66</td>\n",
       "      <td>33</td>\n",
       "      <td>0.0</td>\n",
       "      <td>0.0</td>\n",
       "      <td>0</td>\n",
       "      <td>NaT</td>\n",
       "      <td>NaT</td>\n",
       "      <td>NaN</td>\n",
       "      <td>NaN</td>\n",
       "      <td>NaN</td>\n",
       "      <td>NaN</td>\n",
       "      <td>control2</td>\n",
       "    </tr>\n",
       "    <tr>\n",
       "      <th>13360</th>\n",
       "      <td>891692844</td>\n",
       "      <td>35</td>\n",
       "      <td>500</td>\n",
       "      <td>0.0</td>\n",
       "      <td>France</td>\n",
       "      <td>1,2,3,4,5,6,8,9,10,11,12,14,16</td>\n",
       "      <td>1</td>\n",
       "      <td>24</td>\n",
       "      <td>45</td>\n",
       "      <td>2</td>\n",
       "      <td>0.0</td>\n",
       "      <td>0.0</td>\n",
       "      <td>0</td>\n",
       "      <td>NaT</td>\n",
       "      <td>NaT</td>\n",
       "      <td>NaN</td>\n",
       "      <td>NaN</td>\n",
       "      <td>NaN</td>\n",
       "      <td>NaN</td>\n",
       "      <td>control2</td>\n",
       "    </tr>\n",
       "    <tr>\n",
       "      <th>13362</th>\n",
       "      <td>891697584</td>\n",
       "      <td>48</td>\n",
       "      <td>210</td>\n",
       "      <td>0.0</td>\n",
       "      <td>United Kingdom (Great Britain)</td>\n",
       "      <td>2,3,5,7,9,10,12,14,15</td>\n",
       "      <td>1</td>\n",
       "      <td>45</td>\n",
       "      <td>51</td>\n",
       "      <td>19</td>\n",
       "      <td>0.0</td>\n",
       "      <td>0.0</td>\n",
       "      <td>0</td>\n",
       "      <td>NaT</td>\n",
       "      <td>NaT</td>\n",
       "      <td>NaN</td>\n",
       "      <td>NaN</td>\n",
       "      <td>NaN</td>\n",
       "      <td>NaN</td>\n",
       "      <td>control2</td>\n",
       "    </tr>\n",
       "  </tbody>\n",
       "</table>\n",
       "<p>9195 rows × 20 columns</p>\n",
       "</div>"
      ],
      "text/plain": [
       "             uid  age  attraction_coeff  coins  \\\n",
       "0      892309896   27               685    0.0   \n",
       "2      892185708   45                44    0.0   \n",
       "3      892130292   32                 0    0.0   \n",
       "5      891083133   24                 0    0.0   \n",
       "8      891085770   28                 0    0.0   \n",
       "...          ...  ...               ...    ...   \n",
       "13357  891094593   55               222    0.0   \n",
       "13358  891095106   22               625    0.0   \n",
       "13359  891937401   63               242    0.0   \n",
       "13360  891692844   35               500    0.0   \n",
       "13362  891697584   48               210    0.0   \n",
       "\n",
       "                            country_x  \\\n",
       "0            United States of America   \n",
       "2                              Israel   \n",
       "3            United States of America   \n",
       "5                               Spain   \n",
       "8                               Italy   \n",
       "...                               ...   \n",
       "13357        United States of America   \n",
       "13358            United Arab Emirates   \n",
       "13359                           Italy   \n",
       "13360                          France   \n",
       "13362  United Kingdom (Great Britain)   \n",
       "\n",
       "                                              visit_days  gender  \\\n",
       "0                       1,2,3,4,5,6,7,8,9,10,11,12,16,17       1   \n",
       "2      1,3,4,6,7,8,10,11,12,13,14,15,16,17,18,19,20,2...       1   \n",
       "3                             1,2,3,4,5,6,7,8,9,10,11,12       1   \n",
       "5                                                      1       1   \n",
       "8                                                1,2,3,4       1   \n",
       "...                                                  ...     ...   \n",
       "13357                                        1,2,3,4,5,6       1   \n",
       "13358                                          1,2,3,4,5       1   \n",
       "13359                                                1,2       1   \n",
       "13360                     1,2,3,4,5,6,8,9,10,11,12,14,16       1   \n",
       "13362                              2,3,5,7,9,10,12,14,15       1   \n",
       "\n",
       "       age_filter_start  age_filter_end  views_count  was_premium  is_premium  \\\n",
       "0                    24              30           89          0.0         0.0   \n",
       "2                    42              48           68          0.0         0.0   \n",
       "3                    29              35            0          0.0         0.0   \n",
       "5                    16              27            0          0.0         0.0   \n",
       "8                    25              31            1          0.0         0.0   \n",
       "...                 ...             ...          ...          ...         ...   \n",
       "13357                28              38          117          0.0         0.0   \n",
       "13358                19              25            8          0.0         0.0   \n",
       "13359                50              66           33          0.0         0.0   \n",
       "13360                24              45            2          0.0         0.0   \n",
       "13362                45              51           19          0.0         0.0   \n",
       "\n",
       "       total_revenue joined_at paid_at  revenue  payment_id from_page  \\\n",
       "0                  0       NaT     NaT      NaN         NaN       NaN   \n",
       "2                  0       NaT     NaT      NaN         NaN       NaN   \n",
       "3                  0       NaT     NaT      NaN         NaN       NaN   \n",
       "5                  0       NaT     NaT      NaN         NaN       NaN   \n",
       "8                  0       NaT     NaT      NaN         NaN       NaN   \n",
       "...              ...       ...     ...      ...         ...       ...   \n",
       "13357              0       NaT     NaT      NaN         NaN       NaN   \n",
       "13358              0       NaT     NaT      NaN         NaN       NaN   \n",
       "13359              0       NaT     NaT      NaN         NaN       NaN   \n",
       "13360              0       NaT     NaT      NaN         NaN       NaN   \n",
       "13362              0       NaT     NaT      NaN         NaN       NaN   \n",
       "\n",
       "      product_type   group_x  \n",
       "0              NaN      test  \n",
       "2              NaN      test  \n",
       "3              NaN      test  \n",
       "5              NaN      test  \n",
       "8              NaN      test  \n",
       "...            ...       ...  \n",
       "13357          NaN  control2  \n",
       "13358          NaN  control2  \n",
       "13359          NaN  control2  \n",
       "13360          NaN  control2  \n",
       "13362          NaN  control2  \n",
       "\n",
       "[9195 rows x 20 columns]"
      ]
     },
     "execution_count": 79,
     "metadata": {},
     "output_type": "execute_result"
    }
   ],
   "source": [
    "df_final"
   ]
  },
  {
   "cell_type": "code",
   "execution_count": 80,
   "metadata": {},
   "outputs": [],
   "source": [
    "#Удалим также пользователей, у которых есть премиум или когда-то был, но нет информации о тразакции"
   ]
  },
  {
   "cell_type": "code",
   "execution_count": 81,
   "metadata": {},
   "outputs": [],
   "source": [
    "mask_error = (\n",
    "    ((df_final['is_premium'] == 1) | (df_final['was_premium'] == 1))\n",
    "    & df_final['joined_at'].isna()\n",
    ")\n",
    "df_final = df_final[~mask_error]"
   ]
  },
  {
   "cell_type": "code",
   "execution_count": 82,
   "metadata": {},
   "outputs": [
    {
     "data": {
      "text/html": [
       "<div>\n",
       "<style scoped>\n",
       "    .dataframe tbody tr th:only-of-type {\n",
       "        vertical-align: middle;\n",
       "    }\n",
       "\n",
       "    .dataframe tbody tr th {\n",
       "        vertical-align: top;\n",
       "    }\n",
       "\n",
       "    .dataframe thead th {\n",
       "        text-align: right;\n",
       "    }\n",
       "</style>\n",
       "<table border=\"1\" class=\"dataframe\">\n",
       "  <thead>\n",
       "    <tr style=\"text-align: right;\">\n",
       "      <th></th>\n",
       "      <th>uid</th>\n",
       "      <th>age</th>\n",
       "      <th>attraction_coeff</th>\n",
       "      <th>coins</th>\n",
       "      <th>country_x</th>\n",
       "      <th>visit_days</th>\n",
       "      <th>gender</th>\n",
       "      <th>age_filter_start</th>\n",
       "      <th>age_filter_end</th>\n",
       "      <th>views_count</th>\n",
       "      <th>was_premium</th>\n",
       "      <th>is_premium</th>\n",
       "      <th>total_revenue</th>\n",
       "      <th>joined_at</th>\n",
       "      <th>paid_at</th>\n",
       "      <th>revenue</th>\n",
       "      <th>payment_id</th>\n",
       "      <th>from_page</th>\n",
       "      <th>product_type</th>\n",
       "      <th>group_x</th>\n",
       "    </tr>\n",
       "  </thead>\n",
       "  <tbody>\n",
       "    <tr>\n",
       "      <th>0</th>\n",
       "      <td>892309896</td>\n",
       "      <td>27</td>\n",
       "      <td>685</td>\n",
       "      <td>0.0</td>\n",
       "      <td>United States of America</td>\n",
       "      <td>1,2,3,4,5,6,7,8,9,10,11,12,16,17</td>\n",
       "      <td>1</td>\n",
       "      <td>24</td>\n",
       "      <td>30</td>\n",
       "      <td>89</td>\n",
       "      <td>0.0</td>\n",
       "      <td>0.0</td>\n",
       "      <td>0</td>\n",
       "      <td>NaT</td>\n",
       "      <td>NaT</td>\n",
       "      <td>NaN</td>\n",
       "      <td>NaN</td>\n",
       "      <td>NaN</td>\n",
       "      <td>NaN</td>\n",
       "      <td>test</td>\n",
       "    </tr>\n",
       "    <tr>\n",
       "      <th>2</th>\n",
       "      <td>892185708</td>\n",
       "      <td>45</td>\n",
       "      <td>44</td>\n",
       "      <td>0.0</td>\n",
       "      <td>Israel</td>\n",
       "      <td>1,3,4,6,7,8,10,11,12,13,14,15,16,17,18,19,20,2...</td>\n",
       "      <td>1</td>\n",
       "      <td>42</td>\n",
       "      <td>48</td>\n",
       "      <td>68</td>\n",
       "      <td>0.0</td>\n",
       "      <td>0.0</td>\n",
       "      <td>0</td>\n",
       "      <td>NaT</td>\n",
       "      <td>NaT</td>\n",
       "      <td>NaN</td>\n",
       "      <td>NaN</td>\n",
       "      <td>NaN</td>\n",
       "      <td>NaN</td>\n",
       "      <td>test</td>\n",
       "    </tr>\n",
       "    <tr>\n",
       "      <th>3</th>\n",
       "      <td>892130292</td>\n",
       "      <td>32</td>\n",
       "      <td>0</td>\n",
       "      <td>0.0</td>\n",
       "      <td>United States of America</td>\n",
       "      <td>1,2,3,4,5,6,7,8,9,10,11,12</td>\n",
       "      <td>1</td>\n",
       "      <td>29</td>\n",
       "      <td>35</td>\n",
       "      <td>0</td>\n",
       "      <td>0.0</td>\n",
       "      <td>0.0</td>\n",
       "      <td>0</td>\n",
       "      <td>NaT</td>\n",
       "      <td>NaT</td>\n",
       "      <td>NaN</td>\n",
       "      <td>NaN</td>\n",
       "      <td>NaN</td>\n",
       "      <td>NaN</td>\n",
       "      <td>test</td>\n",
       "    </tr>\n",
       "    <tr>\n",
       "      <th>5</th>\n",
       "      <td>891083133</td>\n",
       "      <td>24</td>\n",
       "      <td>0</td>\n",
       "      <td>0.0</td>\n",
       "      <td>Spain</td>\n",
       "      <td>1</td>\n",
       "      <td>1</td>\n",
       "      <td>16</td>\n",
       "      <td>27</td>\n",
       "      <td>0</td>\n",
       "      <td>0.0</td>\n",
       "      <td>0.0</td>\n",
       "      <td>0</td>\n",
       "      <td>NaT</td>\n",
       "      <td>NaT</td>\n",
       "      <td>NaN</td>\n",
       "      <td>NaN</td>\n",
       "      <td>NaN</td>\n",
       "      <td>NaN</td>\n",
       "      <td>test</td>\n",
       "    </tr>\n",
       "    <tr>\n",
       "      <th>8</th>\n",
       "      <td>891085770</td>\n",
       "      <td>28</td>\n",
       "      <td>0</td>\n",
       "      <td>0.0</td>\n",
       "      <td>Italy</td>\n",
       "      <td>1,2,3,4</td>\n",
       "      <td>1</td>\n",
       "      <td>25</td>\n",
       "      <td>31</td>\n",
       "      <td>1</td>\n",
       "      <td>0.0</td>\n",
       "      <td>0.0</td>\n",
       "      <td>0</td>\n",
       "      <td>NaT</td>\n",
       "      <td>NaT</td>\n",
       "      <td>NaN</td>\n",
       "      <td>NaN</td>\n",
       "      <td>NaN</td>\n",
       "      <td>NaN</td>\n",
       "      <td>test</td>\n",
       "    </tr>\n",
       "    <tr>\n",
       "      <th>...</th>\n",
       "      <td>...</td>\n",
       "      <td>...</td>\n",
       "      <td>...</td>\n",
       "      <td>...</td>\n",
       "      <td>...</td>\n",
       "      <td>...</td>\n",
       "      <td>...</td>\n",
       "      <td>...</td>\n",
       "      <td>...</td>\n",
       "      <td>...</td>\n",
       "      <td>...</td>\n",
       "      <td>...</td>\n",
       "      <td>...</td>\n",
       "      <td>...</td>\n",
       "      <td>...</td>\n",
       "      <td>...</td>\n",
       "      <td>...</td>\n",
       "      <td>...</td>\n",
       "      <td>...</td>\n",
       "      <td>...</td>\n",
       "    </tr>\n",
       "    <tr>\n",
       "      <th>13357</th>\n",
       "      <td>891094593</td>\n",
       "      <td>55</td>\n",
       "      <td>222</td>\n",
       "      <td>0.0</td>\n",
       "      <td>United States of America</td>\n",
       "      <td>1,2,3,4,5,6</td>\n",
       "      <td>1</td>\n",
       "      <td>28</td>\n",
       "      <td>38</td>\n",
       "      <td>117</td>\n",
       "      <td>0.0</td>\n",
       "      <td>0.0</td>\n",
       "      <td>0</td>\n",
       "      <td>NaT</td>\n",
       "      <td>NaT</td>\n",
       "      <td>NaN</td>\n",
       "      <td>NaN</td>\n",
       "      <td>NaN</td>\n",
       "      <td>NaN</td>\n",
       "      <td>control2</td>\n",
       "    </tr>\n",
       "    <tr>\n",
       "      <th>13358</th>\n",
       "      <td>891095106</td>\n",
       "      <td>22</td>\n",
       "      <td>625</td>\n",
       "      <td>0.0</td>\n",
       "      <td>United Arab Emirates</td>\n",
       "      <td>1,2,3,4,5</td>\n",
       "      <td>1</td>\n",
       "      <td>19</td>\n",
       "      <td>25</td>\n",
       "      <td>8</td>\n",
       "      <td>0.0</td>\n",
       "      <td>0.0</td>\n",
       "      <td>0</td>\n",
       "      <td>NaT</td>\n",
       "      <td>NaT</td>\n",
       "      <td>NaN</td>\n",
       "      <td>NaN</td>\n",
       "      <td>NaN</td>\n",
       "      <td>NaN</td>\n",
       "      <td>control2</td>\n",
       "    </tr>\n",
       "    <tr>\n",
       "      <th>13359</th>\n",
       "      <td>891937401</td>\n",
       "      <td>63</td>\n",
       "      <td>242</td>\n",
       "      <td>0.0</td>\n",
       "      <td>Italy</td>\n",
       "      <td>1,2</td>\n",
       "      <td>1</td>\n",
       "      <td>50</td>\n",
       "      <td>66</td>\n",
       "      <td>33</td>\n",
       "      <td>0.0</td>\n",
       "      <td>0.0</td>\n",
       "      <td>0</td>\n",
       "      <td>NaT</td>\n",
       "      <td>NaT</td>\n",
       "      <td>NaN</td>\n",
       "      <td>NaN</td>\n",
       "      <td>NaN</td>\n",
       "      <td>NaN</td>\n",
       "      <td>control2</td>\n",
       "    </tr>\n",
       "    <tr>\n",
       "      <th>13360</th>\n",
       "      <td>891692844</td>\n",
       "      <td>35</td>\n",
       "      <td>500</td>\n",
       "      <td>0.0</td>\n",
       "      <td>France</td>\n",
       "      <td>1,2,3,4,5,6,8,9,10,11,12,14,16</td>\n",
       "      <td>1</td>\n",
       "      <td>24</td>\n",
       "      <td>45</td>\n",
       "      <td>2</td>\n",
       "      <td>0.0</td>\n",
       "      <td>0.0</td>\n",
       "      <td>0</td>\n",
       "      <td>NaT</td>\n",
       "      <td>NaT</td>\n",
       "      <td>NaN</td>\n",
       "      <td>NaN</td>\n",
       "      <td>NaN</td>\n",
       "      <td>NaN</td>\n",
       "      <td>control2</td>\n",
       "    </tr>\n",
       "    <tr>\n",
       "      <th>13362</th>\n",
       "      <td>891697584</td>\n",
       "      <td>48</td>\n",
       "      <td>210</td>\n",
       "      <td>0.0</td>\n",
       "      <td>United Kingdom (Great Britain)</td>\n",
       "      <td>2,3,5,7,9,10,12,14,15</td>\n",
       "      <td>1</td>\n",
       "      <td>45</td>\n",
       "      <td>51</td>\n",
       "      <td>19</td>\n",
       "      <td>0.0</td>\n",
       "      <td>0.0</td>\n",
       "      <td>0</td>\n",
       "      <td>NaT</td>\n",
       "      <td>NaT</td>\n",
       "      <td>NaN</td>\n",
       "      <td>NaN</td>\n",
       "      <td>NaN</td>\n",
       "      <td>NaN</td>\n",
       "      <td>control2</td>\n",
       "    </tr>\n",
       "  </tbody>\n",
       "</table>\n",
       "<p>8607 rows × 20 columns</p>\n",
       "</div>"
      ],
      "text/plain": [
       "             uid  age  attraction_coeff  coins  \\\n",
       "0      892309896   27               685    0.0   \n",
       "2      892185708   45                44    0.0   \n",
       "3      892130292   32                 0    0.0   \n",
       "5      891083133   24                 0    0.0   \n",
       "8      891085770   28                 0    0.0   \n",
       "...          ...  ...               ...    ...   \n",
       "13357  891094593   55               222    0.0   \n",
       "13358  891095106   22               625    0.0   \n",
       "13359  891937401   63               242    0.0   \n",
       "13360  891692844   35               500    0.0   \n",
       "13362  891697584   48               210    0.0   \n",
       "\n",
       "                            country_x  \\\n",
       "0            United States of America   \n",
       "2                              Israel   \n",
       "3            United States of America   \n",
       "5                               Spain   \n",
       "8                               Italy   \n",
       "...                               ...   \n",
       "13357        United States of America   \n",
       "13358            United Arab Emirates   \n",
       "13359                           Italy   \n",
       "13360                          France   \n",
       "13362  United Kingdom (Great Britain)   \n",
       "\n",
       "                                              visit_days  gender  \\\n",
       "0                       1,2,3,4,5,6,7,8,9,10,11,12,16,17       1   \n",
       "2      1,3,4,6,7,8,10,11,12,13,14,15,16,17,18,19,20,2...       1   \n",
       "3                             1,2,3,4,5,6,7,8,9,10,11,12       1   \n",
       "5                                                      1       1   \n",
       "8                                                1,2,3,4       1   \n",
       "...                                                  ...     ...   \n",
       "13357                                        1,2,3,4,5,6       1   \n",
       "13358                                          1,2,3,4,5       1   \n",
       "13359                                                1,2       1   \n",
       "13360                     1,2,3,4,5,6,8,9,10,11,12,14,16       1   \n",
       "13362                              2,3,5,7,9,10,12,14,15       1   \n",
       "\n",
       "       age_filter_start  age_filter_end  views_count  was_premium  is_premium  \\\n",
       "0                    24              30           89          0.0         0.0   \n",
       "2                    42              48           68          0.0         0.0   \n",
       "3                    29              35            0          0.0         0.0   \n",
       "5                    16              27            0          0.0         0.0   \n",
       "8                    25              31            1          0.0         0.0   \n",
       "...                 ...             ...          ...          ...         ...   \n",
       "13357                28              38          117          0.0         0.0   \n",
       "13358                19              25            8          0.0         0.0   \n",
       "13359                50              66           33          0.0         0.0   \n",
       "13360                24              45            2          0.0         0.0   \n",
       "13362                45              51           19          0.0         0.0   \n",
       "\n",
       "       total_revenue joined_at paid_at  revenue  payment_id from_page  \\\n",
       "0                  0       NaT     NaT      NaN         NaN       NaN   \n",
       "2                  0       NaT     NaT      NaN         NaN       NaN   \n",
       "3                  0       NaT     NaT      NaN         NaN       NaN   \n",
       "5                  0       NaT     NaT      NaN         NaN       NaN   \n",
       "8                  0       NaT     NaT      NaN         NaN       NaN   \n",
       "...              ...       ...     ...      ...         ...       ...   \n",
       "13357              0       NaT     NaT      NaN         NaN       NaN   \n",
       "13358              0       NaT     NaT      NaN         NaN       NaN   \n",
       "13359              0       NaT     NaT      NaN         NaN       NaN   \n",
       "13360              0       NaT     NaT      NaN         NaN       NaN   \n",
       "13362              0       NaT     NaT      NaN         NaN       NaN   \n",
       "\n",
       "      product_type   group_x  \n",
       "0              NaN      test  \n",
       "2              NaN      test  \n",
       "3              NaN      test  \n",
       "5              NaN      test  \n",
       "8              NaN      test  \n",
       "...            ...       ...  \n",
       "13357          NaN  control2  \n",
       "13358          NaN  control2  \n",
       "13359          NaN  control2  \n",
       "13360          NaN  control2  \n",
       "13362          NaN  control2  \n",
       "\n",
       "[8607 rows x 20 columns]"
      ]
     },
     "execution_count": 82,
     "metadata": {},
     "output_type": "execute_result"
    }
   ],
   "source": [
    "df_final"
   ]
  },
  {
   "cell_type": "code",
   "execution_count": 83,
   "metadata": {},
   "outputs": [],
   "source": [
    "df_no_nan = df_final.dropna(subset=['uid', 'payment_id'])\n",
    "df_no_nan = df_no_nan.drop_duplicates(subset=['uid', 'payment_id'], keep='first')\n",
    "df_final = pd.concat([df_no_nan, df_final[df_final['payment_id'].isna()]])"
   ]
  },
  {
   "cell_type": "code",
   "execution_count": 84,
   "metadata": {},
   "outputs": [
    {
     "data": {
      "text/html": [
       "<div>\n",
       "<style scoped>\n",
       "    .dataframe tbody tr th:only-of-type {\n",
       "        vertical-align: middle;\n",
       "    }\n",
       "\n",
       "    .dataframe tbody tr th {\n",
       "        vertical-align: top;\n",
       "    }\n",
       "\n",
       "    .dataframe thead th {\n",
       "        text-align: right;\n",
       "    }\n",
       "</style>\n",
       "<table border=\"1\" class=\"dataframe\">\n",
       "  <thead>\n",
       "    <tr style=\"text-align: right;\">\n",
       "      <th></th>\n",
       "      <th>uid</th>\n",
       "      <th>age</th>\n",
       "      <th>attraction_coeff</th>\n",
       "      <th>coins</th>\n",
       "      <th>country_x</th>\n",
       "      <th>visit_days</th>\n",
       "      <th>gender</th>\n",
       "      <th>age_filter_start</th>\n",
       "      <th>age_filter_end</th>\n",
       "      <th>views_count</th>\n",
       "      <th>was_premium</th>\n",
       "      <th>is_premium</th>\n",
       "      <th>total_revenue</th>\n",
       "      <th>joined_at</th>\n",
       "      <th>paid_at</th>\n",
       "      <th>revenue</th>\n",
       "      <th>payment_id</th>\n",
       "      <th>from_page</th>\n",
       "      <th>product_type</th>\n",
       "      <th>group_x</th>\n",
       "    </tr>\n",
       "  </thead>\n",
       "  <tbody>\n",
       "    <tr>\n",
       "      <th>20</th>\n",
       "      <td>891152790</td>\n",
       "      <td>29</td>\n",
       "      <td>769</td>\n",
       "      <td>0.0</td>\n",
       "      <td>Spain</td>\n",
       "      <td>2,5,6</td>\n",
       "      <td>1</td>\n",
       "      <td>16</td>\n",
       "      <td>32</td>\n",
       "      <td>13</td>\n",
       "      <td>1.0</td>\n",
       "      <td>1.0</td>\n",
       "      <td>12597</td>\n",
       "      <td>2017-08-11 18:39:00</td>\n",
       "      <td>2017-10-11 11:29:00</td>\n",
       "      <td>12597.0</td>\n",
       "      <td>147.0</td>\n",
       "      <td>dating</td>\n",
       "      <td>premium_no_trial</td>\n",
       "      <td>test</td>\n",
       "    </tr>\n",
       "    <tr>\n",
       "      <th>35</th>\n",
       "      <td>892333656</td>\n",
       "      <td>50</td>\n",
       "      <td>436</td>\n",
       "      <td>4.0</td>\n",
       "      <td>United States of America</td>\n",
       "      <td>1,2,3,4</td>\n",
       "      <td>1</td>\n",
       "      <td>47</td>\n",
       "      <td>53</td>\n",
       "      <td>126</td>\n",
       "      <td>0.0</td>\n",
       "      <td>0.0</td>\n",
       "      <td>897</td>\n",
       "      <td>2017-10-16 01:45:00</td>\n",
       "      <td>2017-10-16 01:49:00</td>\n",
       "      <td>897.0</td>\n",
       "      <td>146.0</td>\n",
       "      <td>empty_likes</td>\n",
       "      <td>coins</td>\n",
       "      <td>test</td>\n",
       "    </tr>\n",
       "    <tr>\n",
       "      <th>46</th>\n",
       "      <td>891589239</td>\n",
       "      <td>21</td>\n",
       "      <td>303</td>\n",
       "      <td>37.0</td>\n",
       "      <td>Italy</td>\n",
       "      <td>1,2,3,4,5,6,7,8,9</td>\n",
       "      <td>1</td>\n",
       "      <td>18</td>\n",
       "      <td>24</td>\n",
       "      <td>181</td>\n",
       "      <td>1.0</td>\n",
       "      <td>1.0</td>\n",
       "      <td>37817</td>\n",
       "      <td>2017-10-31 14:16:00</td>\n",
       "      <td>2017-10-31 16:07:00</td>\n",
       "      <td>12597.0</td>\n",
       "      <td>147.0</td>\n",
       "      <td>popular_users_chat</td>\n",
       "      <td>premium_no_trial</td>\n",
       "      <td>test</td>\n",
       "    </tr>\n",
       "    <tr>\n",
       "      <th>48</th>\n",
       "      <td>891589239</td>\n",
       "      <td>21</td>\n",
       "      <td>303</td>\n",
       "      <td>37.0</td>\n",
       "      <td>Italy</td>\n",
       "      <td>1,2,3,4,5,6,7,8,9</td>\n",
       "      <td>1</td>\n",
       "      <td>18</td>\n",
       "      <td>24</td>\n",
       "      <td>181</td>\n",
       "      <td>1.0</td>\n",
       "      <td>1.0</td>\n",
       "      <td>37817</td>\n",
       "      <td>2017-10-31 14:16:00</td>\n",
       "      <td>2017-10-31 14:21:00</td>\n",
       "      <td>6305.0</td>\n",
       "      <td>19.0</td>\n",
       "      <td>empty_likes</td>\n",
       "      <td>coins</td>\n",
       "      <td>test</td>\n",
       "    </tr>\n",
       "    <tr>\n",
       "      <th>104</th>\n",
       "      <td>891343671</td>\n",
       "      <td>26</td>\n",
       "      <td>0</td>\n",
       "      <td>24.0</td>\n",
       "      <td>France</td>\n",
       "      <td>1,2,3,4,5,6,7,8,9</td>\n",
       "      <td>1</td>\n",
       "      <td>23</td>\n",
       "      <td>35</td>\n",
       "      <td>37</td>\n",
       "      <td>1.0</td>\n",
       "      <td>1.0</td>\n",
       "      <td>21580</td>\n",
       "      <td>2017-05-11 13:42:00</td>\n",
       "      <td>2017-05-11 14:02:00</td>\n",
       "      <td>2717.0</td>\n",
       "      <td>19.0</td>\n",
       "      <td>none</td>\n",
       "      <td>coins</td>\n",
       "      <td>test</td>\n",
       "    </tr>\n",
       "    <tr>\n",
       "      <th>...</th>\n",
       "      <td>...</td>\n",
       "      <td>...</td>\n",
       "      <td>...</td>\n",
       "      <td>...</td>\n",
       "      <td>...</td>\n",
       "      <td>...</td>\n",
       "      <td>...</td>\n",
       "      <td>...</td>\n",
       "      <td>...</td>\n",
       "      <td>...</td>\n",
       "      <td>...</td>\n",
       "      <td>...</td>\n",
       "      <td>...</td>\n",
       "      <td>...</td>\n",
       "      <td>...</td>\n",
       "      <td>...</td>\n",
       "      <td>...</td>\n",
       "      <td>...</td>\n",
       "      <td>...</td>\n",
       "      <td>...</td>\n",
       "    </tr>\n",
       "    <tr>\n",
       "      <th>13357</th>\n",
       "      <td>891094593</td>\n",
       "      <td>55</td>\n",
       "      <td>222</td>\n",
       "      <td>0.0</td>\n",
       "      <td>United States of America</td>\n",
       "      <td>1,2,3,4,5,6</td>\n",
       "      <td>1</td>\n",
       "      <td>28</td>\n",
       "      <td>38</td>\n",
       "      <td>117</td>\n",
       "      <td>0.0</td>\n",
       "      <td>0.0</td>\n",
       "      <td>0</td>\n",
       "      <td>NaT</td>\n",
       "      <td>NaT</td>\n",
       "      <td>NaN</td>\n",
       "      <td>NaN</td>\n",
       "      <td>NaN</td>\n",
       "      <td>NaN</td>\n",
       "      <td>control2</td>\n",
       "    </tr>\n",
       "    <tr>\n",
       "      <th>13358</th>\n",
       "      <td>891095106</td>\n",
       "      <td>22</td>\n",
       "      <td>625</td>\n",
       "      <td>0.0</td>\n",
       "      <td>United Arab Emirates</td>\n",
       "      <td>1,2,3,4,5</td>\n",
       "      <td>1</td>\n",
       "      <td>19</td>\n",
       "      <td>25</td>\n",
       "      <td>8</td>\n",
       "      <td>0.0</td>\n",
       "      <td>0.0</td>\n",
       "      <td>0</td>\n",
       "      <td>NaT</td>\n",
       "      <td>NaT</td>\n",
       "      <td>NaN</td>\n",
       "      <td>NaN</td>\n",
       "      <td>NaN</td>\n",
       "      <td>NaN</td>\n",
       "      <td>control2</td>\n",
       "    </tr>\n",
       "    <tr>\n",
       "      <th>13359</th>\n",
       "      <td>891937401</td>\n",
       "      <td>63</td>\n",
       "      <td>242</td>\n",
       "      <td>0.0</td>\n",
       "      <td>Italy</td>\n",
       "      <td>1,2</td>\n",
       "      <td>1</td>\n",
       "      <td>50</td>\n",
       "      <td>66</td>\n",
       "      <td>33</td>\n",
       "      <td>0.0</td>\n",
       "      <td>0.0</td>\n",
       "      <td>0</td>\n",
       "      <td>NaT</td>\n",
       "      <td>NaT</td>\n",
       "      <td>NaN</td>\n",
       "      <td>NaN</td>\n",
       "      <td>NaN</td>\n",
       "      <td>NaN</td>\n",
       "      <td>control2</td>\n",
       "    </tr>\n",
       "    <tr>\n",
       "      <th>13360</th>\n",
       "      <td>891692844</td>\n",
       "      <td>35</td>\n",
       "      <td>500</td>\n",
       "      <td>0.0</td>\n",
       "      <td>France</td>\n",
       "      <td>1,2,3,4,5,6,8,9,10,11,12,14,16</td>\n",
       "      <td>1</td>\n",
       "      <td>24</td>\n",
       "      <td>45</td>\n",
       "      <td>2</td>\n",
       "      <td>0.0</td>\n",
       "      <td>0.0</td>\n",
       "      <td>0</td>\n",
       "      <td>NaT</td>\n",
       "      <td>NaT</td>\n",
       "      <td>NaN</td>\n",
       "      <td>NaN</td>\n",
       "      <td>NaN</td>\n",
       "      <td>NaN</td>\n",
       "      <td>control2</td>\n",
       "    </tr>\n",
       "    <tr>\n",
       "      <th>13362</th>\n",
       "      <td>891697584</td>\n",
       "      <td>48</td>\n",
       "      <td>210</td>\n",
       "      <td>0.0</td>\n",
       "      <td>United Kingdom (Great Britain)</td>\n",
       "      <td>2,3,5,7,9,10,12,14,15</td>\n",
       "      <td>1</td>\n",
       "      <td>45</td>\n",
       "      <td>51</td>\n",
       "      <td>19</td>\n",
       "      <td>0.0</td>\n",
       "      <td>0.0</td>\n",
       "      <td>0</td>\n",
       "      <td>NaT</td>\n",
       "      <td>NaT</td>\n",
       "      <td>NaN</td>\n",
       "      <td>NaN</td>\n",
       "      <td>NaN</td>\n",
       "      <td>NaN</td>\n",
       "      <td>control2</td>\n",
       "    </tr>\n",
       "  </tbody>\n",
       "</table>\n",
       "<p>8435 rows × 20 columns</p>\n",
       "</div>"
      ],
      "text/plain": [
       "             uid  age  attraction_coeff  coins  \\\n",
       "20     891152790   29               769    0.0   \n",
       "35     892333656   50               436    4.0   \n",
       "46     891589239   21               303   37.0   \n",
       "48     891589239   21               303   37.0   \n",
       "104    891343671   26                 0   24.0   \n",
       "...          ...  ...               ...    ...   \n",
       "13357  891094593   55               222    0.0   \n",
       "13358  891095106   22               625    0.0   \n",
       "13359  891937401   63               242    0.0   \n",
       "13360  891692844   35               500    0.0   \n",
       "13362  891697584   48               210    0.0   \n",
       "\n",
       "                            country_x                      visit_days  gender  \\\n",
       "20                              Spain                           2,5,6       1   \n",
       "35           United States of America                         1,2,3,4       1   \n",
       "46                              Italy               1,2,3,4,5,6,7,8,9       1   \n",
       "48                              Italy               1,2,3,4,5,6,7,8,9       1   \n",
       "104                            France               1,2,3,4,5,6,7,8,9       1   \n",
       "...                               ...                             ...     ...   \n",
       "13357        United States of America                     1,2,3,4,5,6       1   \n",
       "13358            United Arab Emirates                       1,2,3,4,5       1   \n",
       "13359                           Italy                             1,2       1   \n",
       "13360                          France  1,2,3,4,5,6,8,9,10,11,12,14,16       1   \n",
       "13362  United Kingdom (Great Britain)           2,3,5,7,9,10,12,14,15       1   \n",
       "\n",
       "       age_filter_start  age_filter_end  views_count  was_premium  is_premium  \\\n",
       "20                   16              32           13          1.0         1.0   \n",
       "35                   47              53          126          0.0         0.0   \n",
       "46                   18              24          181          1.0         1.0   \n",
       "48                   18              24          181          1.0         1.0   \n",
       "104                  23              35           37          1.0         1.0   \n",
       "...                 ...             ...          ...          ...         ...   \n",
       "13357                28              38          117          0.0         0.0   \n",
       "13358                19              25            8          0.0         0.0   \n",
       "13359                50              66           33          0.0         0.0   \n",
       "13360                24              45            2          0.0         0.0   \n",
       "13362                45              51           19          0.0         0.0   \n",
       "\n",
       "       total_revenue           joined_at             paid_at  revenue  \\\n",
       "20             12597 2017-08-11 18:39:00 2017-10-11 11:29:00  12597.0   \n",
       "35               897 2017-10-16 01:45:00 2017-10-16 01:49:00    897.0   \n",
       "46             37817 2017-10-31 14:16:00 2017-10-31 16:07:00  12597.0   \n",
       "48             37817 2017-10-31 14:16:00 2017-10-31 14:21:00   6305.0   \n",
       "104            21580 2017-05-11 13:42:00 2017-05-11 14:02:00   2717.0   \n",
       "...              ...                 ...                 ...      ...   \n",
       "13357              0                 NaT                 NaT      NaN   \n",
       "13358              0                 NaT                 NaT      NaN   \n",
       "13359              0                 NaT                 NaT      NaN   \n",
       "13360              0                 NaT                 NaT      NaN   \n",
       "13362              0                 NaT                 NaT      NaN   \n",
       "\n",
       "       payment_id           from_page      product_type   group_x  \n",
       "20          147.0              dating  premium_no_trial      test  \n",
       "35          146.0         empty_likes             coins      test  \n",
       "46          147.0  popular_users_chat  premium_no_trial      test  \n",
       "48           19.0         empty_likes             coins      test  \n",
       "104          19.0                none             coins      test  \n",
       "...           ...                 ...               ...       ...  \n",
       "13357         NaN                 NaN               NaN  control2  \n",
       "13358         NaN                 NaN               NaN  control2  \n",
       "13359         NaN                 NaN               NaN  control2  \n",
       "13360         NaN                 NaN               NaN  control2  \n",
       "13362         NaN                 NaN               NaN  control2  \n",
       "\n",
       "[8435 rows x 20 columns]"
      ]
     },
     "execution_count": 84,
     "metadata": {},
     "output_type": "execute_result"
    }
   ],
   "source": [
    "df_final"
   ]
  },
  {
   "cell_type": "code",
   "execution_count": 85,
   "metadata": {},
   "outputs": [
    {
     "data": {
      "text/plain": [
       "uid                    0\n",
       "age                    0\n",
       "attraction_coeff       0\n",
       "coins                  0\n",
       "country_x              0\n",
       "visit_days             0\n",
       "gender                 0\n",
       "age_filter_start       0\n",
       "age_filter_end         0\n",
       "views_count            0\n",
       "was_premium            0\n",
       "is_premium             0\n",
       "total_revenue          0\n",
       "joined_at           7834\n",
       "paid_at             7834\n",
       "revenue             7834\n",
       "payment_id          7834\n",
       "from_page           7834\n",
       "product_type        7834\n",
       "group_x                0\n",
       "dtype: int64"
      ]
     },
     "execution_count": 85,
     "metadata": {},
     "output_type": "execute_result"
    }
   ],
   "source": [
    "df_final.isna().sum()"
   ]
  },
  {
   "cell_type": "code",
   "execution_count": 86,
   "metadata": {},
   "outputs": [],
   "source": [
    "#Возьмем метрику Conversion Rate, чтобы оценить как изменилась конвертация пользователя обычного в пользователя с премиум-подпиской"
   ]
  },
  {
   "cell_type": "code",
   "execution_count": 87,
   "metadata": {},
   "outputs": [],
   "source": [
    "cr_test_control1=df_final[(df_final['group_x']=='test')|(df_final['group_x']=='control1')]"
   ]
  },
  {
   "cell_type": "code",
   "execution_count": 88,
   "metadata": {},
   "outputs": [
    {
     "data": {
      "text/html": [
       "<div>\n",
       "<style scoped>\n",
       "    .dataframe tbody tr th:only-of-type {\n",
       "        vertical-align: middle;\n",
       "    }\n",
       "\n",
       "    .dataframe tbody tr th {\n",
       "        vertical-align: top;\n",
       "    }\n",
       "\n",
       "    .dataframe thead th {\n",
       "        text-align: right;\n",
       "    }\n",
       "</style>\n",
       "<table border=\"1\" class=\"dataframe\">\n",
       "  <thead>\n",
       "    <tr style=\"text-align: right;\">\n",
       "      <th></th>\n",
       "      <th>uid</th>\n",
       "      <th>age</th>\n",
       "      <th>attraction_coeff</th>\n",
       "      <th>coins</th>\n",
       "      <th>country_x</th>\n",
       "      <th>visit_days</th>\n",
       "      <th>gender</th>\n",
       "      <th>age_filter_start</th>\n",
       "      <th>age_filter_end</th>\n",
       "      <th>views_count</th>\n",
       "      <th>was_premium</th>\n",
       "      <th>is_premium</th>\n",
       "      <th>total_revenue</th>\n",
       "      <th>joined_at</th>\n",
       "      <th>paid_at</th>\n",
       "      <th>revenue</th>\n",
       "      <th>payment_id</th>\n",
       "      <th>from_page</th>\n",
       "      <th>product_type</th>\n",
       "      <th>group_x</th>\n",
       "    </tr>\n",
       "  </thead>\n",
       "  <tbody>\n",
       "    <tr>\n",
       "      <th>20</th>\n",
       "      <td>891152790</td>\n",
       "      <td>29</td>\n",
       "      <td>769</td>\n",
       "      <td>0.0</td>\n",
       "      <td>Spain</td>\n",
       "      <td>2,5,6</td>\n",
       "      <td>1</td>\n",
       "      <td>16</td>\n",
       "      <td>32</td>\n",
       "      <td>13</td>\n",
       "      <td>1.0</td>\n",
       "      <td>1.0</td>\n",
       "      <td>12597</td>\n",
       "      <td>2017-08-11 18:39:00</td>\n",
       "      <td>2017-10-11 11:29:00</td>\n",
       "      <td>12597.0</td>\n",
       "      <td>147.0</td>\n",
       "      <td>dating</td>\n",
       "      <td>premium_no_trial</td>\n",
       "      <td>test</td>\n",
       "    </tr>\n",
       "    <tr>\n",
       "      <th>35</th>\n",
       "      <td>892333656</td>\n",
       "      <td>50</td>\n",
       "      <td>436</td>\n",
       "      <td>4.0</td>\n",
       "      <td>United States of America</td>\n",
       "      <td>1,2,3,4</td>\n",
       "      <td>1</td>\n",
       "      <td>47</td>\n",
       "      <td>53</td>\n",
       "      <td>126</td>\n",
       "      <td>0.0</td>\n",
       "      <td>0.0</td>\n",
       "      <td>897</td>\n",
       "      <td>2017-10-16 01:45:00</td>\n",
       "      <td>2017-10-16 01:49:00</td>\n",
       "      <td>897.0</td>\n",
       "      <td>146.0</td>\n",
       "      <td>empty_likes</td>\n",
       "      <td>coins</td>\n",
       "      <td>test</td>\n",
       "    </tr>\n",
       "    <tr>\n",
       "      <th>46</th>\n",
       "      <td>891589239</td>\n",
       "      <td>21</td>\n",
       "      <td>303</td>\n",
       "      <td>37.0</td>\n",
       "      <td>Italy</td>\n",
       "      <td>1,2,3,4,5,6,7,8,9</td>\n",
       "      <td>1</td>\n",
       "      <td>18</td>\n",
       "      <td>24</td>\n",
       "      <td>181</td>\n",
       "      <td>1.0</td>\n",
       "      <td>1.0</td>\n",
       "      <td>37817</td>\n",
       "      <td>2017-10-31 14:16:00</td>\n",
       "      <td>2017-10-31 16:07:00</td>\n",
       "      <td>12597.0</td>\n",
       "      <td>147.0</td>\n",
       "      <td>popular_users_chat</td>\n",
       "      <td>premium_no_trial</td>\n",
       "      <td>test</td>\n",
       "    </tr>\n",
       "    <tr>\n",
       "      <th>48</th>\n",
       "      <td>891589239</td>\n",
       "      <td>21</td>\n",
       "      <td>303</td>\n",
       "      <td>37.0</td>\n",
       "      <td>Italy</td>\n",
       "      <td>1,2,3,4,5,6,7,8,9</td>\n",
       "      <td>1</td>\n",
       "      <td>18</td>\n",
       "      <td>24</td>\n",
       "      <td>181</td>\n",
       "      <td>1.0</td>\n",
       "      <td>1.0</td>\n",
       "      <td>37817</td>\n",
       "      <td>2017-10-31 14:16:00</td>\n",
       "      <td>2017-10-31 14:21:00</td>\n",
       "      <td>6305.0</td>\n",
       "      <td>19.0</td>\n",
       "      <td>empty_likes</td>\n",
       "      <td>coins</td>\n",
       "      <td>test</td>\n",
       "    </tr>\n",
       "    <tr>\n",
       "      <th>104</th>\n",
       "      <td>891343671</td>\n",
       "      <td>26</td>\n",
       "      <td>0</td>\n",
       "      <td>24.0</td>\n",
       "      <td>France</td>\n",
       "      <td>1,2,3,4,5,6,7,8,9</td>\n",
       "      <td>1</td>\n",
       "      <td>23</td>\n",
       "      <td>35</td>\n",
       "      <td>37</td>\n",
       "      <td>1.0</td>\n",
       "      <td>1.0</td>\n",
       "      <td>21580</td>\n",
       "      <td>2017-05-11 13:42:00</td>\n",
       "      <td>2017-05-11 14:02:00</td>\n",
       "      <td>2717.0</td>\n",
       "      <td>19.0</td>\n",
       "      <td>none</td>\n",
       "      <td>coins</td>\n",
       "      <td>test</td>\n",
       "    </tr>\n",
       "    <tr>\n",
       "      <th>...</th>\n",
       "      <td>...</td>\n",
       "      <td>...</td>\n",
       "      <td>...</td>\n",
       "      <td>...</td>\n",
       "      <td>...</td>\n",
       "      <td>...</td>\n",
       "      <td>...</td>\n",
       "      <td>...</td>\n",
       "      <td>...</td>\n",
       "      <td>...</td>\n",
       "      <td>...</td>\n",
       "      <td>...</td>\n",
       "      <td>...</td>\n",
       "      <td>...</td>\n",
       "      <td>...</td>\n",
       "      <td>...</td>\n",
       "      <td>...</td>\n",
       "      <td>...</td>\n",
       "      <td>...</td>\n",
       "      <td>...</td>\n",
       "    </tr>\n",
       "    <tr>\n",
       "      <th>8952</th>\n",
       "      <td>891187155</td>\n",
       "      <td>24</td>\n",
       "      <td>250</td>\n",
       "      <td>0.0</td>\n",
       "      <td>Chile</td>\n",
       "      <td>1,2,3,4,5,6,7,8</td>\n",
       "      <td>1</td>\n",
       "      <td>21</td>\n",
       "      <td>27</td>\n",
       "      <td>4</td>\n",
       "      <td>0.0</td>\n",
       "      <td>0.0</td>\n",
       "      <td>0</td>\n",
       "      <td>NaT</td>\n",
       "      <td>NaT</td>\n",
       "      <td>NaN</td>\n",
       "      <td>NaN</td>\n",
       "      <td>NaN</td>\n",
       "      <td>NaN</td>\n",
       "      <td>control1</td>\n",
       "    </tr>\n",
       "    <tr>\n",
       "      <th>8955</th>\n",
       "      <td>891905022</td>\n",
       "      <td>38</td>\n",
       "      <td>200</td>\n",
       "      <td>0.0</td>\n",
       "      <td>Argentina</td>\n",
       "      <td>1,2,3,4,5,6,7,8,9,10,11,13,14,15,16,21</td>\n",
       "      <td>1</td>\n",
       "      <td>20</td>\n",
       "      <td>50</td>\n",
       "      <td>5</td>\n",
       "      <td>0.0</td>\n",
       "      <td>0.0</td>\n",
       "      <td>0</td>\n",
       "      <td>NaT</td>\n",
       "      <td>NaT</td>\n",
       "      <td>NaN</td>\n",
       "      <td>NaN</td>\n",
       "      <td>NaN</td>\n",
       "      <td>NaN</td>\n",
       "      <td>control1</td>\n",
       "    </tr>\n",
       "    <tr>\n",
       "      <th>8956</th>\n",
       "      <td>891304722</td>\n",
       "      <td>49</td>\n",
       "      <td>411</td>\n",
       "      <td>0.0</td>\n",
       "      <td>United States of America</td>\n",
       "      <td>1</td>\n",
       "      <td>1</td>\n",
       "      <td>46</td>\n",
       "      <td>52</td>\n",
       "      <td>17</td>\n",
       "      <td>0.0</td>\n",
       "      <td>0.0</td>\n",
       "      <td>0</td>\n",
       "      <td>NaT</td>\n",
       "      <td>NaT</td>\n",
       "      <td>NaN</td>\n",
       "      <td>NaN</td>\n",
       "      <td>NaN</td>\n",
       "      <td>NaN</td>\n",
       "      <td>control1</td>\n",
       "    </tr>\n",
       "    <tr>\n",
       "      <th>8957</th>\n",
       "      <td>891302328</td>\n",
       "      <td>27</td>\n",
       "      <td>0</td>\n",
       "      <td>0.0</td>\n",
       "      <td>United States of America</td>\n",
       "      <td>1,3,5</td>\n",
       "      <td>1</td>\n",
       "      <td>24</td>\n",
       "      <td>30</td>\n",
       "      <td>0</td>\n",
       "      <td>0.0</td>\n",
       "      <td>0.0</td>\n",
       "      <td>0</td>\n",
       "      <td>NaT</td>\n",
       "      <td>NaT</td>\n",
       "      <td>NaN</td>\n",
       "      <td>NaN</td>\n",
       "      <td>NaN</td>\n",
       "      <td>NaN</td>\n",
       "      <td>control1</td>\n",
       "    </tr>\n",
       "    <tr>\n",
       "      <th>8958</th>\n",
       "      <td>891182532</td>\n",
       "      <td>31</td>\n",
       "      <td>1000</td>\n",
       "      <td>0.0</td>\n",
       "      <td>United States of America</td>\n",
       "      <td>1</td>\n",
       "      <td>1</td>\n",
       "      <td>19</td>\n",
       "      <td>34</td>\n",
       "      <td>2</td>\n",
       "      <td>0.0</td>\n",
       "      <td>0.0</td>\n",
       "      <td>0</td>\n",
       "      <td>NaT</td>\n",
       "      <td>NaT</td>\n",
       "      <td>NaN</td>\n",
       "      <td>NaN</td>\n",
       "      <td>NaN</td>\n",
       "      <td>NaN</td>\n",
       "      <td>control1</td>\n",
       "    </tr>\n",
       "  </tbody>\n",
       "</table>\n",
       "<p>5685 rows × 20 columns</p>\n",
       "</div>"
      ],
      "text/plain": [
       "            uid  age  attraction_coeff  coins                 country_x  \\\n",
       "20    891152790   29               769    0.0                     Spain   \n",
       "35    892333656   50               436    4.0  United States of America   \n",
       "46    891589239   21               303   37.0                     Italy   \n",
       "48    891589239   21               303   37.0                     Italy   \n",
       "104   891343671   26                 0   24.0                    France   \n",
       "...         ...  ...               ...    ...                       ...   \n",
       "8952  891187155   24               250    0.0                     Chile   \n",
       "8955  891905022   38               200    0.0                 Argentina   \n",
       "8956  891304722   49               411    0.0  United States of America   \n",
       "8957  891302328   27                 0    0.0  United States of America   \n",
       "8958  891182532   31              1000    0.0  United States of America   \n",
       "\n",
       "                                  visit_days  gender  age_filter_start  \\\n",
       "20                                     2,5,6       1                16   \n",
       "35                                   1,2,3,4       1                47   \n",
       "46                         1,2,3,4,5,6,7,8,9       1                18   \n",
       "48                         1,2,3,4,5,6,7,8,9       1                18   \n",
       "104                        1,2,3,4,5,6,7,8,9       1                23   \n",
       "...                                      ...     ...               ...   \n",
       "8952                         1,2,3,4,5,6,7,8       1                21   \n",
       "8955  1,2,3,4,5,6,7,8,9,10,11,13,14,15,16,21       1                20   \n",
       "8956                                       1       1                46   \n",
       "8957                                   1,3,5       1                24   \n",
       "8958                                       1       1                19   \n",
       "\n",
       "      age_filter_end  views_count  was_premium  is_premium  total_revenue  \\\n",
       "20                32           13          1.0         1.0          12597   \n",
       "35                53          126          0.0         0.0            897   \n",
       "46                24          181          1.0         1.0          37817   \n",
       "48                24          181          1.0         1.0          37817   \n",
       "104               35           37          1.0         1.0          21580   \n",
       "...              ...          ...          ...         ...            ...   \n",
       "8952              27            4          0.0         0.0              0   \n",
       "8955              50            5          0.0         0.0              0   \n",
       "8956              52           17          0.0         0.0              0   \n",
       "8957              30            0          0.0         0.0              0   \n",
       "8958              34            2          0.0         0.0              0   \n",
       "\n",
       "               joined_at             paid_at  revenue  payment_id  \\\n",
       "20   2017-08-11 18:39:00 2017-10-11 11:29:00  12597.0       147.0   \n",
       "35   2017-10-16 01:45:00 2017-10-16 01:49:00    897.0       146.0   \n",
       "46   2017-10-31 14:16:00 2017-10-31 16:07:00  12597.0       147.0   \n",
       "48   2017-10-31 14:16:00 2017-10-31 14:21:00   6305.0        19.0   \n",
       "104  2017-05-11 13:42:00 2017-05-11 14:02:00   2717.0        19.0   \n",
       "...                  ...                 ...      ...         ...   \n",
       "8952                 NaT                 NaT      NaN         NaN   \n",
       "8955                 NaT                 NaT      NaN         NaN   \n",
       "8956                 NaT                 NaT      NaN         NaN   \n",
       "8957                 NaT                 NaT      NaN         NaN   \n",
       "8958                 NaT                 NaT      NaN         NaN   \n",
       "\n",
       "               from_page      product_type   group_x  \n",
       "20                dating  premium_no_trial      test  \n",
       "35           empty_likes             coins      test  \n",
       "46    popular_users_chat  premium_no_trial      test  \n",
       "48           empty_likes             coins      test  \n",
       "104                 none             coins      test  \n",
       "...                  ...               ...       ...  \n",
       "8952                 NaN               NaN  control1  \n",
       "8955                 NaN               NaN  control1  \n",
       "8956                 NaN               NaN  control1  \n",
       "8957                 NaN               NaN  control1  \n",
       "8958                 NaN               NaN  control1  \n",
       "\n",
       "[5685 rows x 20 columns]"
      ]
     },
     "execution_count": 88,
     "metadata": {},
     "output_type": "execute_result"
    }
   ],
   "source": [
    "cr_test_control1"
   ]
  },
  {
   "cell_type": "code",
   "execution_count": 89,
   "metadata": {},
   "outputs": [],
   "source": [
    "#Разберем страны, которые встречаются только в отдельных группах и будем работать с метрикой без их учета"
   ]
  },
  {
   "cell_type": "code",
   "execution_count": 90,
   "metadata": {},
   "outputs": [
    {
     "name": "stdout",
     "output_type": "stream",
     "text": [
      "Только в тесте: {'Monaco', 'Indonesia', 'Singapore', 'Pakistan', 'Nepal', 'Tajikistan', 'Uzbekistan', 'Latvia', 'Morocco', 'Hungary', 'Islamic Republic of Iran', 'Iraq', 'Guatemala'}\n",
      "Только в контроле: {'China', 'Armenia', 'Panama', 'Moldova, Republic of', 'Puerto Rico', 'Burkina Faso', 'Sweden', 'Jamaica', 'Qatar', 'Venezuela'}\n"
     ]
    }
   ],
   "source": [
    "test_countries = set(cr_test_control1[cr_test_control1['group_x'] == 'test']['country_x'].unique())\n",
    "control_countries = set(cr_test_control1[cr_test_control1['group_x'] == 'control1']['country_x'].unique())\n",
    "\n",
    "only_in_test = test_countries - control_countries\n",
    "only_in_control = control_countries - test_countries\n",
    "\n",
    "print(\"Только в тесте:\", only_in_test)\n",
    "print(\"Только в контроле:\", only_in_control)"
   ]
  },
  {
   "cell_type": "code",
   "execution_count": 91,
   "metadata": {},
   "outputs": [],
   "source": [
    "common_countries = test_countries & control_countries\n",
    "cr_test_control1 = cr_test_control1[cr_test_control1['country_x'].isin(common_countries)]"
   ]
  },
  {
   "cell_type": "code",
   "execution_count": 92,
   "metadata": {},
   "outputs": [
    {
     "data": {
      "text/html": [
       "<div>\n",
       "<style scoped>\n",
       "    .dataframe tbody tr th:only-of-type {\n",
       "        vertical-align: middle;\n",
       "    }\n",
       "\n",
       "    .dataframe tbody tr th {\n",
       "        vertical-align: top;\n",
       "    }\n",
       "\n",
       "    .dataframe thead th {\n",
       "        text-align: right;\n",
       "    }\n",
       "</style>\n",
       "<table border=\"1\" class=\"dataframe\">\n",
       "  <thead>\n",
       "    <tr style=\"text-align: right;\">\n",
       "      <th></th>\n",
       "      <th>uid</th>\n",
       "      <th>age</th>\n",
       "      <th>attraction_coeff</th>\n",
       "      <th>coins</th>\n",
       "      <th>country_x</th>\n",
       "      <th>visit_days</th>\n",
       "      <th>gender</th>\n",
       "      <th>age_filter_start</th>\n",
       "      <th>age_filter_end</th>\n",
       "      <th>views_count</th>\n",
       "      <th>was_premium</th>\n",
       "      <th>is_premium</th>\n",
       "      <th>total_revenue</th>\n",
       "      <th>joined_at</th>\n",
       "      <th>paid_at</th>\n",
       "      <th>revenue</th>\n",
       "      <th>payment_id</th>\n",
       "      <th>from_page</th>\n",
       "      <th>product_type</th>\n",
       "      <th>group_x</th>\n",
       "    </tr>\n",
       "  </thead>\n",
       "  <tbody>\n",
       "    <tr>\n",
       "      <th>20</th>\n",
       "      <td>891152790</td>\n",
       "      <td>29</td>\n",
       "      <td>769</td>\n",
       "      <td>0.0</td>\n",
       "      <td>Spain</td>\n",
       "      <td>2,5,6</td>\n",
       "      <td>1</td>\n",
       "      <td>16</td>\n",
       "      <td>32</td>\n",
       "      <td>13</td>\n",
       "      <td>1.0</td>\n",
       "      <td>1.0</td>\n",
       "      <td>12597</td>\n",
       "      <td>2017-08-11 18:39:00</td>\n",
       "      <td>2017-10-11 11:29:00</td>\n",
       "      <td>12597.0</td>\n",
       "      <td>147.0</td>\n",
       "      <td>dating</td>\n",
       "      <td>premium_no_trial</td>\n",
       "      <td>test</td>\n",
       "    </tr>\n",
       "    <tr>\n",
       "      <th>35</th>\n",
       "      <td>892333656</td>\n",
       "      <td>50</td>\n",
       "      <td>436</td>\n",
       "      <td>4.0</td>\n",
       "      <td>United States of America</td>\n",
       "      <td>1,2,3,4</td>\n",
       "      <td>1</td>\n",
       "      <td>47</td>\n",
       "      <td>53</td>\n",
       "      <td>126</td>\n",
       "      <td>0.0</td>\n",
       "      <td>0.0</td>\n",
       "      <td>897</td>\n",
       "      <td>2017-10-16 01:45:00</td>\n",
       "      <td>2017-10-16 01:49:00</td>\n",
       "      <td>897.0</td>\n",
       "      <td>146.0</td>\n",
       "      <td>empty_likes</td>\n",
       "      <td>coins</td>\n",
       "      <td>test</td>\n",
       "    </tr>\n",
       "    <tr>\n",
       "      <th>46</th>\n",
       "      <td>891589239</td>\n",
       "      <td>21</td>\n",
       "      <td>303</td>\n",
       "      <td>37.0</td>\n",
       "      <td>Italy</td>\n",
       "      <td>1,2,3,4,5,6,7,8,9</td>\n",
       "      <td>1</td>\n",
       "      <td>18</td>\n",
       "      <td>24</td>\n",
       "      <td>181</td>\n",
       "      <td>1.0</td>\n",
       "      <td>1.0</td>\n",
       "      <td>37817</td>\n",
       "      <td>2017-10-31 14:16:00</td>\n",
       "      <td>2017-10-31 16:07:00</td>\n",
       "      <td>12597.0</td>\n",
       "      <td>147.0</td>\n",
       "      <td>popular_users_chat</td>\n",
       "      <td>premium_no_trial</td>\n",
       "      <td>test</td>\n",
       "    </tr>\n",
       "    <tr>\n",
       "      <th>48</th>\n",
       "      <td>891589239</td>\n",
       "      <td>21</td>\n",
       "      <td>303</td>\n",
       "      <td>37.0</td>\n",
       "      <td>Italy</td>\n",
       "      <td>1,2,3,4,5,6,7,8,9</td>\n",
       "      <td>1</td>\n",
       "      <td>18</td>\n",
       "      <td>24</td>\n",
       "      <td>181</td>\n",
       "      <td>1.0</td>\n",
       "      <td>1.0</td>\n",
       "      <td>37817</td>\n",
       "      <td>2017-10-31 14:16:00</td>\n",
       "      <td>2017-10-31 14:21:00</td>\n",
       "      <td>6305.0</td>\n",
       "      <td>19.0</td>\n",
       "      <td>empty_likes</td>\n",
       "      <td>coins</td>\n",
       "      <td>test</td>\n",
       "    </tr>\n",
       "    <tr>\n",
       "      <th>104</th>\n",
       "      <td>891343671</td>\n",
       "      <td>26</td>\n",
       "      <td>0</td>\n",
       "      <td>24.0</td>\n",
       "      <td>France</td>\n",
       "      <td>1,2,3,4,5,6,7,8,9</td>\n",
       "      <td>1</td>\n",
       "      <td>23</td>\n",
       "      <td>35</td>\n",
       "      <td>37</td>\n",
       "      <td>1.0</td>\n",
       "      <td>1.0</td>\n",
       "      <td>21580</td>\n",
       "      <td>2017-05-11 13:42:00</td>\n",
       "      <td>2017-05-11 14:02:00</td>\n",
       "      <td>2717.0</td>\n",
       "      <td>19.0</td>\n",
       "      <td>none</td>\n",
       "      <td>coins</td>\n",
       "      <td>test</td>\n",
       "    </tr>\n",
       "    <tr>\n",
       "      <th>...</th>\n",
       "      <td>...</td>\n",
       "      <td>...</td>\n",
       "      <td>...</td>\n",
       "      <td>...</td>\n",
       "      <td>...</td>\n",
       "      <td>...</td>\n",
       "      <td>...</td>\n",
       "      <td>...</td>\n",
       "      <td>...</td>\n",
       "      <td>...</td>\n",
       "      <td>...</td>\n",
       "      <td>...</td>\n",
       "      <td>...</td>\n",
       "      <td>...</td>\n",
       "      <td>...</td>\n",
       "      <td>...</td>\n",
       "      <td>...</td>\n",
       "      <td>...</td>\n",
       "      <td>...</td>\n",
       "      <td>...</td>\n",
       "    </tr>\n",
       "    <tr>\n",
       "      <th>8952</th>\n",
       "      <td>891187155</td>\n",
       "      <td>24</td>\n",
       "      <td>250</td>\n",
       "      <td>0.0</td>\n",
       "      <td>Chile</td>\n",
       "      <td>1,2,3,4,5,6,7,8</td>\n",
       "      <td>1</td>\n",
       "      <td>21</td>\n",
       "      <td>27</td>\n",
       "      <td>4</td>\n",
       "      <td>0.0</td>\n",
       "      <td>0.0</td>\n",
       "      <td>0</td>\n",
       "      <td>NaT</td>\n",
       "      <td>NaT</td>\n",
       "      <td>NaN</td>\n",
       "      <td>NaN</td>\n",
       "      <td>NaN</td>\n",
       "      <td>NaN</td>\n",
       "      <td>control1</td>\n",
       "    </tr>\n",
       "    <tr>\n",
       "      <th>8955</th>\n",
       "      <td>891905022</td>\n",
       "      <td>38</td>\n",
       "      <td>200</td>\n",
       "      <td>0.0</td>\n",
       "      <td>Argentina</td>\n",
       "      <td>1,2,3,4,5,6,7,8,9,10,11,13,14,15,16,21</td>\n",
       "      <td>1</td>\n",
       "      <td>20</td>\n",
       "      <td>50</td>\n",
       "      <td>5</td>\n",
       "      <td>0.0</td>\n",
       "      <td>0.0</td>\n",
       "      <td>0</td>\n",
       "      <td>NaT</td>\n",
       "      <td>NaT</td>\n",
       "      <td>NaN</td>\n",
       "      <td>NaN</td>\n",
       "      <td>NaN</td>\n",
       "      <td>NaN</td>\n",
       "      <td>control1</td>\n",
       "    </tr>\n",
       "    <tr>\n",
       "      <th>8956</th>\n",
       "      <td>891304722</td>\n",
       "      <td>49</td>\n",
       "      <td>411</td>\n",
       "      <td>0.0</td>\n",
       "      <td>United States of America</td>\n",
       "      <td>1</td>\n",
       "      <td>1</td>\n",
       "      <td>46</td>\n",
       "      <td>52</td>\n",
       "      <td>17</td>\n",
       "      <td>0.0</td>\n",
       "      <td>0.0</td>\n",
       "      <td>0</td>\n",
       "      <td>NaT</td>\n",
       "      <td>NaT</td>\n",
       "      <td>NaN</td>\n",
       "      <td>NaN</td>\n",
       "      <td>NaN</td>\n",
       "      <td>NaN</td>\n",
       "      <td>control1</td>\n",
       "    </tr>\n",
       "    <tr>\n",
       "      <th>8957</th>\n",
       "      <td>891302328</td>\n",
       "      <td>27</td>\n",
       "      <td>0</td>\n",
       "      <td>0.0</td>\n",
       "      <td>United States of America</td>\n",
       "      <td>1,3,5</td>\n",
       "      <td>1</td>\n",
       "      <td>24</td>\n",
       "      <td>30</td>\n",
       "      <td>0</td>\n",
       "      <td>0.0</td>\n",
       "      <td>0.0</td>\n",
       "      <td>0</td>\n",
       "      <td>NaT</td>\n",
       "      <td>NaT</td>\n",
       "      <td>NaN</td>\n",
       "      <td>NaN</td>\n",
       "      <td>NaN</td>\n",
       "      <td>NaN</td>\n",
       "      <td>control1</td>\n",
       "    </tr>\n",
       "    <tr>\n",
       "      <th>8958</th>\n",
       "      <td>891182532</td>\n",
       "      <td>31</td>\n",
       "      <td>1000</td>\n",
       "      <td>0.0</td>\n",
       "      <td>United States of America</td>\n",
       "      <td>1</td>\n",
       "      <td>1</td>\n",
       "      <td>19</td>\n",
       "      <td>34</td>\n",
       "      <td>2</td>\n",
       "      <td>0.0</td>\n",
       "      <td>0.0</td>\n",
       "      <td>0</td>\n",
       "      <td>NaT</td>\n",
       "      <td>NaT</td>\n",
       "      <td>NaN</td>\n",
       "      <td>NaN</td>\n",
       "      <td>NaN</td>\n",
       "      <td>NaN</td>\n",
       "      <td>control1</td>\n",
       "    </tr>\n",
       "  </tbody>\n",
       "</table>\n",
       "<p>5651 rows × 20 columns</p>\n",
       "</div>"
      ],
      "text/plain": [
       "            uid  age  attraction_coeff  coins                 country_x  \\\n",
       "20    891152790   29               769    0.0                     Spain   \n",
       "35    892333656   50               436    4.0  United States of America   \n",
       "46    891589239   21               303   37.0                     Italy   \n",
       "48    891589239   21               303   37.0                     Italy   \n",
       "104   891343671   26                 0   24.0                    France   \n",
       "...         ...  ...               ...    ...                       ...   \n",
       "8952  891187155   24               250    0.0                     Chile   \n",
       "8955  891905022   38               200    0.0                 Argentina   \n",
       "8956  891304722   49               411    0.0  United States of America   \n",
       "8957  891302328   27                 0    0.0  United States of America   \n",
       "8958  891182532   31              1000    0.0  United States of America   \n",
       "\n",
       "                                  visit_days  gender  age_filter_start  \\\n",
       "20                                     2,5,6       1                16   \n",
       "35                                   1,2,3,4       1                47   \n",
       "46                         1,2,3,4,5,6,7,8,9       1                18   \n",
       "48                         1,2,3,4,5,6,7,8,9       1                18   \n",
       "104                        1,2,3,4,5,6,7,8,9       1                23   \n",
       "...                                      ...     ...               ...   \n",
       "8952                         1,2,3,4,5,6,7,8       1                21   \n",
       "8955  1,2,3,4,5,6,7,8,9,10,11,13,14,15,16,21       1                20   \n",
       "8956                                       1       1                46   \n",
       "8957                                   1,3,5       1                24   \n",
       "8958                                       1       1                19   \n",
       "\n",
       "      age_filter_end  views_count  was_premium  is_premium  total_revenue  \\\n",
       "20                32           13          1.0         1.0          12597   \n",
       "35                53          126          0.0         0.0            897   \n",
       "46                24          181          1.0         1.0          37817   \n",
       "48                24          181          1.0         1.0          37817   \n",
       "104               35           37          1.0         1.0          21580   \n",
       "...              ...          ...          ...         ...            ...   \n",
       "8952              27            4          0.0         0.0              0   \n",
       "8955              50            5          0.0         0.0              0   \n",
       "8956              52           17          0.0         0.0              0   \n",
       "8957              30            0          0.0         0.0              0   \n",
       "8958              34            2          0.0         0.0              0   \n",
       "\n",
       "               joined_at             paid_at  revenue  payment_id  \\\n",
       "20   2017-08-11 18:39:00 2017-10-11 11:29:00  12597.0       147.0   \n",
       "35   2017-10-16 01:45:00 2017-10-16 01:49:00    897.0       146.0   \n",
       "46   2017-10-31 14:16:00 2017-10-31 16:07:00  12597.0       147.0   \n",
       "48   2017-10-31 14:16:00 2017-10-31 14:21:00   6305.0        19.0   \n",
       "104  2017-05-11 13:42:00 2017-05-11 14:02:00   2717.0        19.0   \n",
       "...                  ...                 ...      ...         ...   \n",
       "8952                 NaT                 NaT      NaN         NaN   \n",
       "8955                 NaT                 NaT      NaN         NaN   \n",
       "8956                 NaT                 NaT      NaN         NaN   \n",
       "8957                 NaT                 NaT      NaN         NaN   \n",
       "8958                 NaT                 NaT      NaN         NaN   \n",
       "\n",
       "               from_page      product_type   group_x  \n",
       "20                dating  premium_no_trial      test  \n",
       "35           empty_likes             coins      test  \n",
       "46    popular_users_chat  premium_no_trial      test  \n",
       "48           empty_likes             coins      test  \n",
       "104                 none             coins      test  \n",
       "...                  ...               ...       ...  \n",
       "8952                 NaN               NaN  control1  \n",
       "8955                 NaN               NaN  control1  \n",
       "8956                 NaN               NaN  control1  \n",
       "8957                 NaN               NaN  control1  \n",
       "8958                 NaN               NaN  control1  \n",
       "\n",
       "[5651 rows x 20 columns]"
      ]
     },
     "execution_count": 92,
     "metadata": {},
     "output_type": "execute_result"
    }
   ],
   "source": [
    "cr_test_control1"
   ]
  },
  {
   "cell_type": "code",
   "execution_count": 93,
   "metadata": {},
   "outputs": [],
   "source": [
    "#Для расчета CR будем брать только уникальные uid пользователей"
   ]
  },
  {
   "cell_type": "code",
   "execution_count": 94,
   "metadata": {},
   "outputs": [],
   "source": [
    "cr_test_control1=cr_test_control1.drop_duplicates(subset=['uid'])"
   ]
  },
  {
   "cell_type": "code",
   "execution_count": 95,
   "metadata": {},
   "outputs": [],
   "source": [
    "#Разберемся с системами платежей, через которые проводились тразакции."
   ]
  },
  {
   "cell_type": "code",
   "execution_count": 96,
   "metadata": {},
   "outputs": [
    {
     "data": {
      "text/plain": [
       "147.0    67\n",
       "19.0     18\n",
       "146.0    17\n",
       "68.0      9\n",
       "67.0      4\n",
       "Name: payment_id, dtype: int64"
      ]
     },
     "execution_count": 96,
     "metadata": {},
     "output_type": "execute_result"
    }
   ],
   "source": [
    "cr_test_control1[cr_test_control1['group_x'] == 'test'].payment_id.value_counts()"
   ]
  },
  {
   "cell_type": "code",
   "execution_count": 97,
   "metadata": {},
   "outputs": [
    {
     "data": {
      "text/plain": [
       "147.0    90\n",
       "19.0     25\n",
       "146.0    15\n",
       "68.0     11\n",
       "67.0     11\n",
       "0.0       2\n",
       "127.0     1\n",
       "Name: payment_id, dtype: int64"
      ]
     },
     "execution_count": 97,
     "metadata": {},
     "output_type": "execute_result"
    }
   ],
   "source": [
    "cr_test_control1[cr_test_control1['group_x'] == 'control1'].payment_id.value_counts()"
   ]
  },
  {
   "cell_type": "code",
   "execution_count": 98,
   "metadata": {},
   "outputs": [],
   "source": [
    "#Оставляем только 147 и 19"
   ]
  },
  {
   "cell_type": "code",
   "execution_count": 99,
   "metadata": {},
   "outputs": [],
   "source": [
    "buyers=cr_test_control1[(cr_test_control1['payment_id']==147)|(cr_test_control1['payment_id']==19)]"
   ]
  },
  {
   "cell_type": "code",
   "execution_count": 100,
   "metadata": {},
   "outputs": [],
   "source": [
    "#Наш эксперимент наблюдал над пользователями, которые покупают премиум без trial, \n",
    "#выбирает в типе покупаемого продукта premium_no_trial"
   ]
  },
  {
   "cell_type": "code",
   "execution_count": 101,
   "metadata": {},
   "outputs": [],
   "source": [
    "buyers=buyers[buyers['product_type']=='premium_no_trial']\n"
   ]
  },
  {
   "cell_type": "code",
   "execution_count": 102,
   "metadata": {},
   "outputs": [],
   "source": [
    "buyers=buyers.groupby('group_x',as_index=False)['uid'].count()\n",
    "buyers.rename(columns={'uid':'count_buy'},inplace=True)"
   ]
  },
  {
   "cell_type": "code",
   "execution_count": 103,
   "metadata": {},
   "outputs": [
    {
     "data": {
      "text/html": [
       "<div>\n",
       "<style scoped>\n",
       "    .dataframe tbody tr th:only-of-type {\n",
       "        vertical-align: middle;\n",
       "    }\n",
       "\n",
       "    .dataframe tbody tr th {\n",
       "        vertical-align: top;\n",
       "    }\n",
       "\n",
       "    .dataframe thead th {\n",
       "        text-align: right;\n",
       "    }\n",
       "</style>\n",
       "<table border=\"1\" class=\"dataframe\">\n",
       "  <thead>\n",
       "    <tr style=\"text-align: right;\">\n",
       "      <th></th>\n",
       "      <th>group_x</th>\n",
       "      <th>count_buy</th>\n",
       "    </tr>\n",
       "  </thead>\n",
       "  <tbody>\n",
       "    <tr>\n",
       "      <th>0</th>\n",
       "      <td>control1</td>\n",
       "      <td>49</td>\n",
       "    </tr>\n",
       "    <tr>\n",
       "      <th>1</th>\n",
       "      <td>test</td>\n",
       "      <td>36</td>\n",
       "    </tr>\n",
       "  </tbody>\n",
       "</table>\n",
       "</div>"
      ],
      "text/plain": [
       "    group_x  count_buy\n",
       "0  control1         49\n",
       "1      test         36"
      ]
     },
     "execution_count": 103,
     "metadata": {},
     "output_type": "execute_result"
    }
   ],
   "source": [
    "buyers"
   ]
  },
  {
   "cell_type": "code",
   "execution_count": 104,
   "metadata": {},
   "outputs": [],
   "source": [
    "group_count=cr_test_control1.groupby('group_x',as_index=False)['uid'].count()\n"
   ]
  },
  {
   "cell_type": "code",
   "execution_count": 105,
   "metadata": {},
   "outputs": [],
   "source": [
    "group_count.rename(columns={'uid':'count_uid'},inplace=True)"
   ]
  },
  {
   "cell_type": "code",
   "execution_count": 106,
   "metadata": {},
   "outputs": [],
   "source": [
    "chi_cr1=group_count.merge(buyers,how='left',on='group_x')"
   ]
  },
  {
   "cell_type": "code",
   "execution_count": 107,
   "metadata": {},
   "outputs": [
    {
     "data": {
      "text/html": [
       "<div>\n",
       "<style scoped>\n",
       "    .dataframe tbody tr th:only-of-type {\n",
       "        vertical-align: middle;\n",
       "    }\n",
       "\n",
       "    .dataframe tbody tr th {\n",
       "        vertical-align: top;\n",
       "    }\n",
       "\n",
       "    .dataframe thead th {\n",
       "        text-align: right;\n",
       "    }\n",
       "</style>\n",
       "<table border=\"1\" class=\"dataframe\">\n",
       "  <thead>\n",
       "    <tr style=\"text-align: right;\">\n",
       "      <th></th>\n",
       "      <th>count_buy</th>\n",
       "      <th>count_uid</th>\n",
       "    </tr>\n",
       "  </thead>\n",
       "  <tbody>\n",
       "    <tr>\n",
       "      <th>0</th>\n",
       "      <td>49</td>\n",
       "      <td>2792</td>\n",
       "    </tr>\n",
       "    <tr>\n",
       "      <th>1</th>\n",
       "      <td>36</td>\n",
       "      <td>2736</td>\n",
       "    </tr>\n",
       "  </tbody>\n",
       "</table>\n",
       "</div>"
      ],
      "text/plain": [
       "   count_buy  count_uid\n",
       "0         49       2792\n",
       "1         36       2736"
      ]
     },
     "execution_count": 107,
     "metadata": {},
     "output_type": "execute_result"
    }
   ],
   "source": [
    "chi_cr1=chi_cr1[['count_buy','count_uid']]\n",
    "chi_cr1"
   ]
  },
  {
   "cell_type": "code",
   "execution_count": 108,
   "metadata": {},
   "outputs": [],
   "source": [
    "#В переменной buyers у нас пользователи, совершившие целевое действие,\n",
    "#а в group_count число пользователей в отдельной группе"
   ]
  },
  {
   "cell_type": "code",
   "execution_count": 109,
   "metadata": {},
   "outputs": [
    {
     "data": {
      "text/plain": [
       "(1.4338599778659857,\n",
       " 0.2311355196477452,\n",
       " 1,\n",
       " array([[  43.02244789, 2797.97755211],\n",
       "        [  41.97755211, 2730.02244789]]))"
      ]
     },
     "execution_count": 109,
     "metadata": {},
     "output_type": "execute_result"
    }
   ],
   "source": [
    "scipy.stats.chi2_contingency(chi_cr1)"
   ]
  },
  {
   "cell_type": "code",
   "execution_count": 110,
   "metadata": {},
   "outputs": [],
   "source": [
    "#Хоть конверсия и упала, но стат.значимых различий не было обнаружено в процессе проведения теста."
   ]
  },
  {
   "cell_type": "code",
   "execution_count": 111,
   "metadata": {},
   "outputs": [
    {
     "name": "stdout",
     "output_type": "stream",
     "text": [
      "Только в тесте: {'Monaco', 'Algeria', 'Indonesia', 'Singapore', 'Nepal', 'Tunisia', 'Uzbekistan', 'Latvia', 'Egypt', 'Islamic Republic of Iran', 'Iraq', 'Guatemala', 'Romania'}\n",
      "Только в контроле: {'Somalia', 'Malaysia', 'Mali', 'Georgia', 'Uganda', 'China', 'Uruguay', 'Belarus', 'New Zealand', 'Nicaragua', 'Qatar', 'Paraguay', 'Czech Republic', 'Kuwait'}\n"
     ]
    }
   ],
   "source": [
    "cr_test_control2=df_final[(df_final['group_x']=='test')|(df_final['group_x']=='control2')]\n",
    "test_countries2 = set(cr_test_control2[cr_test_control2['group_x'] == 'test']['country_x'].unique())\n",
    "control_countries2 = set(cr_test_control2[cr_test_control2['group_x'] == 'control2']['country_x'].unique())\n",
    "\n",
    "only_in_test2 = test_countries2 - control_countries2\n",
    "only_in_control2 = control_countries2 - test_countries2\n",
    "\n",
    "print(\"Только в тесте:\", only_in_test2)\n",
    "print(\"Только в контроле:\", only_in_control2)"
   ]
  },
  {
   "cell_type": "code",
   "execution_count": 112,
   "metadata": {},
   "outputs": [],
   "source": [
    "common_countries2 = test_countries2 & control_countries2\n",
    "cr_test_control2 = cr_test_control2[cr_test_control2['country_x'].isin(common_countries)]"
   ]
  },
  {
   "cell_type": "code",
   "execution_count": 113,
   "metadata": {},
   "outputs": [],
   "source": [
    "buyers_2=cr_test_control2[(cr_test_control2['payment_id']==147)|(cr_test_control2['payment_id']==19)]"
   ]
  },
  {
   "cell_type": "code",
   "execution_count": 114,
   "metadata": {},
   "outputs": [],
   "source": [
    "buyers_2=cr_test_control2[cr_test_control2['product_type']=='premium_no_trial']"
   ]
  },
  {
   "cell_type": "code",
   "execution_count": 115,
   "metadata": {},
   "outputs": [],
   "source": [
    "buyers_2=buyers_2.groupby('group_x',as_index=False)['uid'].count()\n",
    "buyers_2.rename(columns={'uid':'count_buy'},inplace=True)"
   ]
  },
  {
   "cell_type": "code",
   "execution_count": 116,
   "metadata": {},
   "outputs": [],
   "source": [
    "group_count_2=cr_test_control2.groupby('group_x',as_index=False)['uid'].count()"
   ]
  },
  {
   "cell_type": "code",
   "execution_count": 117,
   "metadata": {},
   "outputs": [],
   "source": [
    "group_count_2.rename(columns={'uid':'count_uid'},inplace=True)\n",
    "chi_cr2=group_count_2.merge(buyers_2,how='left',on='group_x')\n",
    "chi_cr2=chi_cr2[['count_buy','count_uid']]"
   ]
  },
  {
   "cell_type": "code",
   "execution_count": 118,
   "metadata": {},
   "outputs": [
    {
     "data": {
      "text/html": [
       "<div>\n",
       "<style scoped>\n",
       "    .dataframe tbody tr th:only-of-type {\n",
       "        vertical-align: middle;\n",
       "    }\n",
       "\n",
       "    .dataframe tbody tr th {\n",
       "        vertical-align: top;\n",
       "    }\n",
       "\n",
       "    .dataframe thead th {\n",
       "        text-align: right;\n",
       "    }\n",
       "</style>\n",
       "<table border=\"1\" class=\"dataframe\">\n",
       "  <thead>\n",
       "    <tr style=\"text-align: right;\">\n",
       "      <th></th>\n",
       "      <th>count_buy</th>\n",
       "      <th>count_uid</th>\n",
       "    </tr>\n",
       "  </thead>\n",
       "  <tbody>\n",
       "    <tr>\n",
       "      <th>0</th>\n",
       "      <td>85</td>\n",
       "      <td>2728</td>\n",
       "    </tr>\n",
       "    <tr>\n",
       "      <th>1</th>\n",
       "      <td>57</td>\n",
       "      <td>2790</td>\n",
       "    </tr>\n",
       "  </tbody>\n",
       "</table>\n",
       "</div>"
      ],
      "text/plain": [
       "   count_buy  count_uid\n",
       "0         85       2728\n",
       "1         57       2790"
      ]
     },
     "execution_count": 118,
     "metadata": {},
     "output_type": "execute_result"
    }
   ],
   "source": [
    "chi_cr2"
   ]
  },
  {
   "cell_type": "code",
   "execution_count": 119,
   "metadata": {},
   "outputs": [
    {
     "data": {
      "text/plain": [
       "(5.604103285926065,\n",
       " 0.017918463108736352,\n",
       " 1,\n",
       " array([[  70.57349823, 2742.42650177],\n",
       "        [  71.42650177, 2775.57349823]]))"
      ]
     },
     "execution_count": 119,
     "metadata": {},
     "output_type": "execute_result"
    }
   ],
   "source": [
    "scipy.stats.chi2_contingency(chi_cr2)"
   ]
  },
  {
   "cell_type": "code",
   "execution_count": 120,
   "metadata": {},
   "outputs": [],
   "source": [
    "#В случае с control2, видим, что обнаружено стат.значимое различие, найдем какое он\n",
    "#CR_test=57/2790 =0.02 и CR_control2=85/2728=0.03\n",
    "#((0,02-0,03)/0,03)*100= -33,(3)%\n",
    "#Наш CR упал примерно на 33% , что довольно значимо."
   ]
  },
  {
   "cell_type": "code",
   "execution_count": 121,
   "metadata": {},
   "outputs": [],
   "source": [
    "#Расчитаем ARPU"
   ]
  },
  {
   "cell_type": "code",
   "execution_count": 122,
   "metadata": {},
   "outputs": [],
   "source": [
    "arpu_test_control1=df_final[(df_final['group_x']=='test')|(df_final['group_x']=='control1')]\n",
    "arpu_test_control2=df_final[(df_final['group_x']=='test')|(df_final['group_x']=='control2')]"
   ]
  },
  {
   "cell_type": "code",
   "execution_count": 123,
   "metadata": {},
   "outputs": [],
   "source": [
    "#Проведем нужные фильтрации"
   ]
  },
  {
   "cell_type": "code",
   "execution_count": 124,
   "metadata": {},
   "outputs": [
    {
     "name": "stdout",
     "output_type": "stream",
     "text": [
      "Только в тесте: {'Monaco', 'Indonesia', 'Singapore', 'Pakistan', 'Nepal', 'Tajikistan', 'Uzbekistan', 'Latvia', 'Morocco', 'Hungary', 'Islamic Republic of Iran', 'Iraq', 'Guatemala'}\n",
      "Только в контроле: {'China', 'Armenia', 'Panama', 'Moldova, Republic of', 'Puerto Rico', 'Burkina Faso', 'Sweden', 'Jamaica', 'Qatar', 'Venezuela'}\n"
     ]
    }
   ],
   "source": [
    "test_countries_arpu1 = set(arpu_test_control1[arpu_test_control1['group_x'] == 'test']['country_x'].unique())\n",
    "control_countries_arpu1 = set(arpu_test_control1[arpu_test_control1['group_x'] == 'control1']['country_x'].unique())\n",
    "\n",
    "only_in_test_arpu1 = test_countries_arpu1 - control_countries_arpu1\n",
    "only_in_control_arpu1 = control_countries_arpu1 - test_countries_arpu1\n",
    "\n",
    "print(\"Только в тесте:\", only_in_test_arpu1)\n",
    "print(\"Только в контроле:\", only_in_control_arpu1)\n",
    "common_countries_arpu1 = test_countries_arpu1 & control_countries_arpu1\n",
    "arpu_test_control1 = arpu_test_control1[arpu_test_control1['country_x'].isin(common_countries_arpu1)]"
   ]
  },
  {
   "cell_type": "code",
   "execution_count": 125,
   "metadata": {},
   "outputs": [],
   "source": [
    "buyers_arpu1=arpu_test_control1[(arpu_test_control1['product_type']=='premium_no_trial') & ((arpu_test_control1['payment_id']==147)|(arpu_test_control1['payment_id']==19)) ]"
   ]
  },
  {
   "cell_type": "code",
   "execution_count": 126,
   "metadata": {},
   "outputs": [],
   "source": [
    "arpu_test_control1=arpu_test_control1.merge(buyers_arpu1,how='left',on='uid')"
   ]
  },
  {
   "cell_type": "code",
   "execution_count": 127,
   "metadata": {},
   "outputs": [],
   "source": [
    "arpu_test_control1=arpu_test_control1[['uid','was_premium_x','is_premium_x','total_revenue_x','joined_at_y','paid_at_y','revenue_y','payment_id_y','product_type_y','group_x_x']]"
   ]
  },
  {
   "cell_type": "code",
   "execution_count": 128,
   "metadata": {},
   "outputs": [
    {
     "name": "stdout",
     "output_type": "stream",
     "text": [
      "Только в тесте: {'Monaco', 'Algeria', 'Indonesia', 'Singapore', 'Nepal', 'Tunisia', 'Uzbekistan', 'Latvia', 'Egypt', 'Islamic Republic of Iran', 'Iraq', 'Guatemala', 'Romania'}\n",
      "Только в контроле: {'Somalia', 'Malaysia', 'Mali', 'Georgia', 'Uganda', 'China', 'Uruguay', 'Belarus', 'New Zealand', 'Nicaragua', 'Qatar', 'Paraguay', 'Czech Republic', 'Kuwait'}\n"
     ]
    }
   ],
   "source": [
    "test_countries_arpu2 = set(arpu_test_control2[arpu_test_control2['group_x'] == 'test']['country_x'].unique())\n",
    "control_countries_arpu2 = set(arpu_test_control2[arpu_test_control2['group_x'] == 'control2']['country_x'].unique())\n",
    "\n",
    "only_in_test_arpu2 = test_countries_arpu2 - control_countries_arpu2\n",
    "only_in_control_arpu2 = control_countries_arpu2 - test_countries_arpu2\n",
    "\n",
    "print(\"Только в тесте:\", only_in_test_arpu2)\n",
    "print(\"Только в контроле:\", only_in_control_arpu2)\n",
    "common_countries_arpu2 = test_countries_arpu2 & control_countries_arpu2\n",
    "arpu_test_control2 = arpu_test_control2[arpu_test_control2['country_x'].isin(common_countries_arpu2)]\n",
    "buyers_arpu2=arpu_test_control2[(arpu_test_control2['product_type']=='premium_no_trial') & ((arpu_test_control2['payment_id']==147)|(arpu_test_control2['payment_id']==19)) ]\n",
    "arpu_test_control2=arpu_test_control2.merge(buyers_arpu2,how='left',on='uid')"
   ]
  },
  {
   "cell_type": "code",
   "execution_count": 129,
   "metadata": {},
   "outputs": [
    {
     "data": {
      "text/html": [
       "<div>\n",
       "<style scoped>\n",
       "    .dataframe tbody tr th:only-of-type {\n",
       "        vertical-align: middle;\n",
       "    }\n",
       "\n",
       "    .dataframe tbody tr th {\n",
       "        vertical-align: top;\n",
       "    }\n",
       "\n",
       "    .dataframe thead th {\n",
       "        text-align: right;\n",
       "    }\n",
       "</style>\n",
       "<table border=\"1\" class=\"dataframe\">\n",
       "  <thead>\n",
       "    <tr style=\"text-align: right;\">\n",
       "      <th></th>\n",
       "      <th>uid</th>\n",
       "      <th>age_x</th>\n",
       "      <th>attraction_coeff_x</th>\n",
       "      <th>coins_x</th>\n",
       "      <th>country_x_x</th>\n",
       "      <th>visit_days_x</th>\n",
       "      <th>gender_x</th>\n",
       "      <th>age_filter_start_x</th>\n",
       "      <th>age_filter_end_x</th>\n",
       "      <th>views_count_x</th>\n",
       "      <th>...</th>\n",
       "      <th>was_premium_y</th>\n",
       "      <th>is_premium_y</th>\n",
       "      <th>total_revenue_y</th>\n",
       "      <th>joined_at_y</th>\n",
       "      <th>paid_at_y</th>\n",
       "      <th>revenue_y</th>\n",
       "      <th>payment_id_y</th>\n",
       "      <th>from_page_y</th>\n",
       "      <th>product_type_y</th>\n",
       "      <th>group_x_y</th>\n",
       "    </tr>\n",
       "  </thead>\n",
       "  <tbody>\n",
       "    <tr>\n",
       "      <th>0</th>\n",
       "      <td>891152790</td>\n",
       "      <td>29</td>\n",
       "      <td>769</td>\n",
       "      <td>0.0</td>\n",
       "      <td>Spain</td>\n",
       "      <td>2,5,6</td>\n",
       "      <td>1</td>\n",
       "      <td>16</td>\n",
       "      <td>32</td>\n",
       "      <td>13</td>\n",
       "      <td>...</td>\n",
       "      <td>1.0</td>\n",
       "      <td>1.0</td>\n",
       "      <td>12597.0</td>\n",
       "      <td>2017-08-11 18:39:00</td>\n",
       "      <td>2017-10-11 11:29:00</td>\n",
       "      <td>12597.0</td>\n",
       "      <td>147.0</td>\n",
       "      <td>dating</td>\n",
       "      <td>premium_no_trial</td>\n",
       "      <td>test</td>\n",
       "    </tr>\n",
       "    <tr>\n",
       "      <th>1</th>\n",
       "      <td>892333656</td>\n",
       "      <td>50</td>\n",
       "      <td>436</td>\n",
       "      <td>4.0</td>\n",
       "      <td>United States of America</td>\n",
       "      <td>1,2,3,4</td>\n",
       "      <td>1</td>\n",
       "      <td>47</td>\n",
       "      <td>53</td>\n",
       "      <td>126</td>\n",
       "      <td>...</td>\n",
       "      <td>NaN</td>\n",
       "      <td>NaN</td>\n",
       "      <td>NaN</td>\n",
       "      <td>NaT</td>\n",
       "      <td>NaT</td>\n",
       "      <td>NaN</td>\n",
       "      <td>NaN</td>\n",
       "      <td>NaN</td>\n",
       "      <td>NaN</td>\n",
       "      <td>NaN</td>\n",
       "    </tr>\n",
       "    <tr>\n",
       "      <th>2</th>\n",
       "      <td>891589239</td>\n",
       "      <td>21</td>\n",
       "      <td>303</td>\n",
       "      <td>37.0</td>\n",
       "      <td>Italy</td>\n",
       "      <td>1,2,3,4,5,6,7,8,9</td>\n",
       "      <td>1</td>\n",
       "      <td>18</td>\n",
       "      <td>24</td>\n",
       "      <td>181</td>\n",
       "      <td>...</td>\n",
       "      <td>1.0</td>\n",
       "      <td>1.0</td>\n",
       "      <td>37817.0</td>\n",
       "      <td>2017-10-31 14:16:00</td>\n",
       "      <td>2017-10-31 16:07:00</td>\n",
       "      <td>12597.0</td>\n",
       "      <td>147.0</td>\n",
       "      <td>popular_users_chat</td>\n",
       "      <td>premium_no_trial</td>\n",
       "      <td>test</td>\n",
       "    </tr>\n",
       "    <tr>\n",
       "      <th>3</th>\n",
       "      <td>891589239</td>\n",
       "      <td>21</td>\n",
       "      <td>303</td>\n",
       "      <td>37.0</td>\n",
       "      <td>Italy</td>\n",
       "      <td>1,2,3,4,5,6,7,8,9</td>\n",
       "      <td>1</td>\n",
       "      <td>18</td>\n",
       "      <td>24</td>\n",
       "      <td>181</td>\n",
       "      <td>...</td>\n",
       "      <td>1.0</td>\n",
       "      <td>1.0</td>\n",
       "      <td>37817.0</td>\n",
       "      <td>2017-10-31 14:16:00</td>\n",
       "      <td>2017-10-31 16:07:00</td>\n",
       "      <td>12597.0</td>\n",
       "      <td>147.0</td>\n",
       "      <td>popular_users_chat</td>\n",
       "      <td>premium_no_trial</td>\n",
       "      <td>test</td>\n",
       "    </tr>\n",
       "    <tr>\n",
       "      <th>4</th>\n",
       "      <td>891343671</td>\n",
       "      <td>26</td>\n",
       "      <td>0</td>\n",
       "      <td>24.0</td>\n",
       "      <td>France</td>\n",
       "      <td>1,2,3,4,5,6,7,8,9</td>\n",
       "      <td>1</td>\n",
       "      <td>23</td>\n",
       "      <td>35</td>\n",
       "      <td>37</td>\n",
       "      <td>...</td>\n",
       "      <td>NaN</td>\n",
       "      <td>NaN</td>\n",
       "      <td>NaN</td>\n",
       "      <td>NaT</td>\n",
       "      <td>NaT</td>\n",
       "      <td>NaN</td>\n",
       "      <td>NaN</td>\n",
       "      <td>NaN</td>\n",
       "      <td>NaN</td>\n",
       "      <td>NaN</td>\n",
       "    </tr>\n",
       "    <tr>\n",
       "      <th>...</th>\n",
       "      <td>...</td>\n",
       "      <td>...</td>\n",
       "      <td>...</td>\n",
       "      <td>...</td>\n",
       "      <td>...</td>\n",
       "      <td>...</td>\n",
       "      <td>...</td>\n",
       "      <td>...</td>\n",
       "      <td>...</td>\n",
       "      <td>...</td>\n",
       "      <td>...</td>\n",
       "      <td>...</td>\n",
       "      <td>...</td>\n",
       "      <td>...</td>\n",
       "      <td>...</td>\n",
       "      <td>...</td>\n",
       "      <td>...</td>\n",
       "      <td>...</td>\n",
       "      <td>...</td>\n",
       "      <td>...</td>\n",
       "      <td>...</td>\n",
       "    </tr>\n",
       "    <tr>\n",
       "      <th>5522</th>\n",
       "      <td>891094593</td>\n",
       "      <td>55</td>\n",
       "      <td>222</td>\n",
       "      <td>0.0</td>\n",
       "      <td>United States of America</td>\n",
       "      <td>1,2,3,4,5,6</td>\n",
       "      <td>1</td>\n",
       "      <td>28</td>\n",
       "      <td>38</td>\n",
       "      <td>117</td>\n",
       "      <td>...</td>\n",
       "      <td>NaN</td>\n",
       "      <td>NaN</td>\n",
       "      <td>NaN</td>\n",
       "      <td>NaT</td>\n",
       "      <td>NaT</td>\n",
       "      <td>NaN</td>\n",
       "      <td>NaN</td>\n",
       "      <td>NaN</td>\n",
       "      <td>NaN</td>\n",
       "      <td>NaN</td>\n",
       "    </tr>\n",
       "    <tr>\n",
       "      <th>5523</th>\n",
       "      <td>891095106</td>\n",
       "      <td>22</td>\n",
       "      <td>625</td>\n",
       "      <td>0.0</td>\n",
       "      <td>United Arab Emirates</td>\n",
       "      <td>1,2,3,4,5</td>\n",
       "      <td>1</td>\n",
       "      <td>19</td>\n",
       "      <td>25</td>\n",
       "      <td>8</td>\n",
       "      <td>...</td>\n",
       "      <td>NaN</td>\n",
       "      <td>NaN</td>\n",
       "      <td>NaN</td>\n",
       "      <td>NaT</td>\n",
       "      <td>NaT</td>\n",
       "      <td>NaN</td>\n",
       "      <td>NaN</td>\n",
       "      <td>NaN</td>\n",
       "      <td>NaN</td>\n",
       "      <td>NaN</td>\n",
       "    </tr>\n",
       "    <tr>\n",
       "      <th>5524</th>\n",
       "      <td>891937401</td>\n",
       "      <td>63</td>\n",
       "      <td>242</td>\n",
       "      <td>0.0</td>\n",
       "      <td>Italy</td>\n",
       "      <td>1,2</td>\n",
       "      <td>1</td>\n",
       "      <td>50</td>\n",
       "      <td>66</td>\n",
       "      <td>33</td>\n",
       "      <td>...</td>\n",
       "      <td>NaN</td>\n",
       "      <td>NaN</td>\n",
       "      <td>NaN</td>\n",
       "      <td>NaT</td>\n",
       "      <td>NaT</td>\n",
       "      <td>NaN</td>\n",
       "      <td>NaN</td>\n",
       "      <td>NaN</td>\n",
       "      <td>NaN</td>\n",
       "      <td>NaN</td>\n",
       "    </tr>\n",
       "    <tr>\n",
       "      <th>5525</th>\n",
       "      <td>891692844</td>\n",
       "      <td>35</td>\n",
       "      <td>500</td>\n",
       "      <td>0.0</td>\n",
       "      <td>France</td>\n",
       "      <td>1,2,3,4,5,6,8,9,10,11,12,14,16</td>\n",
       "      <td>1</td>\n",
       "      <td>24</td>\n",
       "      <td>45</td>\n",
       "      <td>2</td>\n",
       "      <td>...</td>\n",
       "      <td>NaN</td>\n",
       "      <td>NaN</td>\n",
       "      <td>NaN</td>\n",
       "      <td>NaT</td>\n",
       "      <td>NaT</td>\n",
       "      <td>NaN</td>\n",
       "      <td>NaN</td>\n",
       "      <td>NaN</td>\n",
       "      <td>NaN</td>\n",
       "      <td>NaN</td>\n",
       "    </tr>\n",
       "    <tr>\n",
       "      <th>5526</th>\n",
       "      <td>891697584</td>\n",
       "      <td>48</td>\n",
       "      <td>210</td>\n",
       "      <td>0.0</td>\n",
       "      <td>United Kingdom (Great Britain)</td>\n",
       "      <td>2,3,5,7,9,10,12,14,15</td>\n",
       "      <td>1</td>\n",
       "      <td>45</td>\n",
       "      <td>51</td>\n",
       "      <td>19</td>\n",
       "      <td>...</td>\n",
       "      <td>NaN</td>\n",
       "      <td>NaN</td>\n",
       "      <td>NaN</td>\n",
       "      <td>NaT</td>\n",
       "      <td>NaT</td>\n",
       "      <td>NaN</td>\n",
       "      <td>NaN</td>\n",
       "      <td>NaN</td>\n",
       "      <td>NaN</td>\n",
       "      <td>NaN</td>\n",
       "    </tr>\n",
       "  </tbody>\n",
       "</table>\n",
       "<p>5527 rows × 39 columns</p>\n",
       "</div>"
      ],
      "text/plain": [
       "            uid  age_x  attraction_coeff_x  coins_x  \\\n",
       "0     891152790     29                 769      0.0   \n",
       "1     892333656     50                 436      4.0   \n",
       "2     891589239     21                 303     37.0   \n",
       "3     891589239     21                 303     37.0   \n",
       "4     891343671     26                   0     24.0   \n",
       "...         ...    ...                 ...      ...   \n",
       "5522  891094593     55                 222      0.0   \n",
       "5523  891095106     22                 625      0.0   \n",
       "5524  891937401     63                 242      0.0   \n",
       "5525  891692844     35                 500      0.0   \n",
       "5526  891697584     48                 210      0.0   \n",
       "\n",
       "                         country_x_x                    visit_days_x  \\\n",
       "0                              Spain                           2,5,6   \n",
       "1           United States of America                         1,2,3,4   \n",
       "2                              Italy               1,2,3,4,5,6,7,8,9   \n",
       "3                              Italy               1,2,3,4,5,6,7,8,9   \n",
       "4                             France               1,2,3,4,5,6,7,8,9   \n",
       "...                              ...                             ...   \n",
       "5522        United States of America                     1,2,3,4,5,6   \n",
       "5523            United Arab Emirates                       1,2,3,4,5   \n",
       "5524                           Italy                             1,2   \n",
       "5525                          France  1,2,3,4,5,6,8,9,10,11,12,14,16   \n",
       "5526  United Kingdom (Great Britain)           2,3,5,7,9,10,12,14,15   \n",
       "\n",
       "      gender_x  age_filter_start_x  age_filter_end_x  views_count_x  ...  \\\n",
       "0            1                  16                32             13  ...   \n",
       "1            1                  47                53            126  ...   \n",
       "2            1                  18                24            181  ...   \n",
       "3            1                  18                24            181  ...   \n",
       "4            1                  23                35             37  ...   \n",
       "...        ...                 ...               ...            ...  ...   \n",
       "5522         1                  28                38            117  ...   \n",
       "5523         1                  19                25              8  ...   \n",
       "5524         1                  50                66             33  ...   \n",
       "5525         1                  24                45              2  ...   \n",
       "5526         1                  45                51             19  ...   \n",
       "\n",
       "      was_premium_y  is_premium_y  total_revenue_y         joined_at_y  \\\n",
       "0               1.0           1.0          12597.0 2017-08-11 18:39:00   \n",
       "1               NaN           NaN              NaN                 NaT   \n",
       "2               1.0           1.0          37817.0 2017-10-31 14:16:00   \n",
       "3               1.0           1.0          37817.0 2017-10-31 14:16:00   \n",
       "4               NaN           NaN              NaN                 NaT   \n",
       "...             ...           ...              ...                 ...   \n",
       "5522            NaN           NaN              NaN                 NaT   \n",
       "5523            NaN           NaN              NaN                 NaT   \n",
       "5524            NaN           NaN              NaN                 NaT   \n",
       "5525            NaN           NaN              NaN                 NaT   \n",
       "5526            NaN           NaN              NaN                 NaT   \n",
       "\n",
       "               paid_at_y  revenue_y  payment_id_y         from_page_y  \\\n",
       "0    2017-10-11 11:29:00    12597.0         147.0              dating   \n",
       "1                    NaT        NaN           NaN                 NaN   \n",
       "2    2017-10-31 16:07:00    12597.0         147.0  popular_users_chat   \n",
       "3    2017-10-31 16:07:00    12597.0         147.0  popular_users_chat   \n",
       "4                    NaT        NaN           NaN                 NaN   \n",
       "...                  ...        ...           ...                 ...   \n",
       "5522                 NaT        NaN           NaN                 NaN   \n",
       "5523                 NaT        NaN           NaN                 NaN   \n",
       "5524                 NaT        NaN           NaN                 NaN   \n",
       "5525                 NaT        NaN           NaN                 NaN   \n",
       "5526                 NaT        NaN           NaN                 NaN   \n",
       "\n",
       "        product_type_y group_x_y  \n",
       "0     premium_no_trial      test  \n",
       "1                  NaN       NaN  \n",
       "2     premium_no_trial      test  \n",
       "3     premium_no_trial      test  \n",
       "4                  NaN       NaN  \n",
       "...                ...       ...  \n",
       "5522               NaN       NaN  \n",
       "5523               NaN       NaN  \n",
       "5524               NaN       NaN  \n",
       "5525               NaN       NaN  \n",
       "5526               NaN       NaN  \n",
       "\n",
       "[5527 rows x 39 columns]"
      ]
     },
     "execution_count": 129,
     "metadata": {},
     "output_type": "execute_result"
    }
   ],
   "source": [
    "arpu_test_control2"
   ]
  },
  {
   "cell_type": "code",
   "execution_count": 130,
   "metadata": {},
   "outputs": [],
   "source": [
    "arpu_test_control2=arpu_test_control2[['uid','was_premium_x','is_premium_x','total_revenue_x','joined_at_y','paid_at_y','revenue_y','payment_id_y','product_type_y','group_x_x']]"
   ]
  },
  {
   "cell_type": "code",
   "execution_count": 131,
   "metadata": {},
   "outputs": [
    {
     "data": {
      "text/html": [
       "<div>\n",
       "<style scoped>\n",
       "    .dataframe tbody tr th:only-of-type {\n",
       "        vertical-align: middle;\n",
       "    }\n",
       "\n",
       "    .dataframe tbody tr th {\n",
       "        vertical-align: top;\n",
       "    }\n",
       "\n",
       "    .dataframe thead th {\n",
       "        text-align: right;\n",
       "    }\n",
       "</style>\n",
       "<table border=\"1\" class=\"dataframe\">\n",
       "  <thead>\n",
       "    <tr style=\"text-align: right;\">\n",
       "      <th></th>\n",
       "      <th>uid</th>\n",
       "      <th>was_premium_x</th>\n",
       "      <th>is_premium_x</th>\n",
       "      <th>total_revenue_x</th>\n",
       "      <th>joined_at_y</th>\n",
       "      <th>paid_at_y</th>\n",
       "      <th>revenue_y</th>\n",
       "      <th>payment_id_y</th>\n",
       "      <th>product_type_y</th>\n",
       "      <th>group_x_x</th>\n",
       "    </tr>\n",
       "  </thead>\n",
       "  <tbody>\n",
       "    <tr>\n",
       "      <th>0</th>\n",
       "      <td>891152790</td>\n",
       "      <td>1.0</td>\n",
       "      <td>1.0</td>\n",
       "      <td>12597</td>\n",
       "      <td>2017-08-11 18:39:00</td>\n",
       "      <td>2017-10-11 11:29:00</td>\n",
       "      <td>12597.0</td>\n",
       "      <td>147.0</td>\n",
       "      <td>premium_no_trial</td>\n",
       "      <td>test</td>\n",
       "    </tr>\n",
       "    <tr>\n",
       "      <th>1</th>\n",
       "      <td>892333656</td>\n",
       "      <td>0.0</td>\n",
       "      <td>0.0</td>\n",
       "      <td>897</td>\n",
       "      <td>NaT</td>\n",
       "      <td>NaT</td>\n",
       "      <td>NaN</td>\n",
       "      <td>NaN</td>\n",
       "      <td>NaN</td>\n",
       "      <td>test</td>\n",
       "    </tr>\n",
       "    <tr>\n",
       "      <th>2</th>\n",
       "      <td>891589239</td>\n",
       "      <td>1.0</td>\n",
       "      <td>1.0</td>\n",
       "      <td>37817</td>\n",
       "      <td>2017-10-31 14:16:00</td>\n",
       "      <td>2017-10-31 16:07:00</td>\n",
       "      <td>12597.0</td>\n",
       "      <td>147.0</td>\n",
       "      <td>premium_no_trial</td>\n",
       "      <td>test</td>\n",
       "    </tr>\n",
       "    <tr>\n",
       "      <th>3</th>\n",
       "      <td>891589239</td>\n",
       "      <td>1.0</td>\n",
       "      <td>1.0</td>\n",
       "      <td>37817</td>\n",
       "      <td>2017-10-31 14:16:00</td>\n",
       "      <td>2017-10-31 16:07:00</td>\n",
       "      <td>12597.0</td>\n",
       "      <td>147.0</td>\n",
       "      <td>premium_no_trial</td>\n",
       "      <td>test</td>\n",
       "    </tr>\n",
       "    <tr>\n",
       "      <th>4</th>\n",
       "      <td>891343671</td>\n",
       "      <td>1.0</td>\n",
       "      <td>1.0</td>\n",
       "      <td>21580</td>\n",
       "      <td>NaT</td>\n",
       "      <td>NaT</td>\n",
       "      <td>NaN</td>\n",
       "      <td>NaN</td>\n",
       "      <td>NaN</td>\n",
       "      <td>test</td>\n",
       "    </tr>\n",
       "    <tr>\n",
       "      <th>...</th>\n",
       "      <td>...</td>\n",
       "      <td>...</td>\n",
       "      <td>...</td>\n",
       "      <td>...</td>\n",
       "      <td>...</td>\n",
       "      <td>...</td>\n",
       "      <td>...</td>\n",
       "      <td>...</td>\n",
       "      <td>...</td>\n",
       "      <td>...</td>\n",
       "    </tr>\n",
       "    <tr>\n",
       "      <th>5522</th>\n",
       "      <td>891094593</td>\n",
       "      <td>0.0</td>\n",
       "      <td>0.0</td>\n",
       "      <td>0</td>\n",
       "      <td>NaT</td>\n",
       "      <td>NaT</td>\n",
       "      <td>NaN</td>\n",
       "      <td>NaN</td>\n",
       "      <td>NaN</td>\n",
       "      <td>control2</td>\n",
       "    </tr>\n",
       "    <tr>\n",
       "      <th>5523</th>\n",
       "      <td>891095106</td>\n",
       "      <td>0.0</td>\n",
       "      <td>0.0</td>\n",
       "      <td>0</td>\n",
       "      <td>NaT</td>\n",
       "      <td>NaT</td>\n",
       "      <td>NaN</td>\n",
       "      <td>NaN</td>\n",
       "      <td>NaN</td>\n",
       "      <td>control2</td>\n",
       "    </tr>\n",
       "    <tr>\n",
       "      <th>5524</th>\n",
       "      <td>891937401</td>\n",
       "      <td>0.0</td>\n",
       "      <td>0.0</td>\n",
       "      <td>0</td>\n",
       "      <td>NaT</td>\n",
       "      <td>NaT</td>\n",
       "      <td>NaN</td>\n",
       "      <td>NaN</td>\n",
       "      <td>NaN</td>\n",
       "      <td>control2</td>\n",
       "    </tr>\n",
       "    <tr>\n",
       "      <th>5525</th>\n",
       "      <td>891692844</td>\n",
       "      <td>0.0</td>\n",
       "      <td>0.0</td>\n",
       "      <td>0</td>\n",
       "      <td>NaT</td>\n",
       "      <td>NaT</td>\n",
       "      <td>NaN</td>\n",
       "      <td>NaN</td>\n",
       "      <td>NaN</td>\n",
       "      <td>control2</td>\n",
       "    </tr>\n",
       "    <tr>\n",
       "      <th>5526</th>\n",
       "      <td>891697584</td>\n",
       "      <td>0.0</td>\n",
       "      <td>0.0</td>\n",
       "      <td>0</td>\n",
       "      <td>NaT</td>\n",
       "      <td>NaT</td>\n",
       "      <td>NaN</td>\n",
       "      <td>NaN</td>\n",
       "      <td>NaN</td>\n",
       "      <td>control2</td>\n",
       "    </tr>\n",
       "  </tbody>\n",
       "</table>\n",
       "<p>5527 rows × 10 columns</p>\n",
       "</div>"
      ],
      "text/plain": [
       "            uid  was_premium_x  is_premium_x  total_revenue_x  \\\n",
       "0     891152790            1.0           1.0            12597   \n",
       "1     892333656            0.0           0.0              897   \n",
       "2     891589239            1.0           1.0            37817   \n",
       "3     891589239            1.0           1.0            37817   \n",
       "4     891343671            1.0           1.0            21580   \n",
       "...         ...            ...           ...              ...   \n",
       "5522  891094593            0.0           0.0                0   \n",
       "5523  891095106            0.0           0.0                0   \n",
       "5524  891937401            0.0           0.0                0   \n",
       "5525  891692844            0.0           0.0                0   \n",
       "5526  891697584            0.0           0.0                0   \n",
       "\n",
       "             joined_at_y           paid_at_y  revenue_y  payment_id_y  \\\n",
       "0    2017-08-11 18:39:00 2017-10-11 11:29:00    12597.0         147.0   \n",
       "1                    NaT                 NaT        NaN           NaN   \n",
       "2    2017-10-31 14:16:00 2017-10-31 16:07:00    12597.0         147.0   \n",
       "3    2017-10-31 14:16:00 2017-10-31 16:07:00    12597.0         147.0   \n",
       "4                    NaT                 NaT        NaN           NaN   \n",
       "...                  ...                 ...        ...           ...   \n",
       "5522                 NaT                 NaT        NaN           NaN   \n",
       "5523                 NaT                 NaT        NaN           NaN   \n",
       "5524                 NaT                 NaT        NaN           NaN   \n",
       "5525                 NaT                 NaT        NaN           NaN   \n",
       "5526                 NaT                 NaT        NaN           NaN   \n",
       "\n",
       "        product_type_y group_x_x  \n",
       "0     premium_no_trial      test  \n",
       "1                  NaN      test  \n",
       "2     premium_no_trial      test  \n",
       "3     premium_no_trial      test  \n",
       "4                  NaN      test  \n",
       "...                ...       ...  \n",
       "5522               NaN  control2  \n",
       "5523               NaN  control2  \n",
       "5524               NaN  control2  \n",
       "5525               NaN  control2  \n",
       "5526               NaN  control2  \n",
       "\n",
       "[5527 rows x 10 columns]"
      ]
     },
     "execution_count": 131,
     "metadata": {},
     "output_type": "execute_result"
    }
   ],
   "source": [
    "arpu_test_control2"
   ]
  },
  {
   "cell_type": "code",
   "execution_count": 132,
   "metadata": {},
   "outputs": [
    {
     "data": {
      "text/html": [
       "<div>\n",
       "<style scoped>\n",
       "    .dataframe tbody tr th:only-of-type {\n",
       "        vertical-align: middle;\n",
       "    }\n",
       "\n",
       "    .dataframe tbody tr th {\n",
       "        vertical-align: top;\n",
       "    }\n",
       "\n",
       "    .dataframe thead th {\n",
       "        text-align: right;\n",
       "    }\n",
       "</style>\n",
       "<table border=\"1\" class=\"dataframe\">\n",
       "  <thead>\n",
       "    <tr style=\"text-align: right;\">\n",
       "      <th></th>\n",
       "      <th>uid</th>\n",
       "      <th>was_premium_x</th>\n",
       "      <th>is_premium_x</th>\n",
       "      <th>total_revenue_x</th>\n",
       "      <th>joined_at_y</th>\n",
       "      <th>paid_at_y</th>\n",
       "      <th>revenue_y</th>\n",
       "      <th>payment_id_y</th>\n",
       "      <th>product_type_y</th>\n",
       "      <th>group_x_x</th>\n",
       "    </tr>\n",
       "  </thead>\n",
       "  <tbody>\n",
       "    <tr>\n",
       "      <th>0</th>\n",
       "      <td>891152790</td>\n",
       "      <td>1.0</td>\n",
       "      <td>1.0</td>\n",
       "      <td>12597</td>\n",
       "      <td>2017-08-11 18:39:00</td>\n",
       "      <td>2017-10-11 11:29:00</td>\n",
       "      <td>12597.0</td>\n",
       "      <td>147.0</td>\n",
       "      <td>premium_no_trial</td>\n",
       "      <td>test</td>\n",
       "    </tr>\n",
       "    <tr>\n",
       "      <th>1</th>\n",
       "      <td>892333656</td>\n",
       "      <td>0.0</td>\n",
       "      <td>0.0</td>\n",
       "      <td>897</td>\n",
       "      <td>NaT</td>\n",
       "      <td>NaT</td>\n",
       "      <td>NaN</td>\n",
       "      <td>NaN</td>\n",
       "      <td>NaN</td>\n",
       "      <td>test</td>\n",
       "    </tr>\n",
       "    <tr>\n",
       "      <th>2</th>\n",
       "      <td>891589239</td>\n",
       "      <td>1.0</td>\n",
       "      <td>1.0</td>\n",
       "      <td>37817</td>\n",
       "      <td>2017-10-31 14:16:00</td>\n",
       "      <td>2017-10-31 16:07:00</td>\n",
       "      <td>12597.0</td>\n",
       "      <td>147.0</td>\n",
       "      <td>premium_no_trial</td>\n",
       "      <td>test</td>\n",
       "    </tr>\n",
       "    <tr>\n",
       "      <th>3</th>\n",
       "      <td>891589239</td>\n",
       "      <td>1.0</td>\n",
       "      <td>1.0</td>\n",
       "      <td>37817</td>\n",
       "      <td>2017-10-31 14:16:00</td>\n",
       "      <td>2017-10-31 16:07:00</td>\n",
       "      <td>12597.0</td>\n",
       "      <td>147.0</td>\n",
       "      <td>premium_no_trial</td>\n",
       "      <td>test</td>\n",
       "    </tr>\n",
       "    <tr>\n",
       "      <th>4</th>\n",
       "      <td>891343671</td>\n",
       "      <td>1.0</td>\n",
       "      <td>1.0</td>\n",
       "      <td>21580</td>\n",
       "      <td>NaT</td>\n",
       "      <td>NaT</td>\n",
       "      <td>NaN</td>\n",
       "      <td>NaN</td>\n",
       "      <td>NaN</td>\n",
       "      <td>test</td>\n",
       "    </tr>\n",
       "    <tr>\n",
       "      <th>...</th>\n",
       "      <td>...</td>\n",
       "      <td>...</td>\n",
       "      <td>...</td>\n",
       "      <td>...</td>\n",
       "      <td>...</td>\n",
       "      <td>...</td>\n",
       "      <td>...</td>\n",
       "      <td>...</td>\n",
       "      <td>...</td>\n",
       "      <td>...</td>\n",
       "    </tr>\n",
       "    <tr>\n",
       "      <th>5646</th>\n",
       "      <td>891187155</td>\n",
       "      <td>0.0</td>\n",
       "      <td>0.0</td>\n",
       "      <td>0</td>\n",
       "      <td>NaT</td>\n",
       "      <td>NaT</td>\n",
       "      <td>NaN</td>\n",
       "      <td>NaN</td>\n",
       "      <td>NaN</td>\n",
       "      <td>control1</td>\n",
       "    </tr>\n",
       "    <tr>\n",
       "      <th>5647</th>\n",
       "      <td>891905022</td>\n",
       "      <td>0.0</td>\n",
       "      <td>0.0</td>\n",
       "      <td>0</td>\n",
       "      <td>NaT</td>\n",
       "      <td>NaT</td>\n",
       "      <td>NaN</td>\n",
       "      <td>NaN</td>\n",
       "      <td>NaN</td>\n",
       "      <td>control1</td>\n",
       "    </tr>\n",
       "    <tr>\n",
       "      <th>5648</th>\n",
       "      <td>891304722</td>\n",
       "      <td>0.0</td>\n",
       "      <td>0.0</td>\n",
       "      <td>0</td>\n",
       "      <td>NaT</td>\n",
       "      <td>NaT</td>\n",
       "      <td>NaN</td>\n",
       "      <td>NaN</td>\n",
       "      <td>NaN</td>\n",
       "      <td>control1</td>\n",
       "    </tr>\n",
       "    <tr>\n",
       "      <th>5649</th>\n",
       "      <td>891302328</td>\n",
       "      <td>0.0</td>\n",
       "      <td>0.0</td>\n",
       "      <td>0</td>\n",
       "      <td>NaT</td>\n",
       "      <td>NaT</td>\n",
       "      <td>NaN</td>\n",
       "      <td>NaN</td>\n",
       "      <td>NaN</td>\n",
       "      <td>control1</td>\n",
       "    </tr>\n",
       "    <tr>\n",
       "      <th>5650</th>\n",
       "      <td>891182532</td>\n",
       "      <td>0.0</td>\n",
       "      <td>0.0</td>\n",
       "      <td>0</td>\n",
       "      <td>NaT</td>\n",
       "      <td>NaT</td>\n",
       "      <td>NaN</td>\n",
       "      <td>NaN</td>\n",
       "      <td>NaN</td>\n",
       "      <td>control1</td>\n",
       "    </tr>\n",
       "  </tbody>\n",
       "</table>\n",
       "<p>5651 rows × 10 columns</p>\n",
       "</div>"
      ],
      "text/plain": [
       "            uid  was_premium_x  is_premium_x  total_revenue_x  \\\n",
       "0     891152790            1.0           1.0            12597   \n",
       "1     892333656            0.0           0.0              897   \n",
       "2     891589239            1.0           1.0            37817   \n",
       "3     891589239            1.0           1.0            37817   \n",
       "4     891343671            1.0           1.0            21580   \n",
       "...         ...            ...           ...              ...   \n",
       "5646  891187155            0.0           0.0                0   \n",
       "5647  891905022            0.0           0.0                0   \n",
       "5648  891304722            0.0           0.0                0   \n",
       "5649  891302328            0.0           0.0                0   \n",
       "5650  891182532            0.0           0.0                0   \n",
       "\n",
       "             joined_at_y           paid_at_y  revenue_y  payment_id_y  \\\n",
       "0    2017-08-11 18:39:00 2017-10-11 11:29:00    12597.0         147.0   \n",
       "1                    NaT                 NaT        NaN           NaN   \n",
       "2    2017-10-31 14:16:00 2017-10-31 16:07:00    12597.0         147.0   \n",
       "3    2017-10-31 14:16:00 2017-10-31 16:07:00    12597.0         147.0   \n",
       "4                    NaT                 NaT        NaN           NaN   \n",
       "...                  ...                 ...        ...           ...   \n",
       "5646                 NaT                 NaT        NaN           NaN   \n",
       "5647                 NaT                 NaT        NaN           NaN   \n",
       "5648                 NaT                 NaT        NaN           NaN   \n",
       "5649                 NaT                 NaT        NaN           NaN   \n",
       "5650                 NaT                 NaT        NaN           NaN   \n",
       "\n",
       "        product_type_y group_x_x  \n",
       "0     premium_no_trial      test  \n",
       "1                  NaN      test  \n",
       "2     premium_no_trial      test  \n",
       "3     premium_no_trial      test  \n",
       "4                  NaN      test  \n",
       "...                ...       ...  \n",
       "5646               NaN  control1  \n",
       "5647               NaN  control1  \n",
       "5648               NaN  control1  \n",
       "5649               NaN  control1  \n",
       "5650               NaN  control1  \n",
       "\n",
       "[5651 rows x 10 columns]"
      ]
     },
     "execution_count": 132,
     "metadata": {},
     "output_type": "execute_result"
    }
   ],
   "source": [
    "arpu_test_control1"
   ]
  },
  {
   "cell_type": "code",
   "execution_count": 133,
   "metadata": {},
   "outputs": [
    {
     "data": {
      "text/plain": [
       "<seaborn.axisgrid.FacetGrid at 0x7f44d673c278>"
      ]
     },
     "execution_count": 133,
     "metadata": {},
     "output_type": "execute_result"
    },
    {
     "data": {
      "image/png": "[encoded data removed]",
      "text/plain": [
       "<Figure size 360x360 with 1 Axes>"
      ]
     },
     "metadata": {
      "needs_background": "light"
     },
     "output_type": "display_data"
    }
   ],
   "source": [
    "sns.displot(arpu_test_control1[arpu_test_control1['group_x_x']=='test'].total_revenue_x)"
   ]
  },
  {
   "cell_type": "code",
   "execution_count": 134,
   "metadata": {},
   "outputs": [
    {
     "data": {
      "text/plain": [
       "count      2790.000000\n",
       "mean       1343.994982\n",
       "std        8262.693022\n",
       "min           0.000000\n",
       "25%           0.000000\n",
       "50%           0.000000\n",
       "75%           0.000000\n",
       "max      129870.000000\n",
       "Name: total_revenue_x, dtype: float64"
      ]
     },
     "execution_count": 134,
     "metadata": {},
     "output_type": "execute_result"
    }
   ],
   "source": [
    "arpu_test_control1[arpu_test_control1['group_x_x']=='test'].total_revenue_x.describe()"
   ]
  },
  {
   "cell_type": "code",
   "execution_count": 135,
   "metadata": {},
   "outputs": [
    {
     "data": {
      "text/plain": [
       "<seaborn.axisgrid.FacetGrid at 0x7f44d8ae6d68>"
      ]
     },
     "execution_count": 135,
     "metadata": {},
     "output_type": "execute_result"
    },
    {
     "data": {
      "image/png": "[encoded data removed]",
      "text/plain": [
       "<Figure size 360x360 with 1 Axes>"
      ]
     },
     "metadata": {
      "needs_background": "light"
     },
     "output_type": "display_data"
    }
   ],
   "source": [
    "sns.displot(arpu_test_control1[arpu_test_control1['group_x_x']=='control1'].total_revenue_x)"
   ]
  },
  {
   "cell_type": "code",
   "execution_count": 136,
   "metadata": {},
   "outputs": [
    {
     "data": {
      "text/plain": [
       "count      2861.000000\n",
       "mean       1687.914366\n",
       "std       18738.337712\n",
       "min           0.000000\n",
       "25%           0.000000\n",
       "50%           0.000000\n",
       "75%           0.000000\n",
       "max      486330.000000\n",
       "Name: total_revenue_x, dtype: float64"
      ]
     },
     "execution_count": 136,
     "metadata": {},
     "output_type": "execute_result"
    }
   ],
   "source": [
    "arpu_test_control1[arpu_test_control1['group_x_x']=='control1'].total_revenue_x.describe()"
   ]
  },
  {
   "cell_type": "code",
   "execution_count": 137,
   "metadata": {},
   "outputs": [
    {
     "data": {
      "text/plain": [
       "<seaborn.axisgrid.FacetGrid at 0x7f44d6631e80>"
      ]
     },
     "execution_count": 137,
     "metadata": {},
     "output_type": "execute_result"
    },
    {
     "data": {
      "image/png": "[encoded data removed]",
      "text/plain": [
       "<Figure size 360x360 with 1 Axes>"
      ]
     },
     "metadata": {
      "needs_background": "light"
     },
     "output_type": "display_data"
    }
   ],
   "source": [
    "sns.displot(arpu_test_control2[arpu_test_control2['group_x_x']=='control2'].total_revenue_x)"
   ]
  },
  {
   "cell_type": "code",
   "execution_count": 138,
   "metadata": {},
   "outputs": [
    {
     "data": {
      "text/plain": [
       "count     2736.000000\n",
       "mean       864.528509\n",
       "std       4155.020167\n",
       "min          0.000000\n",
       "25%          0.000000\n",
       "50%          0.000000\n",
       "75%          0.000000\n",
       "max      81796.000000\n",
       "Name: total_revenue_x, dtype: float64"
      ]
     },
     "execution_count": 138,
     "metadata": {},
     "output_type": "execute_result"
    }
   ],
   "source": [
    "arpu_test_control2[arpu_test_control2['group_x_x']=='control2'].total_revenue_x.describe()"
   ]
  },
  {
   "cell_type": "code",
   "execution_count": 139,
   "metadata": {},
   "outputs": [],
   "source": [
    "arpu_test_control1=arpu_test_control1[['uid','total_revenue_x','group_x_x']]\n",
    "arpu_test_control2=arpu_test_control2[['uid','total_revenue_x','group_x_x']]"
   ]
  },
  {
   "cell_type": "code",
   "execution_count": 140,
   "metadata": {},
   "outputs": [],
   "source": [
    "#Исходя из графиков мы видели, что в распределении есть выбросы, поэтому при помощи перцентилей избавимся от них\n",
    "#но потом вернем их и посмотрим как они влияют на тест"
   ]
  },
  {
   "cell_type": "code",
   "execution_count": 141,
   "metadata": {},
   "outputs": [],
   "source": [
    "high_quant=np.quantile(arpu_test_control1.total_revenue_x,0.99)"
   ]
  },
  {
   "cell_type": "code",
   "execution_count": 142,
   "metadata": {},
   "outputs": [],
   "source": [
    "arpu_101=arpu_test_control1[(arpu_test_control1['total_revenue_x']<=high_quant)]"
   ]
  },
  {
   "cell_type": "code",
   "execution_count": 143,
   "metadata": {},
   "outputs": [
    {
     "data": {
      "text/html": [
       "<div>\n",
       "<style scoped>\n",
       "    .dataframe tbody tr th:only-of-type {\n",
       "        vertical-align: middle;\n",
       "    }\n",
       "\n",
       "    .dataframe tbody tr th {\n",
       "        vertical-align: top;\n",
       "    }\n",
       "\n",
       "    .dataframe thead th {\n",
       "        text-align: right;\n",
       "    }\n",
       "</style>\n",
       "<table border=\"1\" class=\"dataframe\">\n",
       "  <thead>\n",
       "    <tr style=\"text-align: right;\">\n",
       "      <th></th>\n",
       "      <th>uid</th>\n",
       "      <th>total_revenue_x</th>\n",
       "      <th>group_x_x</th>\n",
       "    </tr>\n",
       "  </thead>\n",
       "  <tbody>\n",
       "    <tr>\n",
       "      <th>0</th>\n",
       "      <td>891152790</td>\n",
       "      <td>12597</td>\n",
       "      <td>test</td>\n",
       "    </tr>\n",
       "    <tr>\n",
       "      <th>1</th>\n",
       "      <td>892333656</td>\n",
       "      <td>897</td>\n",
       "      <td>test</td>\n",
       "    </tr>\n",
       "    <tr>\n",
       "      <th>4</th>\n",
       "      <td>891343671</td>\n",
       "      <td>21580</td>\n",
       "      <td>test</td>\n",
       "    </tr>\n",
       "    <tr>\n",
       "      <th>5</th>\n",
       "      <td>891343671</td>\n",
       "      <td>21580</td>\n",
       "      <td>test</td>\n",
       "    </tr>\n",
       "    <tr>\n",
       "      <th>6</th>\n",
       "      <td>891343671</td>\n",
       "      <td>21580</td>\n",
       "      <td>test</td>\n",
       "    </tr>\n",
       "    <tr>\n",
       "      <th>...</th>\n",
       "      <td>...</td>\n",
       "      <td>...</td>\n",
       "      <td>...</td>\n",
       "    </tr>\n",
       "    <tr>\n",
       "      <th>5646</th>\n",
       "      <td>891187155</td>\n",
       "      <td>0</td>\n",
       "      <td>control1</td>\n",
       "    </tr>\n",
       "    <tr>\n",
       "      <th>5647</th>\n",
       "      <td>891905022</td>\n",
       "      <td>0</td>\n",
       "      <td>control1</td>\n",
       "    </tr>\n",
       "    <tr>\n",
       "      <th>5648</th>\n",
       "      <td>891304722</td>\n",
       "      <td>0</td>\n",
       "      <td>control1</td>\n",
       "    </tr>\n",
       "    <tr>\n",
       "      <th>5649</th>\n",
       "      <td>891302328</td>\n",
       "      <td>0</td>\n",
       "      <td>control1</td>\n",
       "    </tr>\n",
       "    <tr>\n",
       "      <th>5650</th>\n",
       "      <td>891182532</td>\n",
       "      <td>0</td>\n",
       "      <td>control1</td>\n",
       "    </tr>\n",
       "  </tbody>\n",
       "</table>\n",
       "<p>5597 rows × 3 columns</p>\n",
       "</div>"
      ],
      "text/plain": [
       "            uid  total_revenue_x group_x_x\n",
       "0     891152790            12597      test\n",
       "1     892333656              897      test\n",
       "4     891343671            21580      test\n",
       "5     891343671            21580      test\n",
       "6     891343671            21580      test\n",
       "...         ...              ...       ...\n",
       "5646  891187155                0  control1\n",
       "5647  891905022                0  control1\n",
       "5648  891304722                0  control1\n",
       "5649  891302328                0  control1\n",
       "5650  891182532                0  control1\n",
       "\n",
       "[5597 rows x 3 columns]"
      ]
     },
     "execution_count": 143,
     "metadata": {},
     "output_type": "execute_result"
    }
   ],
   "source": [
    "arpu_101"
   ]
  },
  {
   "cell_type": "code",
   "execution_count": 211,
   "metadata": {},
   "outputs": [],
   "source": [
    "#Так как распределение ненормально, а нам нужно сравнение средних, а Манна-Уитни сравнивает распределение выборок,\n",
    "#воспользуемся пермутационным тестом"
   ]
  },
  {
   "cell_type": "code",
   "execution_count": 149,
   "metadata": {},
   "outputs": [],
   "source": [
    "def bootstrap_test(data1, data2, n_bootstrap=100000):\n",
    "    observed_diff = np.mean(data1) - np.mean(data2)\n",
    "    combined = np.concatenate([data1, data2])\n",
    "    diffs = []\n",
    "    for _ in range(n_bootstrap):\n",
    "        np.random.shuffle(combined)\n",
    "        new_d1 = combined[:len(data1)]\n",
    "        new_d2 = combined[len(data1):]\n",
    "        diffs.append(np.mean(new_d1) - np.mean(new_d2))\n",
    "    p_value = np.mean(np.abs(diffs) >= np.abs(observed_diff))\n",
    "    return observed_diff, p_value"
   ]
  },
  {
   "cell_type": "code",
   "execution_count": 150,
   "metadata": {},
   "outputs": [
    {
     "data": {
      "text/plain": [
       "(-161.07413607911406, 0.0528)"
      ]
     },
     "execution_count": 150,
     "metadata": {},
     "output_type": "execute_result"
    }
   ],
   "source": [
    "bootstrap_test(arpu_101[arpu_101['group_x_x']=='test'].total_revenue_x,arpu_101[arpu_101['group_x_x']=='control1'].total_revenue_x)"
   ]
  },
  {
   "cell_type": "code",
   "execution_count": 151,
   "metadata": {},
   "outputs": [],
   "source": [
    "#Видим, что присутствуют стат.значимые различия, посмотрим в какую сторону изменяется наш ARPU"
   ]
  },
  {
   "cell_type": "code",
   "execution_count": 152,
   "metadata": {},
   "outputs": [],
   "source": [
    "arpu_test=arpu_101[arpu_101['group_x_x']=='test'].total_revenue_x.sum()/arpu_101[arpu_101['group_x_x']=='test'].uid.count()"
   ]
  },
  {
   "cell_type": "code",
   "execution_count": 153,
   "metadata": {},
   "outputs": [],
   "source": [
    "arpu_control1=arpu_101[arpu_101['group_x_x']=='control1'].total_revenue_x.sum()/arpu_101[arpu_101['group_x_x']=='control1'].uid.count()"
   ]
  },
  {
   "cell_type": "code",
   "execution_count": 154,
   "metadata": {},
   "outputs": [
    {
     "data": {
      "text/plain": [
       "-20.85156221755982"
      ]
     },
     "execution_count": 154,
     "metadata": {},
     "output_type": "execute_result"
    }
   ],
   "source": [
    "((arpu_test-arpu_control1)/arpu_control1)*100"
   ]
  },
  {
   "cell_type": "code",
   "execution_count": 155,
   "metadata": {},
   "outputs": [],
   "source": [
    "#Наш ARPU упал почти на 21%\n",
    "#Теперь проведем тест, если бы мы не убирали выбросы"
   ]
  },
  {
   "cell_type": "code",
   "execution_count": 156,
   "metadata": {},
   "outputs": [
    {
     "data": {
      "text/plain": [
       "(-343.91938352757825, 0.39105)"
      ]
     },
     "execution_count": 156,
     "metadata": {},
     "output_type": "execute_result"
    }
   ],
   "source": [
    "bootstrap_test(arpu_test_control1[arpu_test_control1['group_x_x']=='test'].total_revenue_x,arpu_test_control1[arpu_test_control1['group_x_x']=='control1'].total_revenue_x)"
   ]
  },
  {
   "cell_type": "code",
   "execution_count": 157,
   "metadata": {},
   "outputs": [],
   "source": [
    "#Как мы видим, не убрав выбросы в наших данных, мы бы потеряли стат.значимые различия в наших ARPU.\n",
    "#Отрабатаем тем же образом с группами test и control2"
   ]
  },
  {
   "cell_type": "code",
   "execution_count": 158,
   "metadata": {},
   "outputs": [],
   "source": [
    "high_quant2=np.quantile(arpu_test_control2.total_revenue_x,0.99)"
   ]
  },
  {
   "cell_type": "code",
   "execution_count": 160,
   "metadata": {},
   "outputs": [],
   "source": [
    "arpu_102=arpu_test_control2[(arpu_test_control2['total_revenue_x']<=high_quant2)]"
   ]
  },
  {
   "cell_type": "code",
   "execution_count": 161,
   "metadata": {},
   "outputs": [
    {
     "data": {
      "text/plain": [
       "(-136.39854765673408, 0.07167)"
      ]
     },
     "execution_count": 161,
     "metadata": {},
     "output_type": "execute_result"
    }
   ],
   "source": [
    "bootstrap_test(arpu_102[arpu_102['group_x_x']=='test'].total_revenue_x,arpu_102[arpu_102['group_x_x']=='control2'].total_revenue_x)"
   ]
  },
  {
   "cell_type": "code",
   "execution_count": 162,
   "metadata": {},
   "outputs": [],
   "source": [
    "#Стат.значимых различий не наблюдается\n",
    "#Вернем в тест выбросы"
   ]
  },
  {
   "cell_type": "code",
   "execution_count": 163,
   "metadata": {},
   "outputs": [
    {
     "data": {
      "text/plain": [
       "(478.9849272724987, 0.00578)"
      ]
     },
     "execution_count": 163,
     "metadata": {},
     "output_type": "execute_result"
    }
   ],
   "source": [
    "bootstrap_test(arpu_test_control2[arpu_test_control2['group_x_x']=='test'].total_revenue_x,arpu_test_control2[arpu_test_control2['group_x_x']=='control2'].total_revenue_x)"
   ]
  },
  {
   "cell_type": "code",
   "execution_count": 164,
   "metadata": {},
   "outputs": [],
   "source": [
    "#Наличиев выбросов в выборке приводит к тому, что у нас появляются стат.значимы различия в ARPU по группам."
   ]
  },
  {
   "cell_type": "code",
   "execution_count": 165,
   "metadata": {},
   "outputs": [],
   "source": [
    "arpu_test2=arpu_102[arpu_102['group_x_x']=='test'].total_revenue_x.sum()/arpu_102[arpu_102['group_x_x']=='test'].uid.count()"
   ]
  },
  {
   "cell_type": "code",
   "execution_count": 166,
   "metadata": {},
   "outputs": [],
   "source": [
    "arpu_control2=arpu_102[arpu_102['group_x_x']=='control2'].total_revenue_x.sum()/arpu_102[arpu_102['group_x_x']=='control2'].uid.count()"
   ]
  },
  {
   "cell_type": "code",
   "execution_count": 167,
   "metadata": {},
   "outputs": [
    {
     "data": {
      "text/plain": [
       "-20.091454797152615"
      ]
     },
     "execution_count": 167,
     "metadata": {},
     "output_type": "execute_result"
    }
   ],
   "source": [
    "((arpu_test2-arpu_control2)/arpu_control2)*100"
   ]
  },
  {
   "cell_type": "code",
   "execution_count": 168,
   "metadata": {},
   "outputs": [],
   "source": [
    "#Добавив выбросы обратно в данные, в тесте появились стат.значимые различия, которые указывают, что ARPU этих выборок\n",
    "#упало на 20%"
   ]
  },
  {
   "cell_type": "code",
   "execution_count": 169,
   "metadata": {},
   "outputs": [],
   "source": [
    "#Теперь расчитаем arppu"
   ]
  },
  {
   "cell_type": "code",
   "execution_count": 170,
   "metadata": {},
   "outputs": [],
   "source": [
    "arppu_test_control1=df_final[(df_final['group_x']=='test')|(df_final['group_x']=='control1')]"
   ]
  },
  {
   "cell_type": "code",
   "execution_count": 171,
   "metadata": {},
   "outputs": [],
   "source": [
    "arppu_test_control1=arppu_test_control1[arppu_test_control1['total_revenue']>0]"
   ]
  },
  {
   "cell_type": "code",
   "execution_count": 172,
   "metadata": {},
   "outputs": [],
   "source": [
    "arppu_test_control2=df_final[(df_final['group_x']=='test')|(df_final['group_x']=='control2')]\n",
    "arppu_test_control2=arppu_test_control2[arppu_test_control2['total_revenue']>0]"
   ]
  },
  {
   "cell_type": "code",
   "execution_count": 173,
   "metadata": {},
   "outputs": [],
   "source": [
    "#Проводим все фильтрации"
   ]
  },
  {
   "cell_type": "code",
   "execution_count": 174,
   "metadata": {},
   "outputs": [
    {
     "name": "stdout",
     "output_type": "stream",
     "text": [
      "Только в тесте: {'Mexico', 'Latvia'}\n",
      "Только в контроле: {'Portugal', 'Australia', 'India', 'Russian Federation'}\n"
     ]
    }
   ],
   "source": [
    "test_countries_arppu1 = set(arppu_test_control1[arppu_test_control1['group_x'] == 'test']['country_x'].unique())\n",
    "control_countries_arppu1 = set(arppu_test_control1[arppu_test_control1['group_x'] == 'control1']['country_x'].unique())\n",
    "\n",
    "only_in_test_arppu1 = test_countries_arppu1 - control_countries_arppu1\n",
    "only_in_control_arppu1 = control_countries_arppu1 - test_countries_arppu1\n",
    "\n",
    "print(\"Только в тесте:\", only_in_test_arppu1)\n",
    "print(\"Только в контроле:\", only_in_control_arppu1)\n",
    "common_countries_arppu1 = test_countries_arppu1 & control_countries_arppu1\n",
    "arppu_test_control1 = arppu_test_control1[arppu_test_control1['country_x'].isin(common_countries_arppu1)]\n",
    "buyers_arppu1=arppu_test_control1[(arppu_test_control1['product_type']=='premium_no_trial') & ((arppu_test_control1['payment_id']==147)|(arppu_test_control1['payment_id']==19)) ]\n",
    "arppu_test_control1=arppu_test_control1.merge(buyers_arppu1,how='left',on='uid')\n",
    "arppu_test_control1=arppu_test_control1[['uid','was_premium_x','is_premium_x','total_revenue_x','joined_at_y','paid_at_y','revenue_y','payment_id_y','product_type_y','group_x_x']]"
   ]
  },
  {
   "cell_type": "code",
   "execution_count": 175,
   "metadata": {},
   "outputs": [],
   "source": [
    "arppu_test_control1=arppu_test_control1[['uid','total_revenue_x','group_x_x']]"
   ]
  },
  {
   "cell_type": "code",
   "execution_count": 176,
   "metadata": {},
   "outputs": [
    {
     "data": {
      "text/html": [
       "<div>\n",
       "<style scoped>\n",
       "    .dataframe tbody tr th:only-of-type {\n",
       "        vertical-align: middle;\n",
       "    }\n",
       "\n",
       "    .dataframe tbody tr th {\n",
       "        vertical-align: top;\n",
       "    }\n",
       "\n",
       "    .dataframe thead th {\n",
       "        text-align: right;\n",
       "    }\n",
       "</style>\n",
       "<table border=\"1\" class=\"dataframe\">\n",
       "  <thead>\n",
       "    <tr style=\"text-align: right;\">\n",
       "      <th></th>\n",
       "      <th>uid</th>\n",
       "      <th>total_revenue_x</th>\n",
       "      <th>group_x_x</th>\n",
       "    </tr>\n",
       "  </thead>\n",
       "  <tbody>\n",
       "    <tr>\n",
       "      <th>0</th>\n",
       "      <td>891152790</td>\n",
       "      <td>12597</td>\n",
       "      <td>test</td>\n",
       "    </tr>\n",
       "    <tr>\n",
       "      <th>1</th>\n",
       "      <td>892333656</td>\n",
       "      <td>897</td>\n",
       "      <td>test</td>\n",
       "    </tr>\n",
       "    <tr>\n",
       "      <th>2</th>\n",
       "      <td>891589239</td>\n",
       "      <td>37817</td>\n",
       "      <td>test</td>\n",
       "    </tr>\n",
       "    <tr>\n",
       "      <th>3</th>\n",
       "      <td>891589239</td>\n",
       "      <td>37817</td>\n",
       "      <td>test</td>\n",
       "    </tr>\n",
       "    <tr>\n",
       "      <th>4</th>\n",
       "      <td>891343671</td>\n",
       "      <td>21580</td>\n",
       "      <td>test</td>\n",
       "    </tr>\n",
       "    <tr>\n",
       "      <th>...</th>\n",
       "      <td>...</td>\n",
       "      <td>...</td>\n",
       "      <td>...</td>\n",
       "    </tr>\n",
       "    <tr>\n",
       "      <th>379</th>\n",
       "      <td>892104267</td>\n",
       "      <td>9087</td>\n",
       "      <td>control1</td>\n",
       "    </tr>\n",
       "    <tr>\n",
       "      <th>380</th>\n",
       "      <td>891131061</td>\n",
       "      <td>10075</td>\n",
       "      <td>control1</td>\n",
       "    </tr>\n",
       "    <tr>\n",
       "      <th>381</th>\n",
       "      <td>891131061</td>\n",
       "      <td>10075</td>\n",
       "      <td>control1</td>\n",
       "    </tr>\n",
       "    <tr>\n",
       "      <th>382</th>\n",
       "      <td>891303210</td>\n",
       "      <td>7553</td>\n",
       "      <td>control1</td>\n",
       "    </tr>\n",
       "    <tr>\n",
       "      <th>383</th>\n",
       "      <td>891303210</td>\n",
       "      <td>7553</td>\n",
       "      <td>control1</td>\n",
       "    </tr>\n",
       "  </tbody>\n",
       "</table>\n",
       "<p>384 rows × 3 columns</p>\n",
       "</div>"
      ],
      "text/plain": [
       "           uid  total_revenue_x group_x_x\n",
       "0    891152790            12597      test\n",
       "1    892333656              897      test\n",
       "2    891589239            37817      test\n",
       "3    891589239            37817      test\n",
       "4    891343671            21580      test\n",
       "..         ...              ...       ...\n",
       "379  892104267             9087  control1\n",
       "380  891131061            10075  control1\n",
       "381  891131061            10075  control1\n",
       "382  891303210             7553  control1\n",
       "383  891303210             7553  control1\n",
       "\n",
       "[384 rows x 3 columns]"
      ]
     },
     "execution_count": 176,
     "metadata": {},
     "output_type": "execute_result"
    }
   ],
   "source": [
    "arppu_test_control1"
   ]
  },
  {
   "cell_type": "code",
   "execution_count": 177,
   "metadata": {},
   "outputs": [
    {
     "name": "stdout",
     "output_type": "stream",
     "text": [
      "Только в тесте: {'Mexico', 'Latvia'}\n",
      "Только в контроле: {'Portugal', 'Ukraine', 'Australia'}\n"
     ]
    }
   ],
   "source": [
    "test_countries_arppu2 = set(arppu_test_control2[arppu_test_control2['group_x'] == 'test']['country_x'].unique())\n",
    "control_countries_arppu2 = set(arppu_test_control2[arppu_test_control2['group_x'] == 'control2']['country_x'].unique())\n",
    "\n",
    "only_in_test_arppu2 = test_countries_arppu2 - control_countries_arppu2\n",
    "only_in_control_arppu2 = control_countries_arppu2 - test_countries_arppu2\n",
    "\n",
    "print(\"Только в тесте:\", only_in_test_arppu2)\n",
    "print(\"Только в контроле:\", only_in_control_arppu2)\n",
    "common_countries_arppu2 = test_countries_arppu2 & control_countries_arppu2\n",
    "arppu_test_control2 = arppu_test_control2[arppu_test_control2['country_x'].isin(common_countries_arppu2)]\n",
    "buyers_arppu2=arppu_test_control2[(arppu_test_control2['product_type']=='premium_no_trial') & ((arppu_test_control2['payment_id']==147)|(arppu_test_control2['payment_id']==19)) ]\n",
    "arppu_test_control2=arppu_test_control2.merge(buyers_arppu2,how='left',on='uid')\n",
    "arppu_test_control2=arppu_test_control2[['uid','was_premium_x','is_premium_x','total_revenue_x','joined_at_y','paid_at_y','revenue_y','payment_id_y','product_type_y','group_x_x']]"
   ]
  },
  {
   "cell_type": "code",
   "execution_count": 178,
   "metadata": {},
   "outputs": [],
   "source": [
    "arppu_test_control2=arppu_test_control2[['uid','total_revenue_x','group_x_x']]"
   ]
  },
  {
   "cell_type": "code",
   "execution_count": 179,
   "metadata": {},
   "outputs": [
    {
     "data": {
      "text/html": [
       "<div>\n",
       "<style scoped>\n",
       "    .dataframe tbody tr th:only-of-type {\n",
       "        vertical-align: middle;\n",
       "    }\n",
       "\n",
       "    .dataframe tbody tr th {\n",
       "        vertical-align: top;\n",
       "    }\n",
       "\n",
       "    .dataframe thead th {\n",
       "        text-align: right;\n",
       "    }\n",
       "</style>\n",
       "<table border=\"1\" class=\"dataframe\">\n",
       "  <thead>\n",
       "    <tr style=\"text-align: right;\">\n",
       "      <th></th>\n",
       "      <th>uid</th>\n",
       "      <th>total_revenue_x</th>\n",
       "      <th>group_x_x</th>\n",
       "    </tr>\n",
       "  </thead>\n",
       "  <tbody>\n",
       "    <tr>\n",
       "      <th>0</th>\n",
       "      <td>891152790</td>\n",
       "      <td>12597</td>\n",
       "      <td>test</td>\n",
       "    </tr>\n",
       "    <tr>\n",
       "      <th>1</th>\n",
       "      <td>892333656</td>\n",
       "      <td>897</td>\n",
       "      <td>test</td>\n",
       "    </tr>\n",
       "    <tr>\n",
       "      <th>2</th>\n",
       "      <td>891589239</td>\n",
       "      <td>37817</td>\n",
       "      <td>test</td>\n",
       "    </tr>\n",
       "    <tr>\n",
       "      <th>3</th>\n",
       "      <td>891589239</td>\n",
       "      <td>37817</td>\n",
       "      <td>test</td>\n",
       "    </tr>\n",
       "    <tr>\n",
       "      <th>4</th>\n",
       "      <td>891343671</td>\n",
       "      <td>21580</td>\n",
       "      <td>test</td>\n",
       "    </tr>\n",
       "    <tr>\n",
       "      <th>...</th>\n",
       "      <td>...</td>\n",
       "      <td>...</td>\n",
       "      <td>...</td>\n",
       "    </tr>\n",
       "    <tr>\n",
       "      <th>354</th>\n",
       "      <td>892385232</td>\n",
       "      <td>6292</td>\n",
       "      <td>control2</td>\n",
       "    </tr>\n",
       "    <tr>\n",
       "      <th>355</th>\n",
       "      <td>891333651</td>\n",
       "      <td>1456</td>\n",
       "      <td>control2</td>\n",
       "    </tr>\n",
       "    <tr>\n",
       "      <th>356</th>\n",
       "      <td>891333651</td>\n",
       "      <td>1456</td>\n",
       "      <td>control2</td>\n",
       "    </tr>\n",
       "    <tr>\n",
       "      <th>357</th>\n",
       "      <td>891452592</td>\n",
       "      <td>15626</td>\n",
       "      <td>control2</td>\n",
       "    </tr>\n",
       "    <tr>\n",
       "      <th>358</th>\n",
       "      <td>891452592</td>\n",
       "      <td>15626</td>\n",
       "      <td>control2</td>\n",
       "    </tr>\n",
       "  </tbody>\n",
       "</table>\n",
       "<p>359 rows × 3 columns</p>\n",
       "</div>"
      ],
      "text/plain": [
       "           uid  total_revenue_x group_x_x\n",
       "0    891152790            12597      test\n",
       "1    892333656              897      test\n",
       "2    891589239            37817      test\n",
       "3    891589239            37817      test\n",
       "4    891343671            21580      test\n",
       "..         ...              ...       ...\n",
       "354  892385232             6292  control2\n",
       "355  891333651             1456  control2\n",
       "356  891333651             1456  control2\n",
       "357  891452592            15626  control2\n",
       "358  891452592            15626  control2\n",
       "\n",
       "[359 rows x 3 columns]"
      ]
     },
     "execution_count": 179,
     "metadata": {},
     "output_type": "execute_result"
    }
   ],
   "source": [
    "arppu_test_control2"
   ]
  },
  {
   "cell_type": "code",
   "execution_count": 180,
   "metadata": {},
   "outputs": [
    {
     "data": {
      "text/plain": [
       "<seaborn.axisgrid.FacetGrid at 0x7f44d667aeb8>"
      ]
     },
     "execution_count": 180,
     "metadata": {},
     "output_type": "execute_result"
    },
    {
     "data": {
      "image/png": "[encoded data removed]",
      "text/plain": [
       "<Figure size 360x360 with 1 Axes>"
      ]
     },
     "metadata": {
      "needs_background": "light"
     },
     "output_type": "display_data"
    }
   ],
   "source": [
    "sns.displot(arppu_test_control1[arppu_test_control1['group_x_x']=='test'].total_revenue_x)"
   ]
  },
  {
   "cell_type": "code",
   "execution_count": 181,
   "metadata": {},
   "outputs": [
    {
     "data": {
      "text/plain": [
       "<seaborn.axisgrid.FacetGrid at 0x7f44d63b7cf8>"
      ]
     },
     "execution_count": 181,
     "metadata": {},
     "output_type": "execute_result"
    },
    {
     "data": {
      "image/png": "[encoded data removed]",
      "text/plain": [
       "<Figure size 360x360 with 1 Axes>"
      ]
     },
     "metadata": {
      "needs_background": "light"
     },
     "output_type": "display_data"
    }
   ],
   "source": [
    "sns.displot(arppu_test_control1[arppu_test_control1['group_x_x']=='control1'].total_revenue_x)"
   ]
  },
  {
   "cell_type": "code",
   "execution_count": 182,
   "metadata": {},
   "outputs": [
    {
     "data": {
      "text/plain": [
       "<seaborn.axisgrid.FacetGrid at 0x7f44d66cacf8>"
      ]
     },
     "execution_count": 182,
     "metadata": {},
     "output_type": "execute_result"
    },
    {
     "data": {
      "image/png": "[encoded data removed]",
      "text/plain": [
       "<Figure size 360x360 with 1 Axes>"
      ]
     },
     "metadata": {
      "needs_background": "light"
     },
     "output_type": "display_data"
    }
   ],
   "source": [
    "sns.displot(arppu_test_control2[arppu_test_control2['group_x_x']=='control2'].total_revenue_x)"
   ]
  },
  {
   "cell_type": "code",
   "execution_count": 183,
   "metadata": {},
   "outputs": [],
   "source": [
    "#Также избавимся от выбросов, но позже вернемся к ним"
   ]
  },
  {
   "cell_type": "code",
   "execution_count": 184,
   "metadata": {},
   "outputs": [],
   "source": [
    "high_quant_arppu=np.quantile(arppu_test_control1.total_revenue_x,0.99)"
   ]
  },
  {
   "cell_type": "code",
   "execution_count": 185,
   "metadata": {},
   "outputs": [],
   "source": [
    "arppu_101=arppu_test_control1[(arppu_test_control1['total_revenue_x']<=high_quant_arppu)]"
   ]
  },
  {
   "cell_type": "code",
   "execution_count": 186,
   "metadata": {},
   "outputs": [
    {
     "data": {
      "text/plain": [
       "(8925.735175202157, 0.0)"
      ]
     },
     "execution_count": 186,
     "metadata": {},
     "output_type": "execute_result"
    }
   ],
   "source": [
    "bootstrap_test(arppu_101[arppu_101['group_x_x']=='test'].total_revenue_x,arppu_101[arppu_101['group_x_x']=='control1'].total_revenue_x)"
   ]
  },
  {
   "cell_type": "code",
   "execution_count": 187,
   "metadata": {},
   "outputs": [],
   "source": [
    "#Наблюдаем стат.значимые различия, посмотрим в какую сторону"
   ]
  },
  {
   "cell_type": "code",
   "execution_count": 188,
   "metadata": {},
   "outputs": [],
   "source": [
    "arppu_test=arppu_101[arppu_101['group_x_x']=='test'].total_revenue_x.sum()/arppu_101[arppu_101['group_x_x']=='test'].uid.count()"
   ]
  },
  {
   "cell_type": "code",
   "execution_count": 189,
   "metadata": {},
   "outputs": [],
   "source": [
    "arppu_control1=arppu_101[arppu_101['group_x_x']=='control1'].total_revenue_x.sum()/arppu_101[arppu_101['group_x_x']=='control1'].uid.count()"
   ]
  },
  {
   "cell_type": "code",
   "execution_count": 190,
   "metadata": {},
   "outputs": [
    {
     "data": {
      "text/plain": [
       "66.8234329655195"
      ]
     },
     "execution_count": 190,
     "metadata": {},
     "output_type": "execute_result"
    }
   ],
   "source": [
    "((arppu_test-arppu_control1)/arppu_control1)*100"
   ]
  },
  {
   "cell_type": "code",
   "execution_count": 191,
   "metadata": {},
   "outputs": [],
   "source": [
    "#Наша метрика выросла почти на 66%"
   ]
  },
  {
   "cell_type": "code",
   "execution_count": 192,
   "metadata": {},
   "outputs": [],
   "source": [
    "#Вернем выбросы и проведем тест с ним"
   ]
  },
  {
   "cell_type": "code",
   "execution_count": 193,
   "metadata": {},
   "outputs": [
    {
     "data": {
      "text/plain": [
       "(166.97949735449947, 0.97593)"
      ]
     },
     "execution_count": 193,
     "metadata": {},
     "output_type": "execute_result"
    }
   ],
   "source": [
    "bootstrap_test(arppu_test_control1[arppu_test_control1['group_x_x']=='test'].total_revenue_x,arppu_test_control1[arppu_test_control1['group_x_x']=='control1'].total_revenue_x)"
   ]
  },
  {
   "cell_type": "code",
   "execution_count": 194,
   "metadata": {},
   "outputs": [],
   "source": [
    "#Стат.значимых различий не наблюдаем"
   ]
  },
  {
   "cell_type": "code",
   "execution_count": 195,
   "metadata": {},
   "outputs": [],
   "source": [
    "#Проработаем выборки test и control2"
   ]
  },
  {
   "cell_type": "code",
   "execution_count": 196,
   "metadata": {},
   "outputs": [],
   "source": [
    "high_quant_arppu2=np.quantile(arppu_test_control2.total_revenue_x,0.99)"
   ]
  },
  {
   "cell_type": "code",
   "execution_count": 197,
   "metadata": {},
   "outputs": [],
   "source": [
    "arppu_102=arppu_test_control2[(arppu_test_control2['total_revenue_x']<=high_quant_arppu2)]"
   ]
  },
  {
   "cell_type": "code",
   "execution_count": 198,
   "metadata": {},
   "outputs": [
    {
     "data": {
      "text/plain": [
       "(8567.721465968585, 0.0)"
      ]
     },
     "execution_count": 198,
     "metadata": {},
     "output_type": "execute_result"
    }
   ],
   "source": [
    "bootstrap_test(arppu_102[arppu_102['group_x_x']=='test'].total_revenue_x,arppu_102[arppu_102['group_x_x']=='control2'].total_revenue_x)"
   ]
  },
  {
   "cell_type": "code",
   "execution_count": 199,
   "metadata": {},
   "outputs": [],
   "source": [
    "#Наблюдаем стат.значимые различия, посчитаем как изменилась наша метрика"
   ]
  },
  {
   "cell_type": "code",
   "execution_count": 200,
   "metadata": {},
   "outputs": [],
   "source": [
    "arppu_test2=arppu_102[arppu_102['group_x_x']=='test'].total_revenue_x.sum()/arppu_102[arppu_102['group_x_x']=='test'].uid.count()\n",
    "arppu_control2=arppu_102[arppu_102['group_x_x']=='control2'].total_revenue_x.sum()/arppu_102[arppu_102['group_x_x']=='control2'].uid.count()"
   ]
  },
  {
   "cell_type": "code",
   "execution_count": 201,
   "metadata": {},
   "outputs": [
    {
     "data": {
      "text/plain": [
       "72.86048342285608"
      ]
     },
     "execution_count": 201,
     "metadata": {},
     "output_type": "execute_result"
    }
   ],
   "source": [
    "((arppu_test2-arppu_control2)/arppu_control2)*100"
   ]
  },
  {
   "cell_type": "code",
   "execution_count": 202,
   "metadata": {},
   "outputs": [],
   "source": [
    "#Наша метрика значительно выросла на 73%\n",
    "#Проверим, что произойдет, если вернем выбросы"
   ]
  },
  {
   "cell_type": "code",
   "execution_count": 203,
   "metadata": {},
   "outputs": [
    {
     "data": {
      "text/plain": [
       "(10523.850037397158, 0.0)"
      ]
     },
     "execution_count": 203,
     "metadata": {},
     "output_type": "execute_result"
    }
   ],
   "source": [
    "bootstrap_test(arppu_test_control2[arppu_test_control2['group_x_x']=='test'].total_revenue_x,arppu_test_control2[arppu_test_control2['group_x_x']=='control2'].total_revenue_x)"
   ]
  },
  {
   "cell_type": "code",
   "execution_count": 204,
   "metadata": {},
   "outputs": [],
   "source": [
    "#Также надлюдаем стат.значимые различия, проверим изменение метрики"
   ]
  },
  {
   "cell_type": "code",
   "execution_count": 205,
   "metadata": {},
   "outputs": [],
   "source": [
    "arppu_test2_er=arppu_test_control2[arppu_test_control2['group_x_x']=='test'].total_revenue_x.sum()/arppu_test_control2[arppu_test_control2['group_x_x']=='test'].uid.count()\n",
    "arppu_control2_er=arppu_test_control2[arppu_test_control2['group_x_x']=='control2'].total_revenue_x.sum()/arppu_test_control2[arppu_test_control2['group_x_x']=='control2'].uid.count()"
   ]
  },
  {
   "cell_type": "code",
   "execution_count": 206,
   "metadata": {},
   "outputs": [
    {
     "data": {
      "text/plain": [
       "89.49553323366762"
      ]
     },
     "execution_count": 206,
     "metadata": {},
     "output_type": "execute_result"
    }
   ],
   "source": [
    "((arppu_test2_er-arppu_control2_er)/arppu_control2_er)*100"
   ]
  },
  {
   "cell_type": "code",
   "execution_count": 207,
   "metadata": {},
   "outputs": [],
   "source": [
    "#ARPPU выросла на 89%"
   ]
  },
  {
   "cell_type": "code",
   "execution_count": 208,
   "metadata": {},
   "outputs": [],
   "source": [
    "#В рамках эксперимента сравнивались тестовая и две контрольные группы по ключевым метрикам:\n",
    "#Conversion Rate (CR) (хи квадрат) ,(ARPPU) (пермутационный тест) и (ARPU) (пермутационный тест).\n",
    "#Данные анализировались как с выбросами, так и без них.\n"
   ]
  },
  {
   "cell_type": "code",
   "execution_count": 209,
   "metadata": {},
   "outputs": [],
   "source": [
    "#Результаты:\n",
    " #1. Conversion Rate\n",
    " #• Между тестовой и контрольной №1 — статистически значимых различий не выявлено.\n",
    " #• Между тестовой и контрольной №2 — статистически значимые различия: CR тестовой группы снизился на 33%.\n",
    " #2. ARPU\n",
    " #• Между тестовой и контрольной №1 — различия статистически незначимы, снижение на 21%, при добавление выбросов наличие различий\n",
    "    # не выявлено.\n",
    " #• Между тестовой и контрольной №2 — статистически значимые различия не выявлено (без выбросов).\n",
    "    #При включении выбросов значимость появляется, падение метрики примерно на 20%.\n",
    " #3. ARPPU\n",
    " #• Между тестовой и контрольной №1 — без выбросов статистически значимые различия, рост на 66%.\n",
    "    #С выбросами различия незначимы.\n",
    " #• Между тестовой и контрольной №2 — без выбросов рост на 73%, с выбросами рост на 89%."
   ]
  },
  {
   "cell_type": "code",
   "execution_count": 210,
   "metadata": {},
   "outputs": [],
   "source": [
    "#Несмотря на рост ARPPU, эксперимент сопровождался значительным снижением CR и ARPU, что негативно сказывается на общей выручке.\n",
    "#Введение изменений, протестированных в рамках данного A/B-теста, нецелесообразно."
   ]
  },
  {
   "cell_type": "code",
   "execution_count": null,
   "metadata": {},
   "outputs": [],
   "source": []
  }
 ],
 "metadata": {
  "kernelspec": {
   "display_name": "Python 3",
   "language": "python",
   "name": "python3"
  },
  "language_info": {
   "codemirror_mode": {
    "name": "ipython",
    "version": 3
   },
   "file_extension": ".py",
   "mimetype": "text/x-python",
   "name": "python",
   "nbconvert_exporter": "python",
   "pygments_lexer": "ipython3",
   "version": "3.7.3"
  }
 },
 "nbformat": 4,
 "nbformat_minor": 4
}
